{
  "nbformat": 4,
  "nbformat_minor": 0,
  "metadata": {
    "colab": {
      "name": "Parte_2_Projeto_Prouni_CD.ipynb",
      "provenance": [],
      "collapsed_sections": [
        "MtlObMy919Mu",
        "aHWc9QSG2iko",
        "wJ7dhjeIVRn6"
      ],
      "toc_visible": true
    },
    "kernelspec": {
      "name": "python3",
      "display_name": "Python 3"
    },
    "language_info": {
      "name": "python"
    }
  },
  "cells": [
    {
      "cell_type": "markdown",
      "metadata": {
        "id": "MtlObMy919Mu"
      },
      "source": [
        "## Coletar de dados"
      ]
    },
    {
      "cell_type": "code",
      "metadata": {
        "id": "cBXZthzDqFnM",
        "colab": {
          "base_uri": "https://localhost:8080/"
        },
        "outputId": "e90775dd-85b6-4fbe-fd2d-51835df70d53"
      },
      "source": [
        "import numpy as np\n",
        "import pandas as pd\n",
        "from scipy import stats\n",
        "import matplotlib.pyplot as plt\n",
        "from datetime import datetime\n",
        "from math import log\n",
        " \n",
        "# from matplotlib import pyplot as plt\n",
        "# from ggplot import *\n",
        " \n",
        "from sklearn.model_selection import train_test_split\n",
        "import seaborn as sns\n",
        " \n",
        "from bokeh.plotting import figure, show\n",
        "from bokeh.io import output_notebook\n",
        "from bokeh.palettes import Spectral6\n",
        "from bokeh.plotting import figure\n",
        "from bokeh.transform import factor_cmap\n",
        "from bokeh.models import ColumnDataSource\n",
        "\n",
        " \n",
        "# import plotly.plotly as py\n",
        "import plotly.graph_objs as go\n",
        "\n",
        "#Set date format\n",
        "to_datetime = lambda d: datetime.strptime(d, '%d/%m/%Y')\n",
        "\n",
        "#Define fields data type\n",
        "df2019type = {'ANO_CONCESSAO_BOLSA': 'int64', 'CODIGO_EMEC_IES_BOLSA':'int64','NOME_IES_BOLSA': 'category', 'NOME_IES_BOLSA': 'category', 'NOME_IES_BOLSA': 'category','TIPO_BOLSA':'category','MODALIDADE_ENSINO_BOLSA':'category','NOME_CURSO_BOLSA':'category','NOME_TURNO_CURSO_BOLSA':'category','CPF_BENEFICIARIO_BOLSA':'category','SEXO_BENEFICIARIO_BOLSA':'category','RACA_BENEFICIARIO_BOLSA':'category','BENEFICIARIO_DEFICIENTE_FISICO':'category','REGIAO_BENEFICIARIO_BOLSA':'category','SIGLA_UF_BENEFICIARIO_BOLSA':'category','MUNICIPIO_BENEFICIARIO_BOLSA':'category','Código da IES':'category','Nome da IES':'category','Sigla da IES':'category','Organização Acadêmica':'category','Categoria Administrativa':'category','Município do Curso':'category','Sigla da UF':'category','Conceito Enade (Contínuo)': 'float64','Conceito Enade (Faixa)':'category'}\n",
        "\n",
        "#Load data from csv files on github\n",
        "df=pd.read_csv(\"https://raw.githubusercontent.com/godsavemenow/iesData/master/agregateddataenade2019.csv\", dtype = df2019type, converters= {'DT_NASCIMENTO_BENEFICIARIO': to_datetime}, engine= 'python', delimiter=';', decimal = ',')\n",
        "\n",
        "print(df.dtypes)\n",
        "df.head()\n"
      ],
      "execution_count": null,
      "outputs": [
        {
          "output_type": "stream",
          "text": [
            "ANO_CONCESSAO_BOLSA                        int64\n",
            "CODIGO_EMEC_IES_BOLSA                      int64\n",
            "NOME_IES_BOLSA                          category\n",
            "TIPO_BOLSA                              category\n",
            "MODALIDADE_ENSINO_BOLSA                 category\n",
            "NOME_CURSO_BOLSA                        category\n",
            "NOME_TURNO_CURSO_BOLSA                  category\n",
            "CPF_BENEFICIARIO_BOLSA                  category\n",
            "SEXO_BENEFICIARIO_BOLSA                 category\n",
            "RACA_BENEFICIARIO_BOLSA                 category\n",
            "DT_NASCIMENTO_BENEFICIARIO        datetime64[ns]\n",
            "BENEFICIARIO_DEFICIENTE_FISICO          category\n",
            "REGIAO_BENEFICIARIO_BOLSA               category\n",
            "SIGLA_UF_BENEFICIARIO_BOLSA             category\n",
            "MUNICIPIO_BENEFICIARIO_BOLSA            category\n",
            "Código da IES                           category\n",
            "Nome da IES                             category\n",
            "Sigla da IES                            category\n",
            "Organização Acadêmica                   category\n",
            "Categoria Administrativa                category\n",
            "Município do Curso                      category\n",
            "Sigla da UF                             category\n",
            "Conceito Enade (Contínuo)                float64\n",
            "Conceito Enade (Faixa)                  category\n",
            "dtype: object\n"
          ],
          "name": "stdout"
        },
        {
          "output_type": "execute_result",
          "data": {
            "text/html": [
              "<div>\n",
              "<style scoped>\n",
              "    .dataframe tbody tr th:only-of-type {\n",
              "        vertical-align: middle;\n",
              "    }\n",
              "\n",
              "    .dataframe tbody tr th {\n",
              "        vertical-align: top;\n",
              "    }\n",
              "\n",
              "    .dataframe thead th {\n",
              "        text-align: right;\n",
              "    }\n",
              "</style>\n",
              "<table border=\"1\" class=\"dataframe\">\n",
              "  <thead>\n",
              "    <tr style=\"text-align: right;\">\n",
              "      <th></th>\n",
              "      <th>ANO_CONCESSAO_BOLSA</th>\n",
              "      <th>CODIGO_EMEC_IES_BOLSA</th>\n",
              "      <th>NOME_IES_BOLSA</th>\n",
              "      <th>TIPO_BOLSA</th>\n",
              "      <th>MODALIDADE_ENSINO_BOLSA</th>\n",
              "      <th>NOME_CURSO_BOLSA</th>\n",
              "      <th>NOME_TURNO_CURSO_BOLSA</th>\n",
              "      <th>CPF_BENEFICIARIO_BOLSA</th>\n",
              "      <th>SEXO_BENEFICIARIO_BOLSA</th>\n",
              "      <th>RACA_BENEFICIARIO_BOLSA</th>\n",
              "      <th>DT_NASCIMENTO_BENEFICIARIO</th>\n",
              "      <th>BENEFICIARIO_DEFICIENTE_FISICO</th>\n",
              "      <th>REGIAO_BENEFICIARIO_BOLSA</th>\n",
              "      <th>SIGLA_UF_BENEFICIARIO_BOLSA</th>\n",
              "      <th>MUNICIPIO_BENEFICIARIO_BOLSA</th>\n",
              "      <th>Código da IES</th>\n",
              "      <th>Nome da IES</th>\n",
              "      <th>Sigla da IES</th>\n",
              "      <th>Organização Acadêmica</th>\n",
              "      <th>Categoria Administrativa</th>\n",
              "      <th>Município do Curso</th>\n",
              "      <th>Sigla da UF</th>\n",
              "      <th>Conceito Enade (Contínuo)</th>\n",
              "      <th>Conceito Enade (Faixa)</th>\n",
              "    </tr>\n",
              "  </thead>\n",
              "  <tbody>\n",
              "    <tr>\n",
              "      <th>0</th>\n",
              "      <td>2019</td>\n",
              "      <td>10</td>\n",
              "      <td>PONTIFÍCIA UNIVERSIDADE CATÓLICA DO PARANÁ</td>\n",
              "      <td>BOLSA INTEGRAL</td>\n",
              "      <td>EAD</td>\n",
              "      <td>Administração</td>\n",
              "      <td>Curso a distância</td>\n",
              "      <td>***03183970**</td>\n",
              "      <td>M</td>\n",
              "      <td>Branca</td>\n",
              "      <td>1993-08-19</td>\n",
              "      <td>N</td>\n",
              "      <td>Sul</td>\n",
              "      <td>PR</td>\n",
              "      <td>LONDRINA</td>\n",
              "      <td>10</td>\n",
              "      <td>PONTIFÍCIA UNIVERSIDADE CATÓLICA DO PARANÁ</td>\n",
              "      <td>PUCPR</td>\n",
              "      <td>Universidade</td>\n",
              "      <td>Privada sem fins lucrativos</td>\n",
              "      <td>Curitiba</td>\n",
              "      <td>PR</td>\n",
              "      <td>3.6396</td>\n",
              "      <td>4</td>\n",
              "    </tr>\n",
              "    <tr>\n",
              "      <th>1</th>\n",
              "      <td>2019</td>\n",
              "      <td>10</td>\n",
              "      <td>PONTIFÍCIA UNIVERSIDADE CATÓLICA DO PARANÁ</td>\n",
              "      <td>BOLSA INTEGRAL</td>\n",
              "      <td>EAD</td>\n",
              "      <td>Administração</td>\n",
              "      <td>Curso a distância</td>\n",
              "      <td>***92848904**</td>\n",
              "      <td>F</td>\n",
              "      <td>Branca</td>\n",
              "      <td>1999-11-03</td>\n",
              "      <td>N</td>\n",
              "      <td>Sul</td>\n",
              "      <td>PR</td>\n",
              "      <td>SAO JOSE DOS PINHAIS</td>\n",
              "      <td>10</td>\n",
              "      <td>PONTIFÍCIA UNIVERSIDADE CATÓLICA DO PARANÁ</td>\n",
              "      <td>PUCPR</td>\n",
              "      <td>Universidade</td>\n",
              "      <td>Privada sem fins lucrativos</td>\n",
              "      <td>Curitiba</td>\n",
              "      <td>PR</td>\n",
              "      <td>3.6396</td>\n",
              "      <td>4</td>\n",
              "    </tr>\n",
              "    <tr>\n",
              "      <th>2</th>\n",
              "      <td>2019</td>\n",
              "      <td>10</td>\n",
              "      <td>PONTIFÍCIA UNIVERSIDADE CATÓLICA DO PARANÁ</td>\n",
              "      <td>BOLSA INTEGRAL</td>\n",
              "      <td>EAD</td>\n",
              "      <td>Análise E Desenvolvimento De Sistemas</td>\n",
              "      <td>Curso a distância</td>\n",
              "      <td>***12457929**</td>\n",
              "      <td>M</td>\n",
              "      <td>Parda</td>\n",
              "      <td>1999-04-02</td>\n",
              "      <td>N</td>\n",
              "      <td>Sul</td>\n",
              "      <td>PR</td>\n",
              "      <td>QUATRO BARRAS</td>\n",
              "      <td>10</td>\n",
              "      <td>PONTIFÍCIA UNIVERSIDADE CATÓLICA DO PARANÁ</td>\n",
              "      <td>PUCPR</td>\n",
              "      <td>Universidade</td>\n",
              "      <td>Privada sem fins lucrativos</td>\n",
              "      <td>Curitiba</td>\n",
              "      <td>PR</td>\n",
              "      <td>3.6396</td>\n",
              "      <td>4</td>\n",
              "    </tr>\n",
              "    <tr>\n",
              "      <th>3</th>\n",
              "      <td>2019</td>\n",
              "      <td>10</td>\n",
              "      <td>PONTIFÍCIA UNIVERSIDADE CATÓLICA DO PARANÁ</td>\n",
              "      <td>BOLSA INTEGRAL</td>\n",
              "      <td>EAD</td>\n",
              "      <td>Análise E Desenvolvimento De Sistemas</td>\n",
              "      <td>Curso a distância</td>\n",
              "      <td>***21386908**</td>\n",
              "      <td>M</td>\n",
              "      <td>Branca</td>\n",
              "      <td>2000-03-15</td>\n",
              "      <td>N</td>\n",
              "      <td>Sul</td>\n",
              "      <td>PR</td>\n",
              "      <td>CURITIBA</td>\n",
              "      <td>10</td>\n",
              "      <td>PONTIFÍCIA UNIVERSIDADE CATÓLICA DO PARANÁ</td>\n",
              "      <td>PUCPR</td>\n",
              "      <td>Universidade</td>\n",
              "      <td>Privada sem fins lucrativos</td>\n",
              "      <td>Curitiba</td>\n",
              "      <td>PR</td>\n",
              "      <td>3.6396</td>\n",
              "      <td>4</td>\n",
              "    </tr>\n",
              "    <tr>\n",
              "      <th>4</th>\n",
              "      <td>2019</td>\n",
              "      <td>10</td>\n",
              "      <td>PONTIFÍCIA UNIVERSIDADE CATÓLICA DO PARANÁ</td>\n",
              "      <td>BOLSA INTEGRAL</td>\n",
              "      <td>EAD</td>\n",
              "      <td>Análise E Desenvolvimento De Sistemas</td>\n",
              "      <td>Curso a distância</td>\n",
              "      <td>***27405933**</td>\n",
              "      <td>M</td>\n",
              "      <td>Branca</td>\n",
              "      <td>1993-05-23</td>\n",
              "      <td>N</td>\n",
              "      <td>Sul</td>\n",
              "      <td>PR</td>\n",
              "      <td>SAO JOSE DOS PINHAIS</td>\n",
              "      <td>10</td>\n",
              "      <td>PONTIFÍCIA UNIVERSIDADE CATÓLICA DO PARANÁ</td>\n",
              "      <td>PUCPR</td>\n",
              "      <td>Universidade</td>\n",
              "      <td>Privada sem fins lucrativos</td>\n",
              "      <td>Curitiba</td>\n",
              "      <td>PR</td>\n",
              "      <td>3.6396</td>\n",
              "      <td>4</td>\n",
              "    </tr>\n",
              "  </tbody>\n",
              "</table>\n",
              "</div>"
            ],
            "text/plain": [
              "   ANO_CONCESSAO_BOLSA  ...  Conceito Enade (Faixa)\n",
              "0                 2019  ...                       4\n",
              "1                 2019  ...                       4\n",
              "2                 2019  ...                       4\n",
              "3                 2019  ...                       4\n",
              "4                 2019  ...                       4\n",
              "\n",
              "[5 rows x 24 columns]"
            ]
          },
          "metadata": {
            "tags": []
          },
          "execution_count": 134
        }
      ]
    },
    {
      "cell_type": "markdown",
      "metadata": {
        "id": "aHWc9QSG2iko"
      },
      "source": [
        "## Realizar pré-processamento dos dados \n",
        "\n"
      ]
    },
    {
      "cell_type": "markdown",
      "metadata": {
        "id": "lJVRdjqqVQY0"
      },
      "source": [
        "\n",
        "\n",
        "### – Definição de\ttipos \n",
        "Essa etapa foi feita no bloco de código anterior, antes de subir os dados, pois fazê-lo depois consumiria muito da RAM da plataforma. Mas ainda iremos adiconar mais uma coluna aqui para saber a região das instituições, já que temos a região dos beneficiários, pode ser proveitosa essa informação. E setaremos mais um tipo categórico. Adicionaremos também uma coluna com a idade calculada.\n",
        "\n",
        "\n"
      ]
    },
    {
      "cell_type": "code",
      "metadata": {
        "id": "kEnCWiHlpZ0P"
      },
      "source": [
        "# Adicionando coluna REGIAO_IES\n",
        "df['REGIAO_IES'] = 'null'\n"
      ],
      "execution_count": null,
      "outputs": []
    },
    {
      "cell_type": "code",
      "metadata": {
        "id": "yGQNMV1Hphew"
      },
      "source": [
        "#Mapeamento entre UF e Região\n",
        "df.loc[(df['Sigla da UF'] == 'RS'),'REGIAO_IES'] = 'Sul'\n",
        "df.loc[(df['Sigla da UF'] == 'PR'),'REGIAO_IES'] = 'Sul'\n",
        "df.loc[(df['Sigla da UF'] == 'SC'),'REGIAO_IES'] = 'Sul'\n",
        "df.loc[(df['Sigla da UF'] == 'SP'),'REGIAO_IES'] = 'Sudeste'\n",
        "df.loc[(df['Sigla da UF'] == 'MG'),'REGIAO_IES'] = 'Sudeste'\n",
        "df.loc[(df['Sigla da UF'] == 'RJ'),'REGIAO_IES'] = 'Sudeste'\n",
        "df.loc[(df['Sigla da UF'] == 'ES'),'REGIAO_IES'] = 'Sudeste'\n",
        "df.loc[(df['Sigla da UF'] == 'MT'),'REGIAO_IES'] = 'Centro-Oeste'\n",
        "df.loc[(df['Sigla da UF'] == 'MS'),'REGIAO_IES'] = 'Centro-Oeste'\n",
        "df.loc[(df['Sigla da UF'] == 'GO'),'REGIAO_IES'] = 'Centro-Oeste'\n",
        "df.loc[(df['Sigla da UF'] == 'DF'),'REGIAO_IES'] = 'Centro-Oeste'\n",
        "df.loc[(df['Sigla da UF'] == 'RR'),'REGIAO_IES'] = 'Norte'\n",
        "df.loc[(df['Sigla da UF'] == 'AM'),'REGIAO_IES'] = 'Norte'\n",
        "df.loc[(df['Sigla da UF'] == 'AC'),'REGIAO_IES'] = 'Norte'\n",
        "df.loc[(df['Sigla da UF'] == 'RO'),'REGIAO_IES'] = 'Norte'\n",
        "df.loc[(df['Sigla da UF'] == 'AP'),'REGIAO_IES'] = 'Norte'\n",
        "df.loc[(df['Sigla da UF'] == 'TO'),'REGIAO_IES'] = 'Norte'\n",
        "df.loc[(df['Sigla da UF'] == 'PA'),'REGIAO_IES'] = 'Norte'\n",
        "df.loc[(df['Sigla da UF'] == 'BA'),'REGIAO_IES'] = 'Nordeste'\n",
        "df.loc[(df['Sigla da UF'] == 'PE'),'REGIAO_IES'] = 'Nordeste'\n",
        "df.loc[(df['Sigla da UF'] == 'RN'),'REGIAO_IES'] = 'Nordeste'\n",
        "df.loc[(df['Sigla da UF'] == 'CE'),'REGIAO_IES'] = 'Nordeste'\n",
        "df.loc[(df['Sigla da UF'] == 'AL'),'REGIAO_IES'] = 'Nordeste'\n",
        "df.loc[(df['Sigla da UF'] == 'SE'),'REGIAO_IES'] = 'Nordeste'\n",
        "df.loc[(df['Sigla da UF'] == 'PB'),'REGIAO_IES'] = 'Nordeste'\n",
        "df.loc[(df['Sigla da UF'] == 'PI'),'REGIAO_IES'] = 'Nordeste'\n",
        "df.loc[(df['Sigla da UF'] == 'MA'),'REGIAO_IES'] = 'Nordeste'"
      ],
      "execution_count": null,
      "outputs": []
    },
    {
      "cell_type": "code",
      "metadata": {
        "id": "9ZIkAbdsrCTS",
        "colab": {
          "base_uri": "https://localhost:8080/"
        },
        "outputId": "abe1a8ac-5cc1-43a4-dc11-e65e56bee6e1"
      },
      "source": [
        "# Definição de tipo da coluna REGIAO_IES\n",
        "print(df['REGIAO_IES'].dtype)\n",
        "df['REGIAO_IES'] =  df['REGIAO_IES'].astype('category')\n",
        "print(df['REGIAO_IES'].dtype)"
      ],
      "execution_count": null,
      "outputs": [
        {
          "output_type": "stream",
          "text": [
            "object\n",
            "category\n"
          ],
          "name": "stdout"
        }
      ]
    },
    {
      "cell_type": "code",
      "metadata": {
        "id": "0Xed6xIn7kdn"
      },
      "source": [
        "# Adicionando coluna IDADE\n",
        "df['IDADE'] = 'null'\n"
      ],
      "execution_count": null,
      "outputs": []
    },
    {
      "cell_type": "code",
      "metadata": {
        "id": "BTSjBxPd7pam"
      },
      "source": [
        "# Preenchimento dos dados de IDADE a partir da infomação de data de nascimento\n",
        "df[\"IDADE\"] = df[\"DT_NASCIMENTO_BENEFICIARIO\"].apply(lambda x : (datetime.now().year - x.year))"
      ],
      "execution_count": null,
      "outputs": []
    },
    {
      "cell_type": "code",
      "metadata": {
        "id": "nfyw0Z0R76BT",
        "colab": {
          "base_uri": "https://localhost:8080/"
        },
        "outputId": "9179412c-d762-423e-e61c-8adeb97fa4a7"
      },
      "source": [
        "print(df['IDADE'].dtype)"
      ],
      "execution_count": null,
      "outputs": [
        {
          "output_type": "stream",
          "text": [
            "int64\n"
          ],
          "name": "stdout"
        }
      ]
    },
    {
      "cell_type": "code",
      "metadata": {
        "id": "m_mBzUizrLAL",
        "colab": {
          "base_uri": "https://localhost:8080/"
        },
        "outputId": "402e9a86-8dce-4437-81ab-eb0daec053c8"
      },
      "source": [
        "print(df.dtypes)"
      ],
      "execution_count": null,
      "outputs": [
        {
          "output_type": "stream",
          "text": [
            "ANO_CONCESSAO_BOLSA                        int64\n",
            "CODIGO_EMEC_IES_BOLSA                      int64\n",
            "NOME_IES_BOLSA                          category\n",
            "TIPO_BOLSA                              category\n",
            "MODALIDADE_ENSINO_BOLSA                 category\n",
            "NOME_CURSO_BOLSA                        category\n",
            "NOME_TURNO_CURSO_BOLSA                  category\n",
            "CPF_BENEFICIARIO_BOLSA                  category\n",
            "SEXO_BENEFICIARIO_BOLSA                 category\n",
            "RACA_BENEFICIARIO_BOLSA                 category\n",
            "DT_NASCIMENTO_BENEFICIARIO        datetime64[ns]\n",
            "BENEFICIARIO_DEFICIENTE_FISICO          category\n",
            "REGIAO_BENEFICIARIO_BOLSA               category\n",
            "SIGLA_UF_BENEFICIARIO_BOLSA             category\n",
            "MUNICIPIO_BENEFICIARIO_BOLSA            category\n",
            "Código da IES                           category\n",
            "Nome da IES                             category\n",
            "Sigla da IES                            category\n",
            "Organização Acadêmica                   category\n",
            "Categoria Administrativa                category\n",
            "Município do Curso                      category\n",
            "Sigla da UF                             category\n",
            "Conceito Enade (Contínuo)                float64\n",
            "Conceito Enade (Faixa)                  category\n",
            "REGIAO_IES                              category\n",
            "IDADE                                      int64\n",
            "dtype: object\n"
          ],
          "name": "stdout"
        }
      ]
    },
    {
      "cell_type": "code",
      "metadata": {
        "id": "Gj1S50gI8L9i",
        "colab": {
          "base_uri": "https://localhost:8080/"
        },
        "outputId": "4d0d0d6e-4030-4e24-dc93-e98bb39b62cf"
      },
      "source": [
        "df.head()"
      ],
      "execution_count": null,
      "outputs": [
        {
          "output_type": "execute_result",
          "data": {
            "text/html": [
              "<div>\n",
              "<style scoped>\n",
              "    .dataframe tbody tr th:only-of-type {\n",
              "        vertical-align: middle;\n",
              "    }\n",
              "\n",
              "    .dataframe tbody tr th {\n",
              "        vertical-align: top;\n",
              "    }\n",
              "\n",
              "    .dataframe thead th {\n",
              "        text-align: right;\n",
              "    }\n",
              "</style>\n",
              "<table border=\"1\" class=\"dataframe\">\n",
              "  <thead>\n",
              "    <tr style=\"text-align: right;\">\n",
              "      <th></th>\n",
              "      <th>ANO_CONCESSAO_BOLSA</th>\n",
              "      <th>CODIGO_EMEC_IES_BOLSA</th>\n",
              "      <th>NOME_IES_BOLSA</th>\n",
              "      <th>TIPO_BOLSA</th>\n",
              "      <th>MODALIDADE_ENSINO_BOLSA</th>\n",
              "      <th>NOME_CURSO_BOLSA</th>\n",
              "      <th>NOME_TURNO_CURSO_BOLSA</th>\n",
              "      <th>CPF_BENEFICIARIO_BOLSA</th>\n",
              "      <th>SEXO_BENEFICIARIO_BOLSA</th>\n",
              "      <th>RACA_BENEFICIARIO_BOLSA</th>\n",
              "      <th>DT_NASCIMENTO_BENEFICIARIO</th>\n",
              "      <th>BENEFICIARIO_DEFICIENTE_FISICO</th>\n",
              "      <th>REGIAO_BENEFICIARIO_BOLSA</th>\n",
              "      <th>SIGLA_UF_BENEFICIARIO_BOLSA</th>\n",
              "      <th>MUNICIPIO_BENEFICIARIO_BOLSA</th>\n",
              "      <th>Código da IES</th>\n",
              "      <th>Nome da IES</th>\n",
              "      <th>Sigla da IES</th>\n",
              "      <th>Organização Acadêmica</th>\n",
              "      <th>Categoria Administrativa</th>\n",
              "      <th>Município do Curso</th>\n",
              "      <th>Sigla da UF</th>\n",
              "      <th>Conceito Enade (Contínuo)</th>\n",
              "      <th>Conceito Enade (Faixa)</th>\n",
              "      <th>REGIAO_IES</th>\n",
              "      <th>IDADE</th>\n",
              "    </tr>\n",
              "  </thead>\n",
              "  <tbody>\n",
              "    <tr>\n",
              "      <th>0</th>\n",
              "      <td>2019</td>\n",
              "      <td>10</td>\n",
              "      <td>PONTIFÍCIA UNIVERSIDADE CATÓLICA DO PARANÁ</td>\n",
              "      <td>BOLSA INTEGRAL</td>\n",
              "      <td>EAD</td>\n",
              "      <td>Administração</td>\n",
              "      <td>Curso a distância</td>\n",
              "      <td>***03183970**</td>\n",
              "      <td>M</td>\n",
              "      <td>Branca</td>\n",
              "      <td>1993-08-19</td>\n",
              "      <td>N</td>\n",
              "      <td>Sul</td>\n",
              "      <td>PR</td>\n",
              "      <td>LONDRINA</td>\n",
              "      <td>10</td>\n",
              "      <td>PONTIFÍCIA UNIVERSIDADE CATÓLICA DO PARANÁ</td>\n",
              "      <td>PUCPR</td>\n",
              "      <td>Universidade</td>\n",
              "      <td>Privada sem fins lucrativos</td>\n",
              "      <td>Curitiba</td>\n",
              "      <td>PR</td>\n",
              "      <td>3.6396</td>\n",
              "      <td>4</td>\n",
              "      <td>Sul</td>\n",
              "      <td>28</td>\n",
              "    </tr>\n",
              "    <tr>\n",
              "      <th>1</th>\n",
              "      <td>2019</td>\n",
              "      <td>10</td>\n",
              "      <td>PONTIFÍCIA UNIVERSIDADE CATÓLICA DO PARANÁ</td>\n",
              "      <td>BOLSA INTEGRAL</td>\n",
              "      <td>EAD</td>\n",
              "      <td>Administração</td>\n",
              "      <td>Curso a distância</td>\n",
              "      <td>***92848904**</td>\n",
              "      <td>F</td>\n",
              "      <td>Branca</td>\n",
              "      <td>1999-11-03</td>\n",
              "      <td>N</td>\n",
              "      <td>Sul</td>\n",
              "      <td>PR</td>\n",
              "      <td>SAO JOSE DOS PINHAIS</td>\n",
              "      <td>10</td>\n",
              "      <td>PONTIFÍCIA UNIVERSIDADE CATÓLICA DO PARANÁ</td>\n",
              "      <td>PUCPR</td>\n",
              "      <td>Universidade</td>\n",
              "      <td>Privada sem fins lucrativos</td>\n",
              "      <td>Curitiba</td>\n",
              "      <td>PR</td>\n",
              "      <td>3.6396</td>\n",
              "      <td>4</td>\n",
              "      <td>Sul</td>\n",
              "      <td>22</td>\n",
              "    </tr>\n",
              "    <tr>\n",
              "      <th>2</th>\n",
              "      <td>2019</td>\n",
              "      <td>10</td>\n",
              "      <td>PONTIFÍCIA UNIVERSIDADE CATÓLICA DO PARANÁ</td>\n",
              "      <td>BOLSA INTEGRAL</td>\n",
              "      <td>EAD</td>\n",
              "      <td>Análise E Desenvolvimento De Sistemas</td>\n",
              "      <td>Curso a distância</td>\n",
              "      <td>***12457929**</td>\n",
              "      <td>M</td>\n",
              "      <td>Parda</td>\n",
              "      <td>1999-04-02</td>\n",
              "      <td>N</td>\n",
              "      <td>Sul</td>\n",
              "      <td>PR</td>\n",
              "      <td>QUATRO BARRAS</td>\n",
              "      <td>10</td>\n",
              "      <td>PONTIFÍCIA UNIVERSIDADE CATÓLICA DO PARANÁ</td>\n",
              "      <td>PUCPR</td>\n",
              "      <td>Universidade</td>\n",
              "      <td>Privada sem fins lucrativos</td>\n",
              "      <td>Curitiba</td>\n",
              "      <td>PR</td>\n",
              "      <td>3.6396</td>\n",
              "      <td>4</td>\n",
              "      <td>Sul</td>\n",
              "      <td>22</td>\n",
              "    </tr>\n",
              "    <tr>\n",
              "      <th>3</th>\n",
              "      <td>2019</td>\n",
              "      <td>10</td>\n",
              "      <td>PONTIFÍCIA UNIVERSIDADE CATÓLICA DO PARANÁ</td>\n",
              "      <td>BOLSA INTEGRAL</td>\n",
              "      <td>EAD</td>\n",
              "      <td>Análise E Desenvolvimento De Sistemas</td>\n",
              "      <td>Curso a distância</td>\n",
              "      <td>***21386908**</td>\n",
              "      <td>M</td>\n",
              "      <td>Branca</td>\n",
              "      <td>2000-03-15</td>\n",
              "      <td>N</td>\n",
              "      <td>Sul</td>\n",
              "      <td>PR</td>\n",
              "      <td>CURITIBA</td>\n",
              "      <td>10</td>\n",
              "      <td>PONTIFÍCIA UNIVERSIDADE CATÓLICA DO PARANÁ</td>\n",
              "      <td>PUCPR</td>\n",
              "      <td>Universidade</td>\n",
              "      <td>Privada sem fins lucrativos</td>\n",
              "      <td>Curitiba</td>\n",
              "      <td>PR</td>\n",
              "      <td>3.6396</td>\n",
              "      <td>4</td>\n",
              "      <td>Sul</td>\n",
              "      <td>21</td>\n",
              "    </tr>\n",
              "    <tr>\n",
              "      <th>4</th>\n",
              "      <td>2019</td>\n",
              "      <td>10</td>\n",
              "      <td>PONTIFÍCIA UNIVERSIDADE CATÓLICA DO PARANÁ</td>\n",
              "      <td>BOLSA INTEGRAL</td>\n",
              "      <td>EAD</td>\n",
              "      <td>Análise E Desenvolvimento De Sistemas</td>\n",
              "      <td>Curso a distância</td>\n",
              "      <td>***27405933**</td>\n",
              "      <td>M</td>\n",
              "      <td>Branca</td>\n",
              "      <td>1993-05-23</td>\n",
              "      <td>N</td>\n",
              "      <td>Sul</td>\n",
              "      <td>PR</td>\n",
              "      <td>SAO JOSE DOS PINHAIS</td>\n",
              "      <td>10</td>\n",
              "      <td>PONTIFÍCIA UNIVERSIDADE CATÓLICA DO PARANÁ</td>\n",
              "      <td>PUCPR</td>\n",
              "      <td>Universidade</td>\n",
              "      <td>Privada sem fins lucrativos</td>\n",
              "      <td>Curitiba</td>\n",
              "      <td>PR</td>\n",
              "      <td>3.6396</td>\n",
              "      <td>4</td>\n",
              "      <td>Sul</td>\n",
              "      <td>28</td>\n",
              "    </tr>\n",
              "  </tbody>\n",
              "</table>\n",
              "</div>"
            ],
            "text/plain": [
              "   ANO_CONCESSAO_BOLSA  CODIGO_EMEC_IES_BOLSA  ... REGIAO_IES IDADE\n",
              "0                 2019                     10  ...        Sul    28\n",
              "1                 2019                     10  ...        Sul    22\n",
              "2                 2019                     10  ...        Sul    22\n",
              "3                 2019                     10  ...        Sul    21\n",
              "4                 2019                     10  ...        Sul    28\n",
              "\n",
              "[5 rows x 26 columns]"
            ]
          },
          "metadata": {
            "tags": []
          },
          "execution_count": 142
        }
      ]
    },
    {
      "cell_type": "markdown",
      "metadata": {
        "id": "tEz4p25vd1OD"
      },
      "source": [
        "Aqui temos a descrição de algumas das principais informações do dataset:"
      ]
    },
    {
      "cell_type": "code",
      "metadata": {
        "id": "FosHe6BPmesj",
        "colab": {
          "base_uri": "https://localhost:8080/"
        },
        "outputId": "03948aa9-dbe3-4395-a58a-e8bc7314fa9c"
      },
      "source": [
        "# Por se tratar de um dado numérico temos informações como média, valor mínimo e máximo da coluna\n",
        "df[['Conceito Enade (Contínuo)']].describe()"
      ],
      "execution_count": null,
      "outputs": [
        {
          "output_type": "execute_result",
          "data": {
            "text/html": [
              "<div>\n",
              "<style scoped>\n",
              "    .dataframe tbody tr th:only-of-type {\n",
              "        vertical-align: middle;\n",
              "    }\n",
              "\n",
              "    .dataframe tbody tr th {\n",
              "        vertical-align: top;\n",
              "    }\n",
              "\n",
              "    .dataframe thead th {\n",
              "        text-align: right;\n",
              "    }\n",
              "</style>\n",
              "<table border=\"1\" class=\"dataframe\">\n",
              "  <thead>\n",
              "    <tr style=\"text-align: right;\">\n",
              "      <th></th>\n",
              "      <th>Conceito Enade (Contínuo)</th>\n",
              "    </tr>\n",
              "  </thead>\n",
              "  <tbody>\n",
              "    <tr>\n",
              "      <th>count</th>\n",
              "      <td>203859.000000</td>\n",
              "    </tr>\n",
              "    <tr>\n",
              "      <th>mean</th>\n",
              "      <td>2.006995</td>\n",
              "    </tr>\n",
              "    <tr>\n",
              "      <th>std</th>\n",
              "      <td>0.874992</td>\n",
              "    </tr>\n",
              "    <tr>\n",
              "      <th>min</th>\n",
              "      <td>0.000000</td>\n",
              "    </tr>\n",
              "    <tr>\n",
              "      <th>25%</th>\n",
              "      <td>1.561200</td>\n",
              "    </tr>\n",
              "    <tr>\n",
              "      <th>50%</th>\n",
              "      <td>1.701700</td>\n",
              "    </tr>\n",
              "    <tr>\n",
              "      <th>75%</th>\n",
              "      <td>2.503500</td>\n",
              "    </tr>\n",
              "    <tr>\n",
              "      <th>max</th>\n",
              "      <td>4.762700</td>\n",
              "    </tr>\n",
              "  </tbody>\n",
              "</table>\n",
              "</div>"
            ],
            "text/plain": [
              "       Conceito Enade (Contínuo)\n",
              "count              203859.000000\n",
              "mean                    2.006995\n",
              "std                     0.874992\n",
              "min                     0.000000\n",
              "25%                     1.561200\n",
              "50%                     1.701700\n",
              "75%                     2.503500\n",
              "max                     4.762700"
            ]
          },
          "metadata": {
            "tags": []
          },
          "execution_count": 143
        }
      ]
    },
    {
      "cell_type": "code",
      "metadata": {
        "id": "IDfKa4LtoIfJ",
        "colab": {
          "base_uri": "https://localhost:8080/"
        },
        "outputId": "1af910f6-e010-4bac-9fe7-c41eefbbe5c9"
      },
      "source": [
        "# o conceito enade (Faixa), atualmente é um dado categórico dado que, originalment, quando a coluna não tem o valor informado ela retorna um valor \"SC\" (sem conceito)\n",
        "# trataremos esse caso de ausência em breve \n",
        "df[['Conceito Enade (Faixa)']].describe()"
      ],
      "execution_count": null,
      "outputs": [
        {
          "output_type": "execute_result",
          "data": {
            "text/html": [
              "<div>\n",
              "<style scoped>\n",
              "    .dataframe tbody tr th:only-of-type {\n",
              "        vertical-align: middle;\n",
              "    }\n",
              "\n",
              "    .dataframe tbody tr th {\n",
              "        vertical-align: top;\n",
              "    }\n",
              "\n",
              "    .dataframe thead th {\n",
              "        text-align: right;\n",
              "    }\n",
              "</style>\n",
              "<table border=\"1\" class=\"dataframe\">\n",
              "  <thead>\n",
              "    <tr style=\"text-align: right;\">\n",
              "      <th></th>\n",
              "      <th>Conceito Enade (Faixa)</th>\n",
              "    </tr>\n",
              "  </thead>\n",
              "  <tbody>\n",
              "    <tr>\n",
              "      <th>count</th>\n",
              "      <td>209153</td>\n",
              "    </tr>\n",
              "    <tr>\n",
              "      <th>unique</th>\n",
              "      <td>6</td>\n",
              "    </tr>\n",
              "    <tr>\n",
              "      <th>top</th>\n",
              "      <td>2</td>\n",
              "    </tr>\n",
              "    <tr>\n",
              "      <th>freq</th>\n",
              "      <td>106355</td>\n",
              "    </tr>\n",
              "  </tbody>\n",
              "</table>\n",
              "</div>"
            ],
            "text/plain": [
              "       Conceito Enade (Faixa)\n",
              "count                  209153\n",
              "unique                      6\n",
              "top                         2\n",
              "freq                   106355"
            ]
          },
          "metadata": {
            "tags": []
          },
          "execution_count": 144
        }
      ]
    },
    {
      "cell_type": "code",
      "metadata": {
        "id": "RpuCmMT5cKrs",
        "colab": {
          "base_uri": "https://localhost:8080/"
        },
        "outputId": "593d3808-967d-41c7-bf16-49f29e5b0b86"
      },
      "source": [
        "df['Conceito Enade (Faixa)'].unique()"
      ],
      "execution_count": null,
      "outputs": [
        {
          "output_type": "execute_result",
          "data": {
            "text/plain": [
              "['4', '3', '2', '5', NaN, '1', 'SC']\n",
              "Categories (6, object): ['4', '3', '2', '5', '1', 'SC']"
            ]
          },
          "metadata": {
            "tags": []
          },
          "execution_count": 145
        }
      ]
    },
    {
      "cell_type": "code",
      "metadata": {
        "id": "7Anogz4coOTD",
        "colab": {
          "base_uri": "https://localhost:8080/"
        },
        "outputId": "4e5a19aa-ba2d-4ebb-a253-0072c3e10391"
      },
      "source": [
        "#Algumas informações importantes começam a aparecer, como os mais frequentes modallidade de curso, turno e região dos alunos  do prouni 2019\n",
        "df[['MODALIDADE_ENSINO_BOLSA', 'NOME_TURNO_CURSO_BOLSA', 'REGIAO_BENEFICIARIO_BOLSA', 'REGIAO_IES','TIPO_BOLSA', 'Organização Acadêmica', 'Categoria Administrativa']].describe()"
      ],
      "execution_count": null,
      "outputs": [
        {
          "output_type": "execute_result",
          "data": {
            "text/html": [
              "<div>\n",
              "<style scoped>\n",
              "    .dataframe tbody tr th:only-of-type {\n",
              "        vertical-align: middle;\n",
              "    }\n",
              "\n",
              "    .dataframe tbody tr th {\n",
              "        vertical-align: top;\n",
              "    }\n",
              "\n",
              "    .dataframe thead th {\n",
              "        text-align: right;\n",
              "    }\n",
              "</style>\n",
              "<table border=\"1\" class=\"dataframe\">\n",
              "  <thead>\n",
              "    <tr style=\"text-align: right;\">\n",
              "      <th></th>\n",
              "      <th>MODALIDADE_ENSINO_BOLSA</th>\n",
              "      <th>NOME_TURNO_CURSO_BOLSA</th>\n",
              "      <th>REGIAO_BENEFICIARIO_BOLSA</th>\n",
              "      <th>REGIAO_IES</th>\n",
              "      <th>TIPO_BOLSA</th>\n",
              "      <th>Organização Acadêmica</th>\n",
              "      <th>Categoria Administrativa</th>\n",
              "    </tr>\n",
              "  </thead>\n",
              "  <tbody>\n",
              "    <tr>\n",
              "      <th>count</th>\n",
              "      <td>225555</td>\n",
              "      <td>225555</td>\n",
              "      <td>225555</td>\n",
              "      <td>225555</td>\n",
              "      <td>225555</td>\n",
              "      <td>209153</td>\n",
              "      <td>209153</td>\n",
              "    </tr>\n",
              "    <tr>\n",
              "      <th>unique</th>\n",
              "      <td>2</td>\n",
              "      <td>5</td>\n",
              "      <td>5</td>\n",
              "      <td>6</td>\n",
              "      <td>2</td>\n",
              "      <td>3</td>\n",
              "      <td>2</td>\n",
              "    </tr>\n",
              "    <tr>\n",
              "      <th>top</th>\n",
              "      <td>Presencial</td>\n",
              "      <td>Noturno</td>\n",
              "      <td>Sudeste</td>\n",
              "      <td>Sudeste</td>\n",
              "      <td>BOLSA INTEGRAL</td>\n",
              "      <td>Universidade</td>\n",
              "      <td>Privada com fins lucrativos</td>\n",
              "    </tr>\n",
              "    <tr>\n",
              "      <th>freq</th>\n",
              "      <td>158305</td>\n",
              "      <td>105792</td>\n",
              "      <td>104102</td>\n",
              "      <td>108527</td>\n",
              "      <td>167807</td>\n",
              "      <td>97428</td>\n",
              "      <td>148005</td>\n",
              "    </tr>\n",
              "  </tbody>\n",
              "</table>\n",
              "</div>"
            ],
            "text/plain": [
              "       MODALIDADE_ENSINO_BOLSA  ...     Categoria Administrativa\n",
              "count                   225555  ...                       209153\n",
              "unique                       2  ...                            2\n",
              "top                 Presencial  ...  Privada com fins lucrativos\n",
              "freq                    158305  ...                       148005\n",
              "\n",
              "[4 rows x 7 columns]"
            ]
          },
          "metadata": {
            "tags": []
          },
          "execution_count": 146
        }
      ]
    },
    {
      "cell_type": "code",
      "metadata": {
        "id": "ll2k-7qXnV-L",
        "colab": {
          "base_uri": "https://localhost:8080/"
        },
        "outputId": "284a7b6b-ac80-4fb3-fa4c-16d347623164"
      },
      "source": [
        "#Aqui vemos algumas informções importantes como o fato da maioria das vagas são dsponibilizadas em IES de São paulo (Sigla UF x top), assim como a maior parte \n",
        "#dos benefiários são do mesmo estado, em breve analisaremos interações entre os estados e entre regiões\n",
        "df[['Sigla da UF','SIGLA_UF_BENEFICIARIO_BOLSA', 'RACA_BENEFICIARIO_BOLSA', 'SEXO_BENEFICIARIO_BOLSA', 'BENEFICIARIO_DEFICIENTE_FISICO']].describe()"
      ],
      "execution_count": null,
      "outputs": [
        {
          "output_type": "execute_result",
          "data": {
            "text/html": [
              "<div>\n",
              "<style scoped>\n",
              "    .dataframe tbody tr th:only-of-type {\n",
              "        vertical-align: middle;\n",
              "    }\n",
              "\n",
              "    .dataframe tbody tr th {\n",
              "        vertical-align: top;\n",
              "    }\n",
              "\n",
              "    .dataframe thead th {\n",
              "        text-align: right;\n",
              "    }\n",
              "</style>\n",
              "<table border=\"1\" class=\"dataframe\">\n",
              "  <thead>\n",
              "    <tr style=\"text-align: right;\">\n",
              "      <th></th>\n",
              "      <th>Sigla da UF</th>\n",
              "      <th>SIGLA_UF_BENEFICIARIO_BOLSA</th>\n",
              "      <th>RACA_BENEFICIARIO_BOLSA</th>\n",
              "      <th>SEXO_BENEFICIARIO_BOLSA</th>\n",
              "      <th>BENEFICIARIO_DEFICIENTE_FISICO</th>\n",
              "    </tr>\n",
              "  </thead>\n",
              "  <tbody>\n",
              "    <tr>\n",
              "      <th>count</th>\n",
              "      <td>209153</td>\n",
              "      <td>225555</td>\n",
              "      <td>225555</td>\n",
              "      <td>225555</td>\n",
              "      <td>225555</td>\n",
              "    </tr>\n",
              "    <tr>\n",
              "      <th>unique</th>\n",
              "      <td>27</td>\n",
              "      <td>27</td>\n",
              "      <td>6</td>\n",
              "      <td>2</td>\n",
              "      <td>2</td>\n",
              "    </tr>\n",
              "    <tr>\n",
              "      <th>top</th>\n",
              "      <td>SP</td>\n",
              "      <td>SP</td>\n",
              "      <td>Parda</td>\n",
              "      <td>F</td>\n",
              "      <td>N</td>\n",
              "    </tr>\n",
              "    <tr>\n",
              "      <th>freq</th>\n",
              "      <td>75227</td>\n",
              "      <td>59441</td>\n",
              "      <td>105705</td>\n",
              "      <td>131368</td>\n",
              "      <td>223931</td>\n",
              "    </tr>\n",
              "  </tbody>\n",
              "</table>\n",
              "</div>"
            ],
            "text/plain": [
              "       Sigla da UF  ... BENEFICIARIO_DEFICIENTE_FISICO\n",
              "count       209153  ...                         225555\n",
              "unique          27  ...                              2\n",
              "top             SP  ...                              N\n",
              "freq         75227  ...                         223931\n",
              "\n",
              "[4 rows x 5 columns]"
            ]
          },
          "metadata": {
            "tags": []
          },
          "execution_count": 147
        }
      ]
    },
    {
      "cell_type": "markdown",
      "metadata": {
        "id": "wJ7dhjeIVRn6"
      },
      "source": [
        "\n",
        "### – Tratamento de dados ausentes \n",
        " #### - Removendo instâncias\n",
        "\n"
      ]
    },
    {
      "cell_type": "code",
      "metadata": {
        "id": "3QaxIsrBV2n9",
        "colab": {
          "base_uri": "https://localhost:8080/"
        },
        "outputId": "7d20c688-3ae3-416a-ccc0-45cff0834c0a"
      },
      "source": [
        "df.shape"
      ],
      "execution_count": null,
      "outputs": [
        {
          "output_type": "execute_result",
          "data": {
            "text/plain": [
              "(225555, 26)"
            ]
          },
          "metadata": {
            "tags": []
          },
          "execution_count": 148
        }
      ]
    },
    {
      "cell_type": "code",
      "metadata": {
        "id": "sOimfSoVXalG",
        "colab": {
          "base_uri": "https://localhost:8080/"
        },
        "outputId": "89461b79-5858-463d-a663-8e6d429a0bd2"
      },
      "source": [
        "print(df.isnull().sum())"
      ],
      "execution_count": null,
      "outputs": [
        {
          "output_type": "stream",
          "text": [
            "ANO_CONCESSAO_BOLSA                   0\n",
            "CODIGO_EMEC_IES_BOLSA                 0\n",
            "NOME_IES_BOLSA                        0\n",
            "TIPO_BOLSA                            0\n",
            "MODALIDADE_ENSINO_BOLSA               0\n",
            "NOME_CURSO_BOLSA                      0\n",
            "NOME_TURNO_CURSO_BOLSA                0\n",
            "CPF_BENEFICIARIO_BOLSA                0\n",
            "SEXO_BENEFICIARIO_BOLSA               0\n",
            "RACA_BENEFICIARIO_BOLSA               0\n",
            "DT_NASCIMENTO_BENEFICIARIO            0\n",
            "BENEFICIARIO_DEFICIENTE_FISICO        0\n",
            "REGIAO_BENEFICIARIO_BOLSA             0\n",
            "SIGLA_UF_BENEFICIARIO_BOLSA           0\n",
            "MUNICIPIO_BENEFICIARIO_BOLSA          0\n",
            "Código da IES                     16402\n",
            "Nome da IES                       16402\n",
            "Sigla da IES                      37989\n",
            "Organização Acadêmica             16402\n",
            "Categoria Administrativa          16402\n",
            "Município do Curso                16402\n",
            "Sigla da UF                       16402\n",
            "Conceito Enade (Contínuo)         21696\n",
            "Conceito Enade (Faixa)            16402\n",
            "REGIAO_IES                            0\n",
            "IDADE                                 0\n",
            "dtype: int64\n"
          ],
          "name": "stdout"
        }
      ]
    },
    {
      "cell_type": "markdown",
      "metadata": {
        "id": "EbMhQpQFXqkU"
      },
      "source": [
        "Iremos remover instâncias desses dados que não estão em MAIÚSCULO, pois é um dado que foi integrado, veio da base do ENADE para a do PROUNI, e já foi vinculado na integração as colunas existentes do PROUNI com as colunas do ENADE a partir do idenficador único (código IES - Instituição de Ensino Superior) da respectiva IES, como foi explicado acima **(Tópico Bônus).**\n",
        "Cabe lembrar também que, diferentemente do ENADE que apanha todas as IES, o Programa Universidade para Todos (Prouni) do Ministério da Educação é um programa que oferece bolsas de estudo, integrais e parciais (50%), em *instituições particulares* de educação superior. E as linhas ai que estão sendo removidas, dizem respeito a instituicoes que não tiveram seus dados divulgados pelo enade no ano de 2019. Como podemos verificar abaixo:"
      ]
    },
    {
      "cell_type": "code",
      "metadata": {
        "id": "2Nx_gAJYlXcD",
        "colab": {
          "base_uri": "https://localhost:8080/"
        },
        "outputId": "563af1a9-9a2c-4e81-a98e-ed0aea26fd05"
      },
      "source": [
        "\n",
        "df['Conceito Enade (Faixa)'].values"
      ],
      "execution_count": null,
      "outputs": [
        {
          "output_type": "execute_result",
          "data": {
            "text/plain": [
              "['4', '4', '4', '4', '4', ..., NaN, NaN, NaN, NaN, NaN]\n",
              "Length: 225555\n",
              "Categories (6, object): ['1', '2', '3', '4', '5', 'SC']"
            ]
          },
          "metadata": {
            "tags": []
          },
          "execution_count": 150
        }
      ]
    },
    {
      "cell_type": "code",
      "metadata": {
        "id": "t_qGsmm3mKTN",
        "colab": {
          "base_uri": "https://localhost:8080/"
        },
        "outputId": "372b592d-5ac5-4e3a-ac4d-2e90d44148b9"
      },
      "source": [
        "df['Conceito Enade (Contínuo)'].values"
      ],
      "execution_count": null,
      "outputs": [
        {
          "output_type": "execute_result",
          "data": {
            "text/plain": [
              "array([3.6396, 3.6396, 3.6396, ...,    nan,    nan,    nan])"
            ]
          },
          "metadata": {
            "tags": []
          },
          "execution_count": 151
        }
      ]
    },
    {
      "cell_type": "code",
      "metadata": {
        "id": "wh3cYsvkkAXp"
      },
      "source": [
        "#remove colunas com até 15% de dados ausentes\n",
        "df = df.dropna(thresh=0.85*len(df), axis=1)\n",
        "#Substituimos os valores assinalados como 'SC'\n",
        "df['Conceito Enade (Faixa)'] = df['Conceito Enade (Faixa)'].replace(['SC'],np.nan)"
      ],
      "execution_count": null,
      "outputs": []
    },
    {
      "cell_type": "code",
      "metadata": {
        "id": "g2tUPFx4hhUo",
        "colab": {
          "base_uri": "https://localhost:8080/"
        },
        "outputId": "30d0bc5d-f479-41d1-95bb-805d65e3f87a"
      },
      "source": [
        "df['Conceito Enade (Faixa)'].unique()"
      ],
      "execution_count": null,
      "outputs": [
        {
          "output_type": "execute_result",
          "data": {
            "text/plain": [
              "['4', '3', '2', '5', NaN, '1']\n",
              "Categories (5, object): ['4', '3', '2', '5', '1']"
            ]
          },
          "metadata": {
            "tags": []
          },
          "execution_count": 153
        }
      ]
    },
    {
      "cell_type": "code",
      "metadata": {
        "id": "lvsviiMSgwYE",
        "colab": {
          "base_uri": "https://localhost:8080/"
        },
        "outputId": "19fc654d-01a2-4631-936e-e5860051acd8"
      },
      "source": [
        "df['Conceito Enade (Contínuo)'].unique()"
      ],
      "execution_count": null,
      "outputs": [
        {
          "output_type": "execute_result",
          "data": {
            "text/plain": [
              "array([3.6396, 2.8074, 3.026 , 2.2965, 2.2256, 1.77  , 2.6857, 2.2156,\n",
              "       3.4516, 4.1814, 2.6108, 1.9031, 2.6897, 3.0004, 2.1144, 2.9288,\n",
              "       1.989 , 1.1111, 1.8957, 3.2826, 1.7462, 1.8592,    nan, 2.6482,\n",
              "       2.463 , 1.99  , 2.0502, 0.    , 2.357 , 2.0388, 2.5636, 2.4562,\n",
              "       1.5019, 2.4204, 1.5677, 2.5344, 2.0085, 2.0807, 2.7916, 1.8503,\n",
              "       2.484 , 2.0617, 1.7824, 0.8911, 2.1316, 2.0783, 2.3737, 0.8809,\n",
              "       3.1309, 2.179 , 1.2065, 2.4417, 1.8271, 1.5155, 0.2472, 1.6186,\n",
              "       3.1868, 3.0752, 1.6105, 2.2336, 3.9306, 2.5715, 2.282 , 2.3608,\n",
              "       1.6071, 2.0201, 1.7164, 2.3667, 1.2856, 3.1285, 1.5314, 2.4526,\n",
              "       0.3388, 2.7182, 2.381 , 2.7431, 0.7029, 3.5703, 1.8054, 2.2031,\n",
              "       1.9574, 2.4277, 2.5001, 2.2586, 1.7002, 0.5549, 2.1003, 1.9095,\n",
              "       1.0948, 1.4493, 1.5475, 2.1393, 1.732 , 2.4739, 2.1836, 3.2675,\n",
              "       1.2434, 2.9674, 3.063 , 1.185 , 1.4548, 2.2641, 2.4814, 2.0186,\n",
              "       2.278 , 1.4597, 2.0268, 2.3665, 2.8994, 2.3563, 2.275 , 1.6869,\n",
              "       1.9905, 3.9072, 3.0866, 2.5163, 2.5787, 1.918 , 3.5096, 2.9196,\n",
              "       3.6009, 3.3819, 1.6301, 2.2748, 3.9379, 2.8857, 0.6599, 3.0464,\n",
              "       2.8177, 1.8868, 2.922 , 3.1189, 1.5287, 3.6322, 2.321 , 2.4612,\n",
              "       1.6994, 1.5285, 0.7432, 2.9641, 1.7135, 2.3286, 1.3447, 2.6132,\n",
              "       2.4735, 1.664 , 1.9757, 3.2952, 3.1905, 2.0744, 1.8894, 2.4179,\n",
              "       0.5886, 2.9066, 2.5551, 2.5677, 3.2732, 1.708 , 2.5633, 1.3266,\n",
              "       1.2977, 2.5386, 1.4938, 1.8987, 3.7323, 2.5978, 1.9987, 1.7163,\n",
              "       1.7674, 2.8319, 2.3915, 0.7002, 1.4372, 1.1837, 1.3685, 2.5336,\n",
              "       1.1941, 1.5065, 2.9602, 1.9182, 1.5929, 2.6604, 2.0328, 1.7228,\n",
              "       2.456 , 2.3871, 1.957 , 2.1026, 2.8123, 4.468 , 1.0126, 3.5901,\n",
              "       2.2526, 2.2539, 2.1722, 1.2299, 1.6651, 1.987 , 1.3778, 1.6175,\n",
              "       1.6055, 2.0041, 1.5985, 2.7571, 3.2617, 3.1664, 2.1233, 2.0727,\n",
              "       0.7606, 3.5573, 1.6291, 1.1436, 2.5619, 1.546 , 0.6626, 2.932 ,\n",
              "       2.4368, 1.4742, 1.8494, 3.7082, 3.0224, 1.7636, 2.6923, 2.5025,\n",
              "       1.8693, 2.0308, 3.5433, 1.842 , 2.1878, 2.759 , 3.4804, 1.2044,\n",
              "       0.9003, 2.2087, 1.9775, 2.4086, 1.781 , 3.1222, 2.9115, 2.731 ,\n",
              "       1.4595, 0.573 , 1.5252, 1.5612, 2.2732, 2.7798, 2.243 , 2.7579,\n",
              "       3.4388, 2.8287, 1.1654, 1.218 , 1.5264, 1.6902, 1.1046, 1.8308,\n",
              "       1.394 , 3.3224, 2.7622, 2.7995, 2.9801, 2.8089, 2.8973, 2.1604,\n",
              "       1.2544, 1.9618, 1.71  , 2.2378, 2.0231, 1.462 , 0.7487, 0.8486,\n",
              "       2.0066, 2.262 , 2.8023, 2.2112, 2.1381, 1.4151, 0.8183, 1.5248,\n",
              "       1.6282, 2.779 , 1.4118, 1.6497, 2.3953, 1.5922, 1.8984, 1.3112,\n",
              "       1.886 , 1.3448, 3.6228, 2.1153, 2.908 , 1.6845, 1.9163, 2.3518,\n",
              "       2.5815, 1.4558, 1.2359, 1.6165, 2.1261, 0.5074, 1.9081, 3.2172,\n",
              "       1.0125, 0.6504, 2.8266, 1.742 , 2.4099, 2.3719, 2.2174, 2.4446,\n",
              "       2.8547, 1.8513, 2.0273, 1.1425, 1.1594, 0.6323, 1.717 , 1.1713,\n",
              "       3.0919, 2.4837, 2.0065, 1.2129, 3.0498, 3.1316, 1.7632, 2.0979,\n",
              "       1.3613, 2.821 , 2.1276, 0.7622, 2.293 , 1.7268, 1.9862, 2.313 ,\n",
              "       1.1491, 1.0105, 1.2708, 4.5777, 2.3868, 1.2748, 1.3954, 0.8458,\n",
              "       1.8491, 2.0333, 1.3087, 2.6738, 2.6045, 1.3969, 1.569 , 3.6074,\n",
              "       2.0514, 3.2578, 2.5105, 3.0032, 1.8166, 2.4311, 1.1088, 1.7857,\n",
              "       1.4232, 0.2611, 2.1104, 2.1001, 1.6025, 2.2075, 3.2315, 1.6195,\n",
              "       0.9159, 2.0535, 2.4757, 1.34  , 1.976 , 3.7601, 3.9043, 2.4627,\n",
              "       1.3176, 1.4403, 2.395 , 1.9075, 2.1145, 2.7555, 2.2003, 2.5862,\n",
              "       2.2686, 2.1823, 3.8215, 1.8217, 1.0816, 2.9432, 2.6288, 1.6011,\n",
              "       3.0666, 2.864 , 1.7583, 1.9781, 2.2362, 2.2388, 1.7283, 2.46  ,\n",
              "       2.2309, 1.467 , 2.3803, 2.288 , 1.4799, 2.4645, 1.2258, 2.3796,\n",
              "       1.1505, 1.3044, 1.9366, 2.0887, 1.0715, 1.6494, 2.088 , 1.8147,\n",
              "       1.1335, 1.0118, 2.6225, 2.9985, 1.9343, 3.415 , 1.1348, 1.4661,\n",
              "       1.4451, 1.7802, 1.6995, 3.001 , 0.5006, 0.4886, 2.7259, 2.461 ,\n",
              "       2.4375, 2.5821, 1.7019, 2.2148, 2.2193, 0.8906, 2.3258, 1.6795,\n",
              "       2.0927, 2.3982, 2.8289, 2.0793, 1.0356, 2.6008, 1.491 , 0.8019,\n",
              "       1.5751, 3.7693, 1.7978, 1.6335, 1.1383, 2.7209, 1.0921, 1.1852,\n",
              "       1.083 , 1.606 , 2.1353, 2.6295, 1.2222, 1.193 , 2.6124, 2.7231,\n",
              "       1.5315, 1.713 , 0.8565, 1.657 , 2.0289, 1.8144, 2.0669, 3.0006,\n",
              "       2.6595, 1.2592, 2.3562, 2.3129, 2.3274, 2.3009, 1.5921, 2.3462,\n",
              "       2.9737, 2.8191, 1.9685, 1.6057, 2.3979, 1.6341, 1.5154, 2.7294,\n",
              "       2.9255, 0.8588, 2.4212, 1.4849, 2.3814, 2.6601, 1.3943, 1.0099,\n",
              "       2.607 , 1.4475, 3.0139, 2.3355, 1.5145, 2.599 , 1.1418, 1.8815,\n",
              "       1.1725, 1.3715, 3.1639, 2.9402, 3.0971, 1.6688, 2.3546, 2.3731,\n",
              "       2.5695, 1.3061, 1.3665, 2.1647, 2.5462, 2.1383, 0.8035, 2.8386,\n",
              "       1.4975, 2.2964, 1.6404, 2.964 , 2.3735, 2.5035, 1.5391, 2.7429,\n",
              "       0.9524, 2.4519, 1.1468, 2.2287, 3.4241, 0.6198, 0.5887, 1.6441,\n",
              "       3.8748, 1.7278, 0.8643, 2.5642, 1.1442, 2.3607, 2.7494, 1.602 ,\n",
              "       2.1347, 2.3126, 2.2196, 1.0634, 2.543 , 2.0405, 1.1648, 0.8329,\n",
              "       1.5563, 0.9919, 2.1657, 1.9057, 1.4972, 1.2728, 1.4968, 2.1973,\n",
              "       1.6927, 3.5256, 2.0735, 2.535 , 2.307 , 1.8283, 0.883 , 2.2023,\n",
              "       2.5878, 1.3052, 2.4948, 1.9663, 1.3589, 2.7981, 2.8699, 1.9449,\n",
              "       0.8716, 2.1637, 1.3429, 2.6259, 0.71  , 1.6244, 1.374 , 1.2726,\n",
              "       0.541 , 1.7885, 2.4199, 1.1984, 2.3288, 1.438 , 0.2831, 3.4693,\n",
              "       1.3131, 1.3926, 0.4562, 1.7859, 2.9353, 0.593 , 2.0402, 1.3759,\n",
              "       1.4125, 1.0457, 1.3354, 2.5887, 1.3472, 1.8011, 2.2761, 1.6024,\n",
              "       0.8775, 0.3334, 1.2022, 3.0828, 1.5622, 1.58  , 2.3836, 1.8314,\n",
              "       1.8926, 1.507 , 4.3365, 1.8621, 2.3207, 1.688 , 2.0981, 2.3275,\n",
              "       0.8581, 1.7624, 2.1251, 1.9529, 2.777 , 3.0129, 4.1529, 1.7171,\n",
              "       1.9101, 2.6612, 1.5899, 1.6384, 2.0921, 2.1547, 2.021 , 3.4995,\n",
              "       1.0089, 1.3159, 2.5868, 0.8236, 2.3942, 1.9452, 1.7515, 0.794 ,\n",
              "       1.9694, 2.1586, 1.733 , 0.4155, 1.6304, 1.5712, 1.5544, 1.9523,\n",
              "       2.9098, 1.7017, 0.6169, 2.0541, 1.4392, 2.5302, 4.2855, 4.7627,\n",
              "       1.0955, 2.0789, 1.6597, 0.7521, 1.634 , 0.8343, 1.4554, 1.1475,\n",
              "       0.9797, 1.9286, 2.292 , 1.8548, 1.6046, 1.411 , 1.0263, 1.5068,\n",
              "       3.3418, 2.2197, 2.6753, 2.5272, 1.3694, 2.5223, 1.6787, 1.3806,\n",
              "       1.378 , 0.8314, 0.8326, 2.8223, 1.2705, 1.2062, 1.8223, 3.7685,\n",
              "       4.7084, 2.1971, 1.0485, 1.8654, 1.7147, 1.455 , 2.1454, 1.9451,\n",
              "       1.5348, 2.1543, 0.9431, 2.2609, 3.3473, 1.4563, 1.8085, 0.0398,\n",
              "       1.5635, 2.4709, 1.0631, 1.9299, 1.7065, 2.2872, 1.4567, 1.9835,\n",
              "       3.013 , 1.2073, 1.158 , 2.4097, 0.6682, 1.7213, 0.6265, 1.7361,\n",
              "       2.38  , 1.6828, 1.5126, 1.3117, 2.3191, 0.208 , 1.2664, 1.9019,\n",
              "       1.9045, 1.476 , 1.9281, 1.6943, 0.563 , 1.5466, 2.1464, 2.2288,\n",
              "       1.7974, 0.6295])"
            ]
          },
          "metadata": {
            "tags": []
          },
          "execution_count": 154
        }
      ]
    },
    {
      "cell_type": "code",
      "metadata": {
        "id": "IZpIXCn6mVaT",
        "colab": {
          "base_uri": "https://localhost:8080/"
        },
        "outputId": "79873c77-8ad5-44ac-9141-8c9ddd10381a"
      },
      "source": [
        "#Agora podemos alterar o tipo do dado para float\n",
        "print(df['Conceito Enade (Faixa)'].dtype)\n",
        "df['Conceito Enade (Faixa)'] =  df['Conceito Enade (Faixa)'].astype('float64')\n",
        "print(df['Conceito Enade (Faixa)'].dtype)"
      ],
      "execution_count": null,
      "outputs": [
        {
          "output_type": "stream",
          "text": [
            "category\n",
            "float64\n"
          ],
          "name": "stdout"
        }
      ]
    },
    {
      "cell_type": "code",
      "metadata": {
        "id": "zaMPHQyXiaOq",
        "colab": {
          "base_uri": "https://localhost:8080/"
        },
        "outputId": "bdcb1ece-9517-4ec1-bbdc-4d2bc735b17b"
      },
      "source": [
        "df['Conceito Enade (Faixa)'].describe()"
      ],
      "execution_count": null,
      "outputs": [
        {
          "output_type": "execute_result",
          "data": {
            "text/plain": [
              "count    203859.000000\n",
              "mean          2.508778\n",
              "std           0.872058\n",
              "min           1.000000\n",
              "25%           2.000000\n",
              "50%           2.000000\n",
              "75%           3.000000\n",
              "max           5.000000\n",
              "Name: Conceito Enade (Faixa), dtype: float64"
            ]
          },
          "metadata": {
            "tags": []
          },
          "execution_count": 156
        }
      ]
    },
    {
      "cell_type": "markdown",
      "metadata": {
        "id": "ppjhCNdpjdPA"
      },
      "source": [
        "### - Imputação e remoção de dados ausentes\n",
        "Decidimos fazer a imputação de acordo com a mediana, pois tinhamos várias instituições sem o dado de Conceito Enade e desta forma percebemos uma pequena diferença na média geral após aplicação."
      ]
    },
    {
      "cell_type": "code",
      "metadata": {
        "id": "tQsrL1Rsg_GF"
      },
      "source": [
        "df['Conceito Enade (Faixa)'].fillna(df['Conceito Enade (Faixa)'].median(), inplace=True)\n",
        "df['Conceito Enade (Contínuo)'].fillna(df['Conceito Enade (Contínuo)'].median(), inplace=True)"
      ],
      "execution_count": null,
      "outputs": []
    },
    {
      "cell_type": "code",
      "metadata": {
        "id": "_6dzzrIkirL0",
        "colab": {
          "base_uri": "https://localhost:8080/"
        },
        "outputId": "f5599275-185c-4992-e27b-3185e2fa7a2d"
      },
      "source": [
        "df['Conceito Enade (Faixa)'].describe()"
      ],
      "execution_count": null,
      "outputs": [
        {
          "output_type": "execute_result",
          "data": {
            "text/plain": [
              "count    225555.000000\n",
              "mean          2.459839\n",
              "std           0.842519\n",
              "min           1.000000\n",
              "25%           2.000000\n",
              "50%           2.000000\n",
              "75%           3.000000\n",
              "max           5.000000\n",
              "Name: Conceito Enade (Faixa), dtype: float64"
            ]
          },
          "metadata": {
            "tags": []
          },
          "execution_count": 158
        }
      ]
    },
    {
      "cell_type": "code",
      "metadata": {
        "id": "_XYYTKzcjQL7",
        "colab": {
          "base_uri": "https://localhost:8080/"
        },
        "outputId": "dff8c3c8-f73c-40c2-9b45-f3c1b9019497"
      },
      "source": [
        "df['Conceito Enade (Faixa)'].unique()"
      ],
      "execution_count": null,
      "outputs": [
        {
          "output_type": "execute_result",
          "data": {
            "text/plain": [
              "array([4., 3., 2., 5., 1.])"
            ]
          },
          "metadata": {
            "tags": []
          },
          "execution_count": 159
        }
      ]
    },
    {
      "cell_type": "code",
      "metadata": {
        "id": "Hwqm6ONBlrWG",
        "colab": {
          "base_uri": "https://localhost:8080/"
        },
        "outputId": "75f175c0-6212-48d8-8127-5d658c65397a"
      },
      "source": [
        "#Ja temos os dados que foram integrados completos, os dados faltantes do ProUni sobre ENADE, sao cerca de 16 mil, dos +220 mil. Nesse caso, optaremos por removê-los.\n",
        "print(df.isnull().sum())\n",
        "#remove\n",
        "df = df.dropna()"
      ],
      "execution_count": null,
      "outputs": [
        {
          "output_type": "stream",
          "text": [
            "ANO_CONCESSAO_BOLSA                   0\n",
            "CODIGO_EMEC_IES_BOLSA                 0\n",
            "NOME_IES_BOLSA                        0\n",
            "TIPO_BOLSA                            0\n",
            "MODALIDADE_ENSINO_BOLSA               0\n",
            "NOME_CURSO_BOLSA                      0\n",
            "NOME_TURNO_CURSO_BOLSA                0\n",
            "CPF_BENEFICIARIO_BOLSA                0\n",
            "SEXO_BENEFICIARIO_BOLSA               0\n",
            "RACA_BENEFICIARIO_BOLSA               0\n",
            "DT_NASCIMENTO_BENEFICIARIO            0\n",
            "BENEFICIARIO_DEFICIENTE_FISICO        0\n",
            "REGIAO_BENEFICIARIO_BOLSA             0\n",
            "SIGLA_UF_BENEFICIARIO_BOLSA           0\n",
            "MUNICIPIO_BENEFICIARIO_BOLSA          0\n",
            "Código da IES                     16402\n",
            "Nome da IES                       16402\n",
            "Organização Acadêmica             16402\n",
            "Categoria Administrativa          16402\n",
            "Município do Curso                16402\n",
            "Sigla da UF                       16402\n",
            "Conceito Enade (Contínuo)             0\n",
            "Conceito Enade (Faixa)                0\n",
            "REGIAO_IES                            0\n",
            "IDADE                                 0\n",
            "dtype: int64\n"
          ],
          "name": "stdout"
        }
      ]
    },
    {
      "cell_type": "code",
      "metadata": {
        "id": "sauNY1V-ir0H",
        "colab": {
          "base_uri": "https://localhost:8080/"
        },
        "outputId": "f6763102-751c-4608-8758-65222dea915e"
      },
      "source": [
        "#verifica sem ainda tem algum dado ausente em ao menos 1 coluna\n",
        "print(df.isnull().sum())"
      ],
      "execution_count": null,
      "outputs": [
        {
          "output_type": "stream",
          "text": [
            "ANO_CONCESSAO_BOLSA               0\n",
            "CODIGO_EMEC_IES_BOLSA             0\n",
            "NOME_IES_BOLSA                    0\n",
            "TIPO_BOLSA                        0\n",
            "MODALIDADE_ENSINO_BOLSA           0\n",
            "NOME_CURSO_BOLSA                  0\n",
            "NOME_TURNO_CURSO_BOLSA            0\n",
            "CPF_BENEFICIARIO_BOLSA            0\n",
            "SEXO_BENEFICIARIO_BOLSA           0\n",
            "RACA_BENEFICIARIO_BOLSA           0\n",
            "DT_NASCIMENTO_BENEFICIARIO        0\n",
            "BENEFICIARIO_DEFICIENTE_FISICO    0\n",
            "REGIAO_BENEFICIARIO_BOLSA         0\n",
            "SIGLA_UF_BENEFICIARIO_BOLSA       0\n",
            "MUNICIPIO_BENEFICIARIO_BOLSA      0\n",
            "Código da IES                     0\n",
            "Nome da IES                       0\n",
            "Organização Acadêmica             0\n",
            "Categoria Administrativa          0\n",
            "Município do Curso                0\n",
            "Sigla da UF                       0\n",
            "Conceito Enade (Contínuo)         0\n",
            "Conceito Enade (Faixa)            0\n",
            "REGIAO_IES                        0\n",
            "IDADE                             0\n",
            "dtype: int64\n"
          ],
          "name": "stdout"
        }
      ]
    },
    {
      "cell_type": "markdown",
      "metadata": {
        "id": "QZZiEt728hDD"
      },
      "source": [
        "### – Normalização \n",
        "#### Faremos uma normalização, entre 0 e 1, nos dados correspondentes a conceito enade: Conceito Enade (Contínuo) e Conceito Enade (Faixa), para estabelecer uma escala comum.\n",
        "\n",
        "\n"
      ]
    },
    {
      "cell_type": "code",
      "metadata": {
        "id": "fkZV1aU8Ccm3",
        "colab": {
          "base_uri": "https://localhost:8080/"
        },
        "outputId": "39547927-af91-469a-e403-1e0d375dc310"
      },
      "source": [
        "# normalizando entre 0 e 1\n",
        "df['Conceito Enade (Contínuo) - normalizado'] = (df['Conceito Enade (Contínuo)'] - df['Conceito Enade (Contínuo)'].min()) / (df['Conceito Enade (Contínuo)'].max() - df['Conceito Enade (Contínuo)'].min())\n",
        "df['Conceito Enade (Faixa) - normalizado'] = (df['Conceito Enade (Faixa)'] - df['Conceito Enade (Faixa)'].min()) / (df['Conceito Enade (Faixa)'].max() - df['Conceito Enade (Faixa)'].min())\n",
        "df.head()\n"
      ],
      "execution_count": null,
      "outputs": [
        {
          "output_type": "execute_result",
          "data": {
            "text/html": [
              "<div>\n",
              "<style scoped>\n",
              "    .dataframe tbody tr th:only-of-type {\n",
              "        vertical-align: middle;\n",
              "    }\n",
              "\n",
              "    .dataframe tbody tr th {\n",
              "        vertical-align: top;\n",
              "    }\n",
              "\n",
              "    .dataframe thead th {\n",
              "        text-align: right;\n",
              "    }\n",
              "</style>\n",
              "<table border=\"1\" class=\"dataframe\">\n",
              "  <thead>\n",
              "    <tr style=\"text-align: right;\">\n",
              "      <th></th>\n",
              "      <th>ANO_CONCESSAO_BOLSA</th>\n",
              "      <th>CODIGO_EMEC_IES_BOLSA</th>\n",
              "      <th>NOME_IES_BOLSA</th>\n",
              "      <th>TIPO_BOLSA</th>\n",
              "      <th>MODALIDADE_ENSINO_BOLSA</th>\n",
              "      <th>NOME_CURSO_BOLSA</th>\n",
              "      <th>NOME_TURNO_CURSO_BOLSA</th>\n",
              "      <th>CPF_BENEFICIARIO_BOLSA</th>\n",
              "      <th>SEXO_BENEFICIARIO_BOLSA</th>\n",
              "      <th>RACA_BENEFICIARIO_BOLSA</th>\n",
              "      <th>DT_NASCIMENTO_BENEFICIARIO</th>\n",
              "      <th>BENEFICIARIO_DEFICIENTE_FISICO</th>\n",
              "      <th>REGIAO_BENEFICIARIO_BOLSA</th>\n",
              "      <th>SIGLA_UF_BENEFICIARIO_BOLSA</th>\n",
              "      <th>MUNICIPIO_BENEFICIARIO_BOLSA</th>\n",
              "      <th>Código da IES</th>\n",
              "      <th>Nome da IES</th>\n",
              "      <th>Organização Acadêmica</th>\n",
              "      <th>Categoria Administrativa</th>\n",
              "      <th>Município do Curso</th>\n",
              "      <th>Sigla da UF</th>\n",
              "      <th>Conceito Enade (Contínuo)</th>\n",
              "      <th>Conceito Enade (Faixa)</th>\n",
              "      <th>REGIAO_IES</th>\n",
              "      <th>IDADE</th>\n",
              "      <th>Conceito Enade (Contínuo) - normalizado</th>\n",
              "      <th>Conceito Enade (Faixa) - normalizado</th>\n",
              "    </tr>\n",
              "  </thead>\n",
              "  <tbody>\n",
              "    <tr>\n",
              "      <th>0</th>\n",
              "      <td>2019</td>\n",
              "      <td>10</td>\n",
              "      <td>PONTIFÍCIA UNIVERSIDADE CATÓLICA DO PARANÁ</td>\n",
              "      <td>BOLSA INTEGRAL</td>\n",
              "      <td>EAD</td>\n",
              "      <td>Administração</td>\n",
              "      <td>Curso a distância</td>\n",
              "      <td>***03183970**</td>\n",
              "      <td>M</td>\n",
              "      <td>Branca</td>\n",
              "      <td>1993-08-19</td>\n",
              "      <td>N</td>\n",
              "      <td>Sul</td>\n",
              "      <td>PR</td>\n",
              "      <td>LONDRINA</td>\n",
              "      <td>10</td>\n",
              "      <td>PONTIFÍCIA UNIVERSIDADE CATÓLICA DO PARANÁ</td>\n",
              "      <td>Universidade</td>\n",
              "      <td>Privada sem fins lucrativos</td>\n",
              "      <td>Curitiba</td>\n",
              "      <td>PR</td>\n",
              "      <td>3.6396</td>\n",
              "      <td>4.0</td>\n",
              "      <td>Sul</td>\n",
              "      <td>28</td>\n",
              "      <td>0.764188</td>\n",
              "      <td>0.75</td>\n",
              "    </tr>\n",
              "    <tr>\n",
              "      <th>1</th>\n",
              "      <td>2019</td>\n",
              "      <td>10</td>\n",
              "      <td>PONTIFÍCIA UNIVERSIDADE CATÓLICA DO PARANÁ</td>\n",
              "      <td>BOLSA INTEGRAL</td>\n",
              "      <td>EAD</td>\n",
              "      <td>Administração</td>\n",
              "      <td>Curso a distância</td>\n",
              "      <td>***92848904**</td>\n",
              "      <td>F</td>\n",
              "      <td>Branca</td>\n",
              "      <td>1999-11-03</td>\n",
              "      <td>N</td>\n",
              "      <td>Sul</td>\n",
              "      <td>PR</td>\n",
              "      <td>SAO JOSE DOS PINHAIS</td>\n",
              "      <td>10</td>\n",
              "      <td>PONTIFÍCIA UNIVERSIDADE CATÓLICA DO PARANÁ</td>\n",
              "      <td>Universidade</td>\n",
              "      <td>Privada sem fins lucrativos</td>\n",
              "      <td>Curitiba</td>\n",
              "      <td>PR</td>\n",
              "      <td>3.6396</td>\n",
              "      <td>4.0</td>\n",
              "      <td>Sul</td>\n",
              "      <td>22</td>\n",
              "      <td>0.764188</td>\n",
              "      <td>0.75</td>\n",
              "    </tr>\n",
              "    <tr>\n",
              "      <th>2</th>\n",
              "      <td>2019</td>\n",
              "      <td>10</td>\n",
              "      <td>PONTIFÍCIA UNIVERSIDADE CATÓLICA DO PARANÁ</td>\n",
              "      <td>BOLSA INTEGRAL</td>\n",
              "      <td>EAD</td>\n",
              "      <td>Análise E Desenvolvimento De Sistemas</td>\n",
              "      <td>Curso a distância</td>\n",
              "      <td>***12457929**</td>\n",
              "      <td>M</td>\n",
              "      <td>Parda</td>\n",
              "      <td>1999-04-02</td>\n",
              "      <td>N</td>\n",
              "      <td>Sul</td>\n",
              "      <td>PR</td>\n",
              "      <td>QUATRO BARRAS</td>\n",
              "      <td>10</td>\n",
              "      <td>PONTIFÍCIA UNIVERSIDADE CATÓLICA DO PARANÁ</td>\n",
              "      <td>Universidade</td>\n",
              "      <td>Privada sem fins lucrativos</td>\n",
              "      <td>Curitiba</td>\n",
              "      <td>PR</td>\n",
              "      <td>3.6396</td>\n",
              "      <td>4.0</td>\n",
              "      <td>Sul</td>\n",
              "      <td>22</td>\n",
              "      <td>0.764188</td>\n",
              "      <td>0.75</td>\n",
              "    </tr>\n",
              "    <tr>\n",
              "      <th>3</th>\n",
              "      <td>2019</td>\n",
              "      <td>10</td>\n",
              "      <td>PONTIFÍCIA UNIVERSIDADE CATÓLICA DO PARANÁ</td>\n",
              "      <td>BOLSA INTEGRAL</td>\n",
              "      <td>EAD</td>\n",
              "      <td>Análise E Desenvolvimento De Sistemas</td>\n",
              "      <td>Curso a distância</td>\n",
              "      <td>***21386908**</td>\n",
              "      <td>M</td>\n",
              "      <td>Branca</td>\n",
              "      <td>2000-03-15</td>\n",
              "      <td>N</td>\n",
              "      <td>Sul</td>\n",
              "      <td>PR</td>\n",
              "      <td>CURITIBA</td>\n",
              "      <td>10</td>\n",
              "      <td>PONTIFÍCIA UNIVERSIDADE CATÓLICA DO PARANÁ</td>\n",
              "      <td>Universidade</td>\n",
              "      <td>Privada sem fins lucrativos</td>\n",
              "      <td>Curitiba</td>\n",
              "      <td>PR</td>\n",
              "      <td>3.6396</td>\n",
              "      <td>4.0</td>\n",
              "      <td>Sul</td>\n",
              "      <td>21</td>\n",
              "      <td>0.764188</td>\n",
              "      <td>0.75</td>\n",
              "    </tr>\n",
              "    <tr>\n",
              "      <th>4</th>\n",
              "      <td>2019</td>\n",
              "      <td>10</td>\n",
              "      <td>PONTIFÍCIA UNIVERSIDADE CATÓLICA DO PARANÁ</td>\n",
              "      <td>BOLSA INTEGRAL</td>\n",
              "      <td>EAD</td>\n",
              "      <td>Análise E Desenvolvimento De Sistemas</td>\n",
              "      <td>Curso a distância</td>\n",
              "      <td>***27405933**</td>\n",
              "      <td>M</td>\n",
              "      <td>Branca</td>\n",
              "      <td>1993-05-23</td>\n",
              "      <td>N</td>\n",
              "      <td>Sul</td>\n",
              "      <td>PR</td>\n",
              "      <td>SAO JOSE DOS PINHAIS</td>\n",
              "      <td>10</td>\n",
              "      <td>PONTIFÍCIA UNIVERSIDADE CATÓLICA DO PARANÁ</td>\n",
              "      <td>Universidade</td>\n",
              "      <td>Privada sem fins lucrativos</td>\n",
              "      <td>Curitiba</td>\n",
              "      <td>PR</td>\n",
              "      <td>3.6396</td>\n",
              "      <td>4.0</td>\n",
              "      <td>Sul</td>\n",
              "      <td>28</td>\n",
              "      <td>0.764188</td>\n",
              "      <td>0.75</td>\n",
              "    </tr>\n",
              "  </tbody>\n",
              "</table>\n",
              "</div>"
            ],
            "text/plain": [
              "   ANO_CONCESSAO_BOLSA  ...  Conceito Enade (Faixa) - normalizado\n",
              "0                 2019  ...                                  0.75\n",
              "1                 2019  ...                                  0.75\n",
              "2                 2019  ...                                  0.75\n",
              "3                 2019  ...                                  0.75\n",
              "4                 2019  ...                                  0.75\n",
              "\n",
              "[5 rows x 27 columns]"
            ]
          },
          "metadata": {
            "tags": []
          },
          "execution_count": 162
        }
      ]
    },
    {
      "cell_type": "code",
      "metadata": {
        "id": "0i6bx1Q1CfvI",
        "colab": {
          "base_uri": "https://localhost:8080/"
        },
        "outputId": "2f63d7d1-125e-4164-ad5f-a122163e7a48"
      },
      "source": [
        "df['Conceito Enade (Contínuo) - normalizado'].hist()"
      ],
      "execution_count": null,
      "outputs": [
        {
          "output_type": "execute_result",
          "data": {
            "text/plain": [
              "<matplotlib.axes._subplots.AxesSubplot at 0x7f01a840ec50>"
            ]
          },
          "metadata": {
            "tags": []
          },
          "execution_count": 163
        },
        {
          "output_type": "display_data",
          "data": {
            "image/png": "[encoded data removed]",
            "text/plain": [
              "<Figure size 432x288 with 1 Axes>"
            ]
          },
          "metadata": {
            "tags": [],
            "needs_background": "light"
          }
        }
      ]
    },
    {
      "cell_type": "code",
      "metadata": {
        "id": "DEOUUSMxNVjB",
        "colab": {
          "base_uri": "https://localhost:8080/"
        },
        "outputId": "ad971d05-e922-4668-f6e4-89a8d26755b7"
      },
      "source": [
        "df['Conceito Enade (Contínuo) - normalizado'].describe()"
      ],
      "execution_count": null,
      "outputs": [
        {
          "output_type": "execute_result",
          "data": {
            "text/plain": [
              "count    209153.000000\n",
              "mean          0.419776\n",
              "std           0.181657\n",
              "min           0.000000\n",
              "25%           0.327797\n",
              "50%           0.357297\n",
              "75%           0.519810\n",
              "max           1.000000\n",
              "Name: Conceito Enade (Contínuo) - normalizado, dtype: float64"
            ]
          },
          "metadata": {
            "tags": []
          },
          "execution_count": 164
        }
      ]
    },
    {
      "cell_type": "code",
      "metadata": {
        "id": "kFhn1udtNgho",
        "colab": {
          "base_uri": "https://localhost:8080/"
        },
        "outputId": "be182442-7e29-44a2-b714-3f80d62d8fc4"
      },
      "source": [
        "df['Conceito Enade (Contínuo) - normalizado'].mode()"
      ],
      "execution_count": null,
      "outputs": [
        {
          "output_type": "execute_result",
          "data": {
            "text/plain": [
              "0    0.339849\n",
              "dtype: float64"
            ]
          },
          "metadata": {
            "tags": []
          },
          "execution_count": 165
        }
      ]
    },
    {
      "cell_type": "code",
      "metadata": {
        "id": "M-xFgMuMNokL",
        "colab": {
          "base_uri": "https://localhost:8080/"
        },
        "outputId": "d328ff74-6081-4290-c5d9-ad2b058ab9b3"
      },
      "source": [
        "df['Conceito Enade (Contínuo) - normalizado'].unique()"
      ],
      "execution_count": null,
      "outputs": [
        {
          "output_type": "execute_result",
          "data": {
            "text/plain": [
              "array([0.76418838, 0.58945556, 0.6353539 , 0.48218448, 0.46729796,\n",
              "       0.37163794, 0.56390283, 0.46519831, 0.72471497, 0.87794738,\n",
              "       0.54817645, 0.39958427, 0.56474269, 0.62997879, 0.44394986,\n",
              "       0.6149453 , 0.41762026, 0.23329204, 0.39803053, 0.6892309 ,\n",
              "       0.36664077, 0.39036681, 0.55602914, 0.51714364, 0.41783022,\n",
              "       0.43047011, 0.        , 0.49488735, 0.42807651, 0.53826611,\n",
              "       0.51571588, 0.31534634, 0.50819913, 0.32916203, 0.53213513,\n",
              "       0.42171457, 0.43687404, 0.58613811, 0.38849812, 0.5215529 ,\n",
              "       0.43288471, 0.3742415 , 0.18709975, 0.44756126, 0.43637013,\n",
              "       0.49839377, 0.18495811, 0.65737922, 0.4575136 , 0.2533227 ,\n",
              "       0.51267138, 0.38362693, 0.31820186, 0.05190333, 0.33984925,\n",
              "       0.66911626, 0.64568417, 0.33814853, 0.46897768, 0.82528818,\n",
              "       0.53992483, 0.47913998, 0.49568522, 0.35729733, 0.33743465,\n",
              "       0.42415017, 0.36038382, 0.49692401, 0.26993092, 0.6568753 ,\n",
              "       0.3215403 , 0.51496   , 0.07113612, 0.57072669, 0.49992651,\n",
              "       0.57595482, 0.14758435, 0.74963781, 0.3790707 , 0.46257375,\n",
              "       0.41098537, 0.50973187, 0.52493334, 0.4742268 , 0.35698238,\n",
              "       0.11650954, 0.44098935, 0.40092805, 0.22986961, 0.30430218,\n",
              "       0.32492074, 0.44917799, 0.36365927, 0.51943225, 0.45847943,\n",
              "       0.68606043, 0.2610704 , 0.62304995, 0.6431226 , 0.24880845,\n",
              "       0.30545699, 0.47538161, 0.52100699, 0.42383522, 0.47830012,\n",
              "       0.30648582, 0.42555693, 0.49688202, 0.60877234, 0.49474038,\n",
              "       0.47767023, 0.35418985, 0.4179352 , 0.820375  , 0.64807777,\n",
              "       0.52833477, 0.54143658, 0.40271275, 0.73689294, 0.61301363,\n",
              "       0.75606274, 0.71008042, 0.34226384, 0.47762824, 0.82682092,\n",
              "       0.60589582, 0.13855586, 0.63963718, 0.5916182 , 0.39616184,\n",
              "       0.61351754, 0.65485964, 0.3209734 , 0.76263464, 0.48732862,\n",
              "       0.5167657 , 0.35681441, 0.3209314 , 0.15604594, 0.62235707,\n",
              "       0.35977492, 0.48892435, 0.28233985, 0.54868037, 0.51934827,\n",
              "       0.34938165, 0.41482772, 0.69187646, 0.66989313, 0.43555126,\n",
              "       0.39670775, 0.50767422, 0.12358536, 0.61028408, 0.53648141,\n",
              "       0.53912697, 0.68725723, 0.35862011, 0.53820312, 0.27853948,\n",
              "       0.2724715 , 0.53301699, 0.31364562, 0.39866042, 0.78365213,\n",
              "       0.54544691, 0.41965692, 0.36036282, 0.37109203, 0.5945997 ,\n",
              "       0.50213114, 0.14701745, 0.30176161, 0.24853549, 0.28733701,\n",
              "       0.53196716, 0.25071913, 0.31631218, 0.6215382 , 0.40275474,\n",
              "       0.33445315, 0.55859072, 0.42681672, 0.36172759, 0.51567388,\n",
              "       0.5012073 , 0.41090138, 0.44147227, 0.59048439, 0.93812333,\n",
              "       0.21261049, 0.75379512, 0.47296701, 0.47323997, 0.45608583,\n",
              "       0.25823587, 0.34961261, 0.41720033, 0.28928969, 0.33961828,\n",
              "       0.3370987 , 0.42079073, 0.33562895, 0.57889432, 0.68484263,\n",
              "       0.66483297, 0.44581855, 0.43519432, 0.15969933, 0.74690827,\n",
              "       0.34205388, 0.2401159 , 0.53790917, 0.32460579, 0.13912277,\n",
              "       0.61561719, 0.51164256, 0.30953031, 0.38830915, 0.77859198,\n",
              "       0.63459802, 0.37029416, 0.5652886 , 0.52543725, 0.39248745,\n",
              "       0.42639679, 0.74396876, 0.38675541, 0.45936129, 0.57929326,\n",
              "       0.73076196, 0.25288177, 0.18903143, 0.46374955, 0.41520566,\n",
              "       0.50572154, 0.37394755, 0.65555252, 0.61131291, 0.57341424,\n",
              "       0.30644382, 0.12030991, 0.32023852, 0.32779726, 0.47729229,\n",
              "       0.58366053, 0.47095135, 0.5790623 , 0.72202742, 0.59392781,\n",
              "       0.24469314, 0.25573729, 0.32049048, 0.35488273, 0.23192727,\n",
              "       0.3844038 , 0.29269112, 0.6975875 , 0.57996515, 0.58779684,\n",
              "       0.62571651, 0.58977051, 0.60833141, 0.45360825, 0.26338002,\n",
              "       0.41190921, 0.35904004, 0.46985953, 0.42478006, 0.30696874,\n",
              "       0.15720075, 0.17817624, 0.42131564, 0.47494068, 0.58838474,\n",
              "       0.46427447, 0.44892603, 0.29712138, 0.17181431, 0.32015453,\n",
              "       0.34186491, 0.58349256, 0.2964285 , 0.34637915, 0.50292901,\n",
              "       0.33430617, 0.39859743, 0.27530602, 0.39599387, 0.28236085,\n",
              "       0.76066097, 0.44413883, 0.61057803, 0.35368593, 0.40235581,\n",
              "       0.49379554, 0.54202448, 0.30566695, 0.25949566, 0.33940832,\n",
              "       0.44640645, 0.10653621, 0.40063409, 0.67549919, 0.2125895 ,\n",
              "       0.13656119, 0.59348689, 0.36575892, 0.5059945 , 0.49801583,\n",
              "       0.46557625, 0.51328028, 0.5993869 , 0.38870809, 0.42566191,\n",
              "       0.23988494, 0.24343335, 0.13276083, 0.36050979, 0.24593193,\n",
              "       0.64919059, 0.52148991, 0.42129464, 0.25466647, 0.64035106,\n",
              "       0.65752619, 0.37021017, 0.44048544, 0.28582527, 0.59231108,\n",
              "       0.4467214 , 0.16003527, 0.4814496 , 0.36256745, 0.41703236,\n",
              "       0.4856489 , 0.24127071, 0.21216957, 0.26682344, 0.96115649,\n",
              "       0.50114431, 0.2676633 , 0.29298507, 0.17758834, 0.38824616,\n",
              "       0.4269217 , 0.27478111, 0.56140425, 0.54685368, 0.29330002,\n",
              "       0.32943498, 0.75742751, 0.43072207, 0.68402377, 0.52711697,\n",
              "       0.6305667 , 0.3814223 , 0.51044576, 0.23280912, 0.37493439,\n",
              "       0.2988221 , 0.05482184, 0.44311   , 0.44094736, 0.33646881,\n",
              "       0.4634976 , 0.67850169, 0.34003821, 0.19230688, 0.431163  ,\n",
              "       0.51981019, 0.28135301, 0.41489071, 0.78948916, 0.8197661 ,\n",
              "       0.51708065, 0.2766498 , 0.3024125 , 0.50286602, 0.40050812,\n",
              "       0.44397086, 0.57855838, 0.46198585, 0.54301132, 0.47632645,\n",
              "       0.45820648, 0.802381  , 0.38249312, 0.22709807, 0.6179688 ,\n",
              "       0.55195582, 0.33617486, 0.64387847, 0.60133958, 0.36918135,\n",
              "       0.41533164, 0.46952359, 0.4700695 , 0.3628824 , 0.51651374,\n",
              "       0.46841078, 0.30801856, 0.49977954, 0.48039977, 0.31072711,\n",
              "       0.51745858, 0.25737502, 0.49963256, 0.24156466, 0.27387826,\n",
              "       0.40661809, 0.43855376, 0.22497743, 0.34631617, 0.43840679,\n",
              "       0.38102337, 0.23799525, 0.21244252, 0.55063304, 0.62957986,\n",
              "       0.40613518, 0.71703026, 0.23826821, 0.30782959, 0.30342033,\n",
              "       0.37377958, 0.35683541, 0.63010477, 0.10510845, 0.10258887,\n",
              "       0.57234342, 0.51672371, 0.51178953, 0.54215046, 0.35733932,\n",
              "       0.46503034, 0.46597518, 0.18699477, 0.48833645, 0.35263611,\n",
              "       0.43939362, 0.50353791, 0.59396981, 0.43658009, 0.21743969,\n",
              "       0.54607681, 0.31305772, 0.16837088, 0.33071577, 0.79142083,\n",
              "       0.37747496, 0.34297772, 0.23900309, 0.57129359, 0.22930271,\n",
              "       0.24885044, 0.22739203, 0.33720369, 0.44833813, 0.5521028 ,\n",
              "       0.25661914, 0.25048817, 0.5485124 , 0.57175552, 0.3215613 ,\n",
              "       0.35966994, 0.17983497, 0.3479119 , 0.42599786, 0.38096038,\n",
              "       0.43397653, 0.63002079, 0.55840175, 0.26438785, 0.49471938,\n",
              "       0.4856279 , 0.48867239, 0.48310832, 0.33428517, 0.49261973,\n",
              "       0.62437273, 0.59191215, 0.41331598, 0.3371407 , 0.50347492,\n",
              "       0.3431037 , 0.31818086, 0.5730783 , 0.61425242, 0.18031789,\n",
              "       0.5083671 , 0.31177693, 0.5000105 , 0.55852773, 0.29275411,\n",
              "       0.21204359, 0.54737859, 0.30392424, 0.63281332, 0.49037311,\n",
              "       0.3179919 , 0.54569887, 0.23973796, 0.39504903, 0.24618389,\n",
              "       0.28796691, 0.66430806, 0.6173389 , 0.6502824 , 0.35038948,\n",
              "       0.49438344, 0.49826779, 0.5395049 , 0.2742352 , 0.28691708,\n",
              "       0.4545111 , 0.53461272, 0.44896802, 0.16870683, 0.59600647,\n",
              "       0.31442249, 0.48216348, 0.34442648, 0.62233607, 0.49835178,\n",
              "       0.52564722, 0.32315703, 0.57591282, 0.1999706 , 0.51481303,\n",
              "       0.24078779, 0.46794885, 0.71894094, 0.13013627, 0.12360636,\n",
              "       0.34520335, 0.81357213, 0.36277742, 0.18147269, 0.53839209,\n",
              "       0.24024188, 0.49566422, 0.57727759, 0.33636383, 0.44821215,\n",
              "       0.48556491, 0.46603817, 0.22327671, 0.53394083, 0.42843345,\n",
              "       0.24456716, 0.1748798 , 0.32676843, 0.20826422, 0.45472106,\n",
              "       0.40013018, 0.3143595 , 0.26724337, 0.31427552, 0.46135595,\n",
              "       0.35540765, 0.74025238, 0.43536229, 0.53226111, 0.48438911,\n",
              "       0.38387889, 0.18539904, 0.46240578, 0.54334726, 0.27404623,\n",
              "       0.52382052, 0.41285405, 0.28532135, 0.58750289, 0.60257837,\n",
              "       0.4083608 , 0.18300544, 0.45430113, 0.28196191, 0.55134693,\n",
              "       0.1490751 , 0.34106704, 0.28849182, 0.26720138, 0.11359103,\n",
              "       0.37552229, 0.50809415, 0.25162198, 0.48896634, 0.30192958,\n",
              "       0.05944107, 0.72843135, 0.27570496, 0.29239717, 0.095786  ,\n",
              "       0.37497638, 0.61631008, 0.12450921, 0.42837046, 0.28889076,\n",
              "       0.29657547, 0.21956033, 0.28038718, 0.54353623, 0.28286476,\n",
              "       0.37816785, 0.47790119, 0.33644781, 0.18424423, 0.07000231,\n",
              "       0.25241985, 0.6472799 , 0.32800722, 0.3317446 , 0.50047242,\n",
              "       0.38452978, 0.39737964, 0.31641716, 0.91051294, 0.39097571,\n",
              "       0.48726563, 0.35442081, 0.44052743, 0.48869339, 0.18017091,\n",
              "       0.3700422 , 0.44619649, 0.41004052, 0.58307263, 0.63260336,\n",
              "       0.87196338, 0.36053079, 0.40105402, 0.55875869, 0.33382325,\n",
              "       0.34400655, 0.43926764, 0.45241145, 0.42433914, 0.73477229,\n",
              "       0.21183362, 0.27629286, 0.5431373 , 0.17292712, 0.50269805,\n",
              "       0.40842379, 0.36775359, 0.16671216, 0.41350494, 0.45323031,\n",
              "       0.36386923, 0.08724043, 0.34232683, 0.32989691, 0.3263695 ,\n",
              "       0.40991454, 0.61095597, 0.12952737, 0.43128897, 0.30218154,\n",
              "       0.53125328, 0.89980473, 1.        , 0.23001659, 0.43649611,\n",
              "       0.3484788 , 0.15791463, 0.34308271, 0.17517375, 0.30558297,\n",
              "       0.24093476, 0.20570265, 0.40493838, 0.48123963, 0.38944296,\n",
              "       0.33690974, 0.29626052, 0.21548701, 0.31637517, 0.70166082,\n",
              "       0.46605917, 0.56171919, 0.53062339, 0.28752598, 0.52959456,\n",
              "       0.35246814, 0.28987759, 0.28933168, 0.17456485, 0.17481681,\n",
              "       0.59258404, 0.26676045, 0.25325971, 0.3826191 , 0.79125286,\n",
              "       0.9885989 , 0.46131396, 0.22014824, 0.39166859, 0.36002688,\n",
              "       0.30549898, 0.45045877, 0.4084028 , 0.32225418, 0.45232746,\n",
              "       0.19801793, 0.47470972, 0.70281563, 0.30577194, 0.37972159,\n",
              "       0.0083566 , 0.32828018, 0.51880236, 0.22321372, 0.40521133,\n",
              "       0.35830516, 0.4802318 , 0.30585592, 0.41646545, 0.63262435,\n",
              "       0.25349067, 0.2431394 , 0.50595251, 0.14029857, 0.36141264,\n",
              "       0.13154303, 0.36452013, 0.49971655, 0.35332899, 0.31759296,\n",
              "       0.27541101, 0.48692968, 0.04367271, 0.26589959, 0.39933231,\n",
              "       0.39987822, 0.30990825, 0.40483339, 0.35574359, 0.11821026,\n",
              "       0.32473177, 0.45066874, 0.46796985, 0.37739098, 0.13217293])"
            ]
          },
          "metadata": {
            "tags": []
          },
          "execution_count": 166
        }
      ]
    },
    {
      "cell_type": "code",
      "metadata": {
        "id": "oqLxfaWODIN3",
        "colab": {
          "base_uri": "https://localhost:8080/"
        },
        "outputId": "56314312-92f7-4da2-f3d8-e82bbaa0ed7b"
      },
      "source": [
        "df[['Conceito Enade (Contínuo)', 'Conceito Enade (Faixa)', 'IDADE']].describe()\n",
        "#Essas sao as colunas que podemos fazer consultas sobre dados numéricos"
      ],
      "execution_count": null,
      "outputs": [
        {
          "output_type": "execute_result",
          "data": {
            "text/html": [
              "<div>\n",
              "<style scoped>\n",
              "    .dataframe tbody tr th:only-of-type {\n",
              "        vertical-align: middle;\n",
              "    }\n",
              "\n",
              "    .dataframe tbody tr th {\n",
              "        vertical-align: top;\n",
              "    }\n",
              "\n",
              "    .dataframe thead th {\n",
              "        text-align: right;\n",
              "    }\n",
              "</style>\n",
              "<table border=\"1\" class=\"dataframe\">\n",
              "  <thead>\n",
              "    <tr style=\"text-align: right;\">\n",
              "      <th></th>\n",
              "      <th>Conceito Enade (Contínuo)</th>\n",
              "      <th>Conceito Enade (Faixa)</th>\n",
              "      <th>IDADE</th>\n",
              "    </tr>\n",
              "  </thead>\n",
              "  <tbody>\n",
              "    <tr>\n",
              "      <th>count</th>\n",
              "      <td>209153.000000</td>\n",
              "      <td>209153.000000</td>\n",
              "      <td>209153.000000</td>\n",
              "    </tr>\n",
              "    <tr>\n",
              "      <th>mean</th>\n",
              "      <td>1.999268</td>\n",
              "      <td>2.495900</td>\n",
              "      <td>25.368701</td>\n",
              "    </tr>\n",
              "    <tr>\n",
              "      <th>std</th>\n",
              "      <td>0.865177</td>\n",
              "      <td>0.864652</td>\n",
              "      <td>6.731031</td>\n",
              "    </tr>\n",
              "    <tr>\n",
              "      <th>min</th>\n",
              "      <td>0.000000</td>\n",
              "      <td>1.000000</td>\n",
              "      <td>13.000000</td>\n",
              "    </tr>\n",
              "    <tr>\n",
              "      <th>25%</th>\n",
              "      <td>1.561200</td>\n",
              "      <td>2.000000</td>\n",
              "      <td>21.000000</td>\n",
              "    </tr>\n",
              "    <tr>\n",
              "      <th>50%</th>\n",
              "      <td>1.701700</td>\n",
              "      <td>2.000000</td>\n",
              "      <td>23.000000</td>\n",
              "    </tr>\n",
              "    <tr>\n",
              "      <th>75%</th>\n",
              "      <td>2.475700</td>\n",
              "      <td>3.000000</td>\n",
              "      <td>27.000000</td>\n",
              "    </tr>\n",
              "    <tr>\n",
              "      <th>max</th>\n",
              "      <td>4.762700</td>\n",
              "      <td>5.000000</td>\n",
              "      <td>78.000000</td>\n",
              "    </tr>\n",
              "  </tbody>\n",
              "</table>\n",
              "</div>"
            ],
            "text/plain": [
              "       Conceito Enade (Contínuo)  Conceito Enade (Faixa)          IDADE\n",
              "count              209153.000000           209153.000000  209153.000000\n",
              "mean                    1.999268                2.495900      25.368701\n",
              "std                     0.865177                0.864652       6.731031\n",
              "min                     0.000000                1.000000      13.000000\n",
              "25%                     1.561200                2.000000      21.000000\n",
              "50%                     1.701700                2.000000      23.000000\n",
              "75%                     2.475700                3.000000      27.000000\n",
              "max                     4.762700                5.000000      78.000000"
            ]
          },
          "metadata": {
            "tags": []
          },
          "execution_count": 167
        }
      ]
    },
    {
      "cell_type": "code",
      "metadata": {
        "id": "9hGkOHq9E4OY",
        "colab": {
          "base_uri": "https://localhost:8080/"
        },
        "outputId": "fa6c3290-f0c2-42b8-d3d0-f6be7c52e81d"
      },
      "source": [
        "#Fazemos uma contagem em relação ao nome do curso da bolsa, especialmente porque queremos saber \n",
        "#a totalização de algumas colunas por curso, como cpf, que vai nos informar o total pessoas por \n",
        "#curso, por exemplo\n",
        "GROUPED_BY_NOME_CURSO_BOLSA=df.groupby('NOME_CURSO_BOLSA').count()\n",
        "GROUPED_BY_NOME_CURSO_BOLSA"
      ],
      "execution_count": null,
      "outputs": [
        {
          "output_type": "execute_result",
          "data": {
            "text/html": [
              "<div>\n",
              "<style scoped>\n",
              "    .dataframe tbody tr th:only-of-type {\n",
              "        vertical-align: middle;\n",
              "    }\n",
              "\n",
              "    .dataframe tbody tr th {\n",
              "        vertical-align: top;\n",
              "    }\n",
              "\n",
              "    .dataframe thead th {\n",
              "        text-align: right;\n",
              "    }\n",
              "</style>\n",
              "<table border=\"1\" class=\"dataframe\">\n",
              "  <thead>\n",
              "    <tr style=\"text-align: right;\">\n",
              "      <th></th>\n",
              "      <th>ANO_CONCESSAO_BOLSA</th>\n",
              "      <th>CODIGO_EMEC_IES_BOLSA</th>\n",
              "      <th>NOME_IES_BOLSA</th>\n",
              "      <th>TIPO_BOLSA</th>\n",
              "      <th>MODALIDADE_ENSINO_BOLSA</th>\n",
              "      <th>NOME_TURNO_CURSO_BOLSA</th>\n",
              "      <th>CPF_BENEFICIARIO_BOLSA</th>\n",
              "      <th>SEXO_BENEFICIARIO_BOLSA</th>\n",
              "      <th>RACA_BENEFICIARIO_BOLSA</th>\n",
              "      <th>DT_NASCIMENTO_BENEFICIARIO</th>\n",
              "      <th>BENEFICIARIO_DEFICIENTE_FISICO</th>\n",
              "      <th>REGIAO_BENEFICIARIO_BOLSA</th>\n",
              "      <th>SIGLA_UF_BENEFICIARIO_BOLSA</th>\n",
              "      <th>MUNICIPIO_BENEFICIARIO_BOLSA</th>\n",
              "      <th>Código da IES</th>\n",
              "      <th>Nome da IES</th>\n",
              "      <th>Organização Acadêmica</th>\n",
              "      <th>Categoria Administrativa</th>\n",
              "      <th>Município do Curso</th>\n",
              "      <th>Sigla da UF</th>\n",
              "      <th>Conceito Enade (Contínuo)</th>\n",
              "      <th>Conceito Enade (Faixa)</th>\n",
              "      <th>REGIAO_IES</th>\n",
              "      <th>IDADE</th>\n",
              "      <th>Conceito Enade (Contínuo) - normalizado</th>\n",
              "      <th>Conceito Enade (Faixa) - normalizado</th>\n",
              "    </tr>\n",
              "    <tr>\n",
              "      <th>NOME_CURSO_BOLSA</th>\n",
              "      <th></th>\n",
              "      <th></th>\n",
              "      <th></th>\n",
              "      <th></th>\n",
              "      <th></th>\n",
              "      <th></th>\n",
              "      <th></th>\n",
              "      <th></th>\n",
              "      <th></th>\n",
              "      <th></th>\n",
              "      <th></th>\n",
              "      <th></th>\n",
              "      <th></th>\n",
              "      <th></th>\n",
              "      <th></th>\n",
              "      <th></th>\n",
              "      <th></th>\n",
              "      <th></th>\n",
              "      <th></th>\n",
              "      <th></th>\n",
              "      <th></th>\n",
              "      <th></th>\n",
              "      <th></th>\n",
              "      <th></th>\n",
              "      <th></th>\n",
              "      <th></th>\n",
              "    </tr>\n",
              "  </thead>\n",
              "  <tbody>\n",
              "    <tr>\n",
              "      <th>Tradução E Interpretação</th>\n",
              "      <td>1</td>\n",
              "      <td>1</td>\n",
              "      <td>1</td>\n",
              "      <td>1</td>\n",
              "      <td>1</td>\n",
              "      <td>1</td>\n",
              "      <td>1</td>\n",
              "      <td>1</td>\n",
              "      <td>1</td>\n",
              "      <td>1</td>\n",
              "      <td>1</td>\n",
              "      <td>1</td>\n",
              "      <td>1</td>\n",
              "      <td>1</td>\n",
              "      <td>1</td>\n",
              "      <td>1</td>\n",
              "      <td>1</td>\n",
              "      <td>1</td>\n",
              "      <td>1</td>\n",
              "      <td>1</td>\n",
              "      <td>1</td>\n",
              "      <td>1</td>\n",
              "      <td>1</td>\n",
              "      <td>1</td>\n",
              "      <td>1</td>\n",
              "      <td>1</td>\n",
              "    </tr>\n",
              "    <tr>\n",
              "      <th>Engenharia Aeronáutica E Espaço</th>\n",
              "      <td>8</td>\n",
              "      <td>8</td>\n",
              "      <td>8</td>\n",
              "      <td>8</td>\n",
              "      <td>8</td>\n",
              "      <td>8</td>\n",
              "      <td>8</td>\n",
              "      <td>8</td>\n",
              "      <td>8</td>\n",
              "      <td>8</td>\n",
              "      <td>8</td>\n",
              "      <td>8</td>\n",
              "      <td>8</td>\n",
              "      <td>8</td>\n",
              "      <td>8</td>\n",
              "      <td>8</td>\n",
              "      <td>8</td>\n",
              "      <td>8</td>\n",
              "      <td>8</td>\n",
              "      <td>8</td>\n",
              "      <td>8</td>\n",
              "      <td>8</td>\n",
              "      <td>8</td>\n",
              "      <td>8</td>\n",
              "      <td>8</td>\n",
              "      <td>8</td>\n",
              "    </tr>\n",
              "    <tr>\n",
              "      <th>Engenharia Biomédica</th>\n",
              "      <td>4</td>\n",
              "      <td>4</td>\n",
              "      <td>4</td>\n",
              "      <td>4</td>\n",
              "      <td>4</td>\n",
              "      <td>4</td>\n",
              "      <td>4</td>\n",
              "      <td>4</td>\n",
              "      <td>4</td>\n",
              "      <td>4</td>\n",
              "      <td>4</td>\n",
              "      <td>4</td>\n",
              "      <td>4</td>\n",
              "      <td>4</td>\n",
              "      <td>4</td>\n",
              "      <td>4</td>\n",
              "      <td>4</td>\n",
              "      <td>4</td>\n",
              "      <td>4</td>\n",
              "      <td>4</td>\n",
              "      <td>4</td>\n",
              "      <td>4</td>\n",
              "      <td>4</td>\n",
              "      <td>4</td>\n",
              "      <td>4</td>\n",
              "      <td>4</td>\n",
              "    </tr>\n",
              "    <tr>\n",
              "      <th>Engenharia Civil E Ambiental</th>\n",
              "      <td>6</td>\n",
              "      <td>6</td>\n",
              "      <td>6</td>\n",
              "      <td>6</td>\n",
              "      <td>6</td>\n",
              "      <td>6</td>\n",
              "      <td>6</td>\n",
              "      <td>6</td>\n",
              "      <td>6</td>\n",
              "      <td>6</td>\n",
              "      <td>6</td>\n",
              "      <td>6</td>\n",
              "      <td>6</td>\n",
              "      <td>6</td>\n",
              "      <td>6</td>\n",
              "      <td>6</td>\n",
              "      <td>6</td>\n",
              "      <td>6</td>\n",
              "      <td>6</td>\n",
              "      <td>6</td>\n",
              "      <td>6</td>\n",
              "      <td>6</td>\n",
              "      <td>6</td>\n",
              "      <td>6</td>\n",
              "      <td>6</td>\n",
              "      <td>6</td>\n",
              "    </tr>\n",
              "    <tr>\n",
              "      <th>Engenharia De Automação E Sistemas</th>\n",
              "      <td>3</td>\n",
              "      <td>3</td>\n",
              "      <td>3</td>\n",
              "      <td>3</td>\n",
              "      <td>3</td>\n",
              "      <td>3</td>\n",
              "      <td>3</td>\n",
              "      <td>3</td>\n",
              "      <td>3</td>\n",
              "      <td>3</td>\n",
              "      <td>3</td>\n",
              "      <td>3</td>\n",
              "      <td>3</td>\n",
              "      <td>3</td>\n",
              "      <td>3</td>\n",
              "      <td>3</td>\n",
              "      <td>3</td>\n",
              "      <td>3</td>\n",
              "      <td>3</td>\n",
              "      <td>3</td>\n",
              "      <td>3</td>\n",
              "      <td>3</td>\n",
              "      <td>3</td>\n",
              "      <td>3</td>\n",
              "      <td>3</td>\n",
              "      <td>3</td>\n",
              "    </tr>\n",
              "    <tr>\n",
              "      <th>...</th>\n",
              "      <td>...</td>\n",
              "      <td>...</td>\n",
              "      <td>...</td>\n",
              "      <td>...</td>\n",
              "      <td>...</td>\n",
              "      <td>...</td>\n",
              "      <td>...</td>\n",
              "      <td>...</td>\n",
              "      <td>...</td>\n",
              "      <td>...</td>\n",
              "      <td>...</td>\n",
              "      <td>...</td>\n",
              "      <td>...</td>\n",
              "      <td>...</td>\n",
              "      <td>...</td>\n",
              "      <td>...</td>\n",
              "      <td>...</td>\n",
              "      <td>...</td>\n",
              "      <td>...</td>\n",
              "      <td>...</td>\n",
              "      <td>...</td>\n",
              "      <td>...</td>\n",
              "      <td>...</td>\n",
              "      <td>...</td>\n",
              "      <td>...</td>\n",
              "      <td>...</td>\n",
              "    </tr>\n",
              "    <tr>\n",
              "      <th>Visagismo E Terapias Capilares</th>\n",
              "      <td>2</td>\n",
              "      <td>2</td>\n",
              "      <td>2</td>\n",
              "      <td>2</td>\n",
              "      <td>2</td>\n",
              "      <td>2</td>\n",
              "      <td>2</td>\n",
              "      <td>2</td>\n",
              "      <td>2</td>\n",
              "      <td>2</td>\n",
              "      <td>2</td>\n",
              "      <td>2</td>\n",
              "      <td>2</td>\n",
              "      <td>2</td>\n",
              "      <td>2</td>\n",
              "      <td>2</td>\n",
              "      <td>2</td>\n",
              "      <td>2</td>\n",
              "      <td>2</td>\n",
              "      <td>2</td>\n",
              "      <td>2</td>\n",
              "      <td>2</td>\n",
              "      <td>2</td>\n",
              "      <td>2</td>\n",
              "      <td>2</td>\n",
              "      <td>2</td>\n",
              "    </tr>\n",
              "    <tr>\n",
              "      <th>Viticultura E Enologia</th>\n",
              "      <td>1</td>\n",
              "      <td>1</td>\n",
              "      <td>1</td>\n",
              "      <td>1</td>\n",
              "      <td>1</td>\n",
              "      <td>1</td>\n",
              "      <td>1</td>\n",
              "      <td>1</td>\n",
              "      <td>1</td>\n",
              "      <td>1</td>\n",
              "      <td>1</td>\n",
              "      <td>1</td>\n",
              "      <td>1</td>\n",
              "      <td>1</td>\n",
              "      <td>1</td>\n",
              "      <td>1</td>\n",
              "      <td>1</td>\n",
              "      <td>1</td>\n",
              "      <td>1</td>\n",
              "      <td>1</td>\n",
              "      <td>1</td>\n",
              "      <td>1</td>\n",
              "      <td>1</td>\n",
              "      <td>1</td>\n",
              "      <td>1</td>\n",
              "      <td>1</td>\n",
              "    </tr>\n",
              "    <tr>\n",
              "      <th>Web Design</th>\n",
              "      <td>8</td>\n",
              "      <td>8</td>\n",
              "      <td>8</td>\n",
              "      <td>8</td>\n",
              "      <td>8</td>\n",
              "      <td>8</td>\n",
              "      <td>8</td>\n",
              "      <td>8</td>\n",
              "      <td>8</td>\n",
              "      <td>8</td>\n",
              "      <td>8</td>\n",
              "      <td>8</td>\n",
              "      <td>8</td>\n",
              "      <td>8</td>\n",
              "      <td>8</td>\n",
              "      <td>8</td>\n",
              "      <td>8</td>\n",
              "      <td>8</td>\n",
              "      <td>8</td>\n",
              "      <td>8</td>\n",
              "      <td>8</td>\n",
              "      <td>8</td>\n",
              "      <td>8</td>\n",
              "      <td>8</td>\n",
              "      <td>8</td>\n",
              "      <td>8</td>\n",
              "    </tr>\n",
              "    <tr>\n",
              "      <th>Zootecnia</th>\n",
              "      <td>64</td>\n",
              "      <td>64</td>\n",
              "      <td>64</td>\n",
              "      <td>64</td>\n",
              "      <td>64</td>\n",
              "      <td>64</td>\n",
              "      <td>64</td>\n",
              "      <td>64</td>\n",
              "      <td>64</td>\n",
              "      <td>64</td>\n",
              "      <td>64</td>\n",
              "      <td>64</td>\n",
              "      <td>64</td>\n",
              "      <td>64</td>\n",
              "      <td>64</td>\n",
              "      <td>64</td>\n",
              "      <td>64</td>\n",
              "      <td>64</td>\n",
              "      <td>64</td>\n",
              "      <td>64</td>\n",
              "      <td>64</td>\n",
              "      <td>64</td>\n",
              "      <td>64</td>\n",
              "      <td>64</td>\n",
              "      <td>64</td>\n",
              "      <td>64</td>\n",
              "    </tr>\n",
              "    <tr>\n",
              "      <th>Óptica E Optometria</th>\n",
              "      <td>17</td>\n",
              "      <td>17</td>\n",
              "      <td>17</td>\n",
              "      <td>17</td>\n",
              "      <td>17</td>\n",
              "      <td>17</td>\n",
              "      <td>17</td>\n",
              "      <td>17</td>\n",
              "      <td>17</td>\n",
              "      <td>17</td>\n",
              "      <td>17</td>\n",
              "      <td>17</td>\n",
              "      <td>17</td>\n",
              "      <td>17</td>\n",
              "      <td>17</td>\n",
              "      <td>17</td>\n",
              "      <td>17</td>\n",
              "      <td>17</td>\n",
              "      <td>17</td>\n",
              "      <td>17</td>\n",
              "      <td>17</td>\n",
              "      <td>17</td>\n",
              "      <td>17</td>\n",
              "      <td>17</td>\n",
              "      <td>17</td>\n",
              "      <td>17</td>\n",
              "    </tr>\n",
              "  </tbody>\n",
              "</table>\n",
              "<p>1723 rows × 26 columns</p>\n",
              "</div>"
            ],
            "text/plain": [
              "                                      ANO_CONCESSAO_BOLSA  ...  Conceito Enade (Faixa) - normalizado\n",
              "NOME_CURSO_BOLSA                                           ...                                      \n",
              "  Tradução E Interpretação                              1  ...                                     1\n",
              " Engenharia Aeronáutica E Espaço                        8  ...                                     8\n",
              " Engenharia Biomédica                                   4  ...                                     4\n",
              " Engenharia Civil E Ambiental                           6  ...                                     6\n",
              " Engenharia De Automação E Sistemas                     3  ...                                     3\n",
              "...                                                   ...  ...                                   ...\n",
              "Visagismo E Terapias Capilares                          2  ...                                     2\n",
              "Viticultura E Enologia                                  1  ...                                     1\n",
              "Web Design                                              8  ...                                     8\n",
              "Zootecnia                                              64  ...                                    64\n",
              "Óptica E Optometria                                    17  ...                                    17\n",
              "\n",
              "[1723 rows x 26 columns]"
            ]
          },
          "metadata": {
            "tags": []
          },
          "execution_count": 168
        }
      ]
    },
    {
      "cell_type": "code",
      "metadata": {
        "id": "_vkMp6BPENDS",
        "colab": {
          "base_uri": "https://localhost:8080/"
        },
        "outputId": "2cdd4c0d-57a3-45eb-d3b6-f5debebddf17"
      },
      "source": [
        "# Qual a média e a mediana do conceito enade por estado no brasil?\n",
        "GROUPED_BY_UF=df.groupby('Sigla da UF').agg(['mean','median'])['Conceito Enade (Faixa)']\n",
        "GROUPED_BY_UF"
      ],
      "execution_count": null,
      "outputs": [
        {
          "output_type": "execute_result",
          "data": {
            "text/html": [
              "<div>\n",
              "<style scoped>\n",
              "    .dataframe tbody tr th:only-of-type {\n",
              "        vertical-align: middle;\n",
              "    }\n",
              "\n",
              "    .dataframe tbody tr th {\n",
              "        vertical-align: top;\n",
              "    }\n",
              "\n",
              "    .dataframe thead th {\n",
              "        text-align: right;\n",
              "    }\n",
              "</style>\n",
              "<table border=\"1\" class=\"dataframe\">\n",
              "  <thead>\n",
              "    <tr style=\"text-align: right;\">\n",
              "      <th></th>\n",
              "      <th>mean</th>\n",
              "      <th>median</th>\n",
              "    </tr>\n",
              "    <tr>\n",
              "      <th>Sigla da UF</th>\n",
              "      <th></th>\n",
              "      <th></th>\n",
              "    </tr>\n",
              "  </thead>\n",
              "  <tbody>\n",
              "    <tr>\n",
              "      <th>AC</th>\n",
              "      <td>2.210341</td>\n",
              "      <td>2.0</td>\n",
              "    </tr>\n",
              "    <tr>\n",
              "      <th>AL</th>\n",
              "      <td>1.912424</td>\n",
              "      <td>2.0</td>\n",
              "    </tr>\n",
              "    <tr>\n",
              "      <th>AM</th>\n",
              "      <td>3.026581</td>\n",
              "      <td>3.0</td>\n",
              "    </tr>\n",
              "    <tr>\n",
              "      <th>AP</th>\n",
              "      <td>1.804845</td>\n",
              "      <td>2.0</td>\n",
              "    </tr>\n",
              "    <tr>\n",
              "      <th>BA</th>\n",
              "      <td>2.482867</td>\n",
              "      <td>3.0</td>\n",
              "    </tr>\n",
              "    <tr>\n",
              "      <th>CE</th>\n",
              "      <td>2.678988</td>\n",
              "      <td>3.0</td>\n",
              "    </tr>\n",
              "    <tr>\n",
              "      <th>DF</th>\n",
              "      <td>2.828947</td>\n",
              "      <td>3.0</td>\n",
              "    </tr>\n",
              "    <tr>\n",
              "      <th>ES</th>\n",
              "      <td>3.304962</td>\n",
              "      <td>4.0</td>\n",
              "    </tr>\n",
              "    <tr>\n",
              "      <th>GO</th>\n",
              "      <td>2.376994</td>\n",
              "      <td>2.0</td>\n",
              "    </tr>\n",
              "    <tr>\n",
              "      <th>MA</th>\n",
              "      <td>1.918226</td>\n",
              "      <td>2.0</td>\n",
              "    </tr>\n",
              "    <tr>\n",
              "      <th>MG</th>\n",
              "      <td>3.057642</td>\n",
              "      <td>3.0</td>\n",
              "    </tr>\n",
              "    <tr>\n",
              "      <th>MS</th>\n",
              "      <td>3.590077</td>\n",
              "      <td>4.0</td>\n",
              "    </tr>\n",
              "    <tr>\n",
              "      <th>MT</th>\n",
              "      <td>2.939905</td>\n",
              "      <td>3.0</td>\n",
              "    </tr>\n",
              "    <tr>\n",
              "      <th>PA</th>\n",
              "      <td>2.504847</td>\n",
              "      <td>3.0</td>\n",
              "    </tr>\n",
              "    <tr>\n",
              "      <th>PB</th>\n",
              "      <td>2.444325</td>\n",
              "      <td>2.0</td>\n",
              "    </tr>\n",
              "    <tr>\n",
              "      <th>PE</th>\n",
              "      <td>3.282266</td>\n",
              "      <td>3.0</td>\n",
              "    </tr>\n",
              "    <tr>\n",
              "      <th>PI</th>\n",
              "      <td>2.249112</td>\n",
              "      <td>2.0</td>\n",
              "    </tr>\n",
              "    <tr>\n",
              "      <th>PR</th>\n",
              "      <td>2.679386</td>\n",
              "      <td>2.0</td>\n",
              "    </tr>\n",
              "    <tr>\n",
              "      <th>RJ</th>\n",
              "      <td>1.945673</td>\n",
              "      <td>1.0</td>\n",
              "    </tr>\n",
              "    <tr>\n",
              "      <th>RN</th>\n",
              "      <td>2.210455</td>\n",
              "      <td>2.0</td>\n",
              "    </tr>\n",
              "    <tr>\n",
              "      <th>RO</th>\n",
              "      <td>2.544531</td>\n",
              "      <td>3.0</td>\n",
              "    </tr>\n",
              "    <tr>\n",
              "      <th>RR</th>\n",
              "      <td>1.452381</td>\n",
              "      <td>1.0</td>\n",
              "    </tr>\n",
              "    <tr>\n",
              "      <th>RS</th>\n",
              "      <td>2.874876</td>\n",
              "      <td>3.0</td>\n",
              "    </tr>\n",
              "    <tr>\n",
              "      <th>SC</th>\n",
              "      <td>2.380530</td>\n",
              "      <td>2.0</td>\n",
              "    </tr>\n",
              "    <tr>\n",
              "      <th>SE</th>\n",
              "      <td>1.687704</td>\n",
              "      <td>2.0</td>\n",
              "    </tr>\n",
              "    <tr>\n",
              "      <th>SP</th>\n",
              "      <td>2.258817</td>\n",
              "      <td>2.0</td>\n",
              "    </tr>\n",
              "    <tr>\n",
              "      <th>TO</th>\n",
              "      <td>2.130208</td>\n",
              "      <td>2.0</td>\n",
              "    </tr>\n",
              "  </tbody>\n",
              "</table>\n",
              "</div>"
            ],
            "text/plain": [
              "                 mean  median\n",
              "Sigla da UF                  \n",
              "AC           2.210341     2.0\n",
              "AL           1.912424     2.0\n",
              "AM           3.026581     3.0\n",
              "AP           1.804845     2.0\n",
              "BA           2.482867     3.0\n",
              "CE           2.678988     3.0\n",
              "DF           2.828947     3.0\n",
              "ES           3.304962     4.0\n",
              "GO           2.376994     2.0\n",
              "MA           1.918226     2.0\n",
              "MG           3.057642     3.0\n",
              "MS           3.590077     4.0\n",
              "MT           2.939905     3.0\n",
              "PA           2.504847     3.0\n",
              "PB           2.444325     2.0\n",
              "PE           3.282266     3.0\n",
              "PI           2.249112     2.0\n",
              "PR           2.679386     2.0\n",
              "RJ           1.945673     1.0\n",
              "RN           2.210455     2.0\n",
              "RO           2.544531     3.0\n",
              "RR           1.452381     1.0\n",
              "RS           2.874876     3.0\n",
              "SC           2.380530     2.0\n",
              "SE           1.687704     2.0\n",
              "SP           2.258817     2.0\n",
              "TO           2.130208     2.0"
            ]
          },
          "metadata": {
            "tags": []
          },
          "execution_count": 169
        }
      ]
    },
    {
      "cell_type": "code",
      "metadata": {
        "id": "bZqO8HBUktXj",
        "colab": {
          "base_uri": "https://localhost:8080/"
        },
        "outputId": "cd9471f7-d2b0-4298-b271-5f8e43cfd79d"
      },
      "source": [
        "#Qual estados tem a maior e menor média de idade de alunos no prouni?\n",
        "GROUPED_BY_UF_AGE=df.groupby('Sigla da UF').agg(['mean','median'])['IDADE']\n",
        "GROUPED_BY_UF_AGE"
      ],
      "execution_count": null,
      "outputs": [
        {
          "output_type": "execute_result",
          "data": {
            "text/html": [
              "<div>\n",
              "<style scoped>\n",
              "    .dataframe tbody tr th:only-of-type {\n",
              "        vertical-align: middle;\n",
              "    }\n",
              "\n",
              "    .dataframe tbody tr th {\n",
              "        vertical-align: top;\n",
              "    }\n",
              "\n",
              "    .dataframe thead th {\n",
              "        text-align: right;\n",
              "    }\n",
              "</style>\n",
              "<table border=\"1\" class=\"dataframe\">\n",
              "  <thead>\n",
              "    <tr style=\"text-align: right;\">\n",
              "      <th></th>\n",
              "      <th>mean</th>\n",
              "      <th>median</th>\n",
              "    </tr>\n",
              "    <tr>\n",
              "      <th>Sigla da UF</th>\n",
              "      <th></th>\n",
              "      <th></th>\n",
              "    </tr>\n",
              "  </thead>\n",
              "  <tbody>\n",
              "    <tr>\n",
              "      <th>AC</th>\n",
              "      <td>24.567568</td>\n",
              "      <td>23</td>\n",
              "    </tr>\n",
              "    <tr>\n",
              "      <th>AL</th>\n",
              "      <td>24.421589</td>\n",
              "      <td>23</td>\n",
              "    </tr>\n",
              "    <tr>\n",
              "      <th>AM</th>\n",
              "      <td>24.764398</td>\n",
              "      <td>23</td>\n",
              "    </tr>\n",
              "    <tr>\n",
              "      <th>AP</th>\n",
              "      <td>24.806191</td>\n",
              "      <td>22</td>\n",
              "    </tr>\n",
              "    <tr>\n",
              "      <th>BA</th>\n",
              "      <td>25.019850</td>\n",
              "      <td>23</td>\n",
              "    </tr>\n",
              "    <tr>\n",
              "      <th>CE</th>\n",
              "      <td>23.435376</td>\n",
              "      <td>22</td>\n",
              "    </tr>\n",
              "    <tr>\n",
              "      <th>DF</th>\n",
              "      <td>24.237229</td>\n",
              "      <td>22</td>\n",
              "    </tr>\n",
              "    <tr>\n",
              "      <th>ES</th>\n",
              "      <td>23.818544</td>\n",
              "      <td>22</td>\n",
              "    </tr>\n",
              "    <tr>\n",
              "      <th>GO</th>\n",
              "      <td>23.945706</td>\n",
              "      <td>22</td>\n",
              "    </tr>\n",
              "    <tr>\n",
              "      <th>MA</th>\n",
              "      <td>24.439821</td>\n",
              "      <td>22</td>\n",
              "    </tr>\n",
              "    <tr>\n",
              "      <th>MG</th>\n",
              "      <td>23.892101</td>\n",
              "      <td>22</td>\n",
              "    </tr>\n",
              "    <tr>\n",
              "      <th>MS</th>\n",
              "      <td>28.105531</td>\n",
              "      <td>25</td>\n",
              "    </tr>\n",
              "    <tr>\n",
              "      <th>MT</th>\n",
              "      <td>23.833896</td>\n",
              "      <td>22</td>\n",
              "    </tr>\n",
              "    <tr>\n",
              "      <th>PA</th>\n",
              "      <td>24.890753</td>\n",
              "      <td>23</td>\n",
              "    </tr>\n",
              "    <tr>\n",
              "      <th>PB</th>\n",
              "      <td>24.000000</td>\n",
              "      <td>22</td>\n",
              "    </tr>\n",
              "    <tr>\n",
              "      <th>PE</th>\n",
              "      <td>23.923677</td>\n",
              "      <td>22</td>\n",
              "    </tr>\n",
              "    <tr>\n",
              "      <th>PI</th>\n",
              "      <td>22.981445</td>\n",
              "      <td>21</td>\n",
              "    </tr>\n",
              "    <tr>\n",
              "      <th>PR</th>\n",
              "      <td>26.993512</td>\n",
              "      <td>24</td>\n",
              "    </tr>\n",
              "    <tr>\n",
              "      <th>RJ</th>\n",
              "      <td>25.831433</td>\n",
              "      <td>23</td>\n",
              "    </tr>\n",
              "    <tr>\n",
              "      <th>RN</th>\n",
              "      <td>25.656483</td>\n",
              "      <td>24</td>\n",
              "    </tr>\n",
              "    <tr>\n",
              "      <th>RO</th>\n",
              "      <td>24.571429</td>\n",
              "      <td>23</td>\n",
              "    </tr>\n",
              "    <tr>\n",
              "      <th>RR</th>\n",
              "      <td>23.063492</td>\n",
              "      <td>22</td>\n",
              "    </tr>\n",
              "    <tr>\n",
              "      <th>RS</th>\n",
              "      <td>24.327741</td>\n",
              "      <td>22</td>\n",
              "    </tr>\n",
              "    <tr>\n",
              "      <th>SC</th>\n",
              "      <td>26.048511</td>\n",
              "      <td>23</td>\n",
              "    </tr>\n",
              "    <tr>\n",
              "      <th>SE</th>\n",
              "      <td>24.576714</td>\n",
              "      <td>22</td>\n",
              "    </tr>\n",
              "    <tr>\n",
              "      <th>SP</th>\n",
              "      <td>25.657969</td>\n",
              "      <td>23</td>\n",
              "    </tr>\n",
              "    <tr>\n",
              "      <th>TO</th>\n",
              "      <td>22.934028</td>\n",
              "      <td>22</td>\n",
              "    </tr>\n",
              "  </tbody>\n",
              "</table>\n",
              "</div>"
            ],
            "text/plain": [
              "                  mean  median\n",
              "Sigla da UF                   \n",
              "AC           24.567568      23\n",
              "AL           24.421589      23\n",
              "AM           24.764398      23\n",
              "AP           24.806191      22\n",
              "BA           25.019850      23\n",
              "CE           23.435376      22\n",
              "DF           24.237229      22\n",
              "ES           23.818544      22\n",
              "GO           23.945706      22\n",
              "MA           24.439821      22\n",
              "MG           23.892101      22\n",
              "MS           28.105531      25\n",
              "MT           23.833896      22\n",
              "PA           24.890753      23\n",
              "PB           24.000000      22\n",
              "PE           23.923677      22\n",
              "PI           22.981445      21\n",
              "PR           26.993512      24\n",
              "RJ           25.831433      23\n",
              "RN           25.656483      24\n",
              "RO           24.571429      23\n",
              "RR           23.063492      22\n",
              "RS           24.327741      22\n",
              "SC           26.048511      23\n",
              "SE           24.576714      22\n",
              "SP           25.657969      23\n",
              "TO           22.934028      22"
            ]
          },
          "metadata": {
            "tags": []
          },
          "execution_count": 170
        }
      ]
    },
    {
      "cell_type": "code",
      "metadata": {
        "id": "vlRBI_fKHiYF",
        "colab": {
          "base_uri": "https://localhost:8080/"
        },
        "outputId": "9356ea4e-661b-4a26-d850-ec71fc9f1b57"
      },
      "source": [
        "# Cursos que tiveram mais de 1200 beneficiarios.\n",
        "GROUPED_BY_NOME_CURSO_BOLSA[GROUPED_BY_NOME_CURSO_BOLSA['CPF_BENEFICIARIO_BOLSA'] > 1200]['NOME_IES_BOLSA'].plot.bar(x='NOME_CURSO_BOLSA', stacked=True)"
      ],
      "execution_count": null,
      "outputs": [
        {
          "output_type": "execute_result",
          "data": {
            "text/plain": [
              "<matplotlib.axes._subplots.AxesSubplot at 0x7f01af3a1a90>"
            ]
          },
          "metadata": {
            "tags": []
          },
          "execution_count": 171
        },
        {
          "output_type": "display_data",
          "data": {
            "image/png": "[encoded data removed]",
            "text/plain": [
              "<Figure size 432x288 with 1 Axes>"
            ]
          },
          "metadata": {
            "tags": [],
            "needs_background": "light"
          }
        }
      ]
    },
    {
      "cell_type": "markdown",
      "metadata": {
        "id": "k7PEU7gcTJR8"
      },
      "source": [
        "# Parte 2 - PROJETO\n",
        "\n",
        "\n"
      ]
    },
    {
      "cell_type": "markdown",
      "metadata": {
        "id": "BifAedRcTXxV"
      },
      "source": [
        "## • 1.  Escolher uma das colunas dos dados utilizados no projeto 1 para predição (classificação ou regressão) \n",
        "R: Classificação (Predizer Raça/Conceito Enade(Faixa))\n"
      ]
    },
    {
      "cell_type": "markdown",
      "metadata": {
        "id": "LVpmUyNeTyXc"
      },
      "source": [
        " ## • 2.  Separar os dados em treinamento, validação e teste \n",
        "\n",
        " "
      ]
    },
    {
      "cell_type": "code",
      "metadata": {
        "id": "qmp6p2Eie05R"
      },
      "source": [
        "df['NOME_IES_BOLSA'] = df['NOME_IES_BOLSA'].cat.codes                                \n",
        "df['TIPO_BOLSA'] = df['TIPO_BOLSA'].cat.codes                                  \n",
        "df['MODALIDADE_ENSINO_BOLSA'] = df['MODALIDADE_ENSINO_BOLSA'].cat.codes                      \n",
        "df['NOME_CURSO_BOLSA'] = df['NOME_CURSO_BOLSA'].cat.codes                              \n",
        "df['NOME_TURNO_CURSO_BOLSA'] = df['NOME_TURNO_CURSO_BOLSA'].cat.codes                          \n",
        "df = df.drop('CPF_BENEFICIARIO_BOLSA', axis = 1)                        \n",
        "df['SEXO_BENEFICIARIO_BOLSA'] = df['SEXO_BENEFICIARIO_BOLSA'].cat.codes                      \n",
        "df['RACA_BENEFICIARIO_BOLSA'] = df['RACA_BENEFICIARIO_BOLSA'].cat.codes                        \n",
        "df['BENEFICIARIO_DEFICIENTE_FISICO'] = df['BENEFICIARIO_DEFICIENTE_FISICO'].cat.codes                  \n",
        "df['REGIAO_BENEFICIARIO_BOLSA'] = df['REGIAO_BENEFICIARIO_BOLSA'].cat.codes                       \n",
        "df['SIGLA_UF_BENEFICIARIO_BOLSA'] = df['SIGLA_UF_BENEFICIARIO_BOLSA'].cat.codes                     \n",
        "df['MUNICIPIO_BENEFICIARIO_BOLSA'] = df['MUNICIPIO_BENEFICIARIO_BOLSA'].cat.codes\n",
        "df['Código da IES'] = df['Código da IES'].cat.codes            \n",
        "df = df.drop('Nome da IES', axis = 1)                                            \n",
        "df['Organização Acadêmica'] = df['Organização Acadêmica'].cat.codes                          \n",
        "df['Categoria Administrativa'] = df['Categoria Administrativa'].cat.codes\n",
        "df['Município do Curso'] = df['Município do Curso'].cat.codes                              \n",
        "df['Sigla da UF'] = df['Sigla da UF'].cat.codes                                \n",
        "df['REGIAO_IES'] = df['REGIAO_IES'].cat.codes\n",
        "df = df.drop('DT_NASCIMENTO_BENEFICIARIO', axis=1)  \n",
        "X_df = df.drop('RACA_BENEFICIARIO_BOLSA', axis=1)\n",
        "y_df = df['RACA_BENEFICIARIO_BOLSA']  "
      ],
      "execution_count": null,
      "outputs": []
    },
    {
      "cell_type": "code",
      "metadata": {
        "id": "l3Tl0yqCefl-",
        "colab": {
          "base_uri": "https://localhost:8080/"
        },
        "outputId": "b10bc190-ca4e-440a-8fc8-a9c51618d6f6"
      },
      "source": [
        "#Divisão de dados\n",
        "Xtrain, Xtest, ytrain, ytest = train_test_split(X_df, y_df, random_state=1, test_size=0.5)\n",
        "Xtest, Xval, ytest, Yval = train_test_split(Xtest, ytest, random_state=1, test_size=0.5)\n",
        "print(Xtrain.shape, Xtest.shape, Xval.shape)"
      ],
      "execution_count": null,
      "outputs": [
        {
          "output_type": "stream",
          "text": [
            "(104576, 23) (52288, 23) (52289, 23)\n"
          ],
          "name": "stdout"
        }
      ]
    },
    {
      "cell_type": "markdown",
      "metadata": {
        "id": "RYeLw0SaT1b0"
      },
      "source": [
        "## • 3.  Selecionar 4 algoritmos de acordo com a tarefa escolhida \n",
        "no passo 1 \n",
        "R: Naïve bayes, SVM (SMO), Logistic regression (logistic), Multilayer perceptron \n"
      ]
    },
    {
      "cell_type": "code",
      "metadata": {
        "id": "1dzFejVtT5qw"
      },
      "source": [
        "from sklearn.naive_bayes import GaussianNB\n",
        "from sklearn.svm import SVC \n",
        "from sklearn.neural_network import MLPClassifier\n",
        "from sklearn.linear_model import LogisticRegression\n",
        "from sklearn.metrics import accuracy_score \n",
        "from sklearn.metrics import f1_score \n",
        "from sklearn.metrics import precision_score \n",
        "from sklearn.metrics import recall_score \n",
        "from sklearn.model_selection import train_test_split\n",
        "from sklearn.datasets import make_classification\n",
        "from sklearn.ensemble import RandomForestClassifier\n",
        "\n",
        "!pip install --quiet optuna\n",
        "import optuna\n",
        "!pip install --quiet mlflow\n",
        "import mlflow\n",
        "!pip install --quiet pyngrok \n",
        "from pyngrok import ngrok \n",
        "\n",
        "from optuna.integration.mlflow import MLflowCallback\n",
        "from sklearn.pipeline import Pipeline\n",
        "from sklearn.preprocessing import StandardScaler"
      ],
      "execution_count": null,
      "outputs": []
    },
    {
      "cell_type": "markdown",
      "metadata": {
        "id": "cMrQTRr6h5k-"
      },
      "source": [
        "## • 4.  Adicionar MLFlow no treinamento dos modelos para rastreamento \n"
      ]
    },
    {
      "cell_type": "markdown",
      "metadata": {
        "id": "RUoTBm9VDHQD"
      },
      "source": [
        "### 4.1 Função de avaliar métricas "
      ]
    },
    {
      "cell_type": "code",
      "metadata": {
        "id": "cDn1v2izyawi"
      },
      "source": [
        "def eval_metrics(actual, pred):\n",
        "    accuracy = accuracy_score(actual, pred)\n",
        "    f1score = f1_score(actual, pred, average='micro')\n",
        "    recallscore = recall_score(actual, pred, average='weighted')\n",
        "    precisionscore = precision_score(actual, pred, average='micro')\n",
        "    return accuracy, f1score, recallscore, precisionscore\n",
        "    # Nos modelos abaixo usaremos essa funcao"
      ],
      "execution_count": null,
      "outputs": []
    },
    {
      "cell_type": "markdown",
      "metadata": {
        "id": "6pDgsq-tDZS5"
      },
      "source": [
        "### 4.2 MLflow Tracking UI\n"
      ]
    },
    {
      "cell_type": "code",
      "metadata": {
        "colab": {
          "base_uri": "https://localhost:8080/"
        },
        "id": "G1i6dRfj8d8I",
        "outputId": "58002271-c32f-478b-9945-cdff5786ccec"
      },
      "source": [
        "# Cria MLflow Tracking UI e cria um tunel virtual para visualizar o rastreamento\n",
        "# nos modelos abaixo estará a implementação do MLFlow em cada modelo.\n",
        "get_ipython().system_raw(\"mlflow ui --port 5000 &\") \n",
        "ngrok.kill()\n",
        "NGROK_AUTH_TOKEN = \"\"\n",
        "ngrok.set_auth_token(NGROK_AUTH_TOKEN)\n",
        "ngrok_tunnel = ngrok.connect(addr=\"5000\", proto=\"http\", bind_tls=True)\n",
        "print(\"MLflow Tracking UI:\", ngrok_tunnel.public_url)"
      ],
      "execution_count": null,
      "outputs": [
        {
          "output_type": "stream",
          "text": [
            "MLflow Tracking UI: https://06f32c8d1931.ngrok.io\n"
          ],
          "name": "stdout"
        }
      ]
    },
    {
      "cell_type": "markdown",
      "metadata": {
        "id": "oCZbFP_iLe4K"
      },
      "source": [
        "## • 5.  Executar uma ferramenta de seleção de hiper-parâmetros sobre o conjunto de validação \n",
        "\n",
        "\n",
        "\n"
      ]
    },
    {
      "cell_type": "markdown",
      "metadata": {
        "id": "3sKZ6_WHQn07"
      },
      "source": [
        "\n",
        "###  5.1. Selecionar poucos hiper-parâmetros por algoritmo (max. 3) "
      ]
    },
    {
      "cell_type": "markdown",
      "metadata": {
        "id": "y6EdWXMnMQMD"
      },
      "source": [
        "Inicialmente criamos os modelos e rastreamos no MLflow com os dados de trainemanto, predizemos com os dados de validação.\n",
        "Ao selecionar o melhor hiper-parametro, predizemos então com os dados de teste."
      ]
    },
    {
      "cell_type": "markdown",
      "metadata": {
        "id": "nTc8MKz7SLlC"
      },
      "source": [
        "### Naive Bayes"
      ]
    },
    {
      "cell_type": "code",
      "metadata": {
        "id": "HcDkRhJSaAa0"
      },
      "source": [
        "def gaussianNBayes(trial):\n",
        "\n",
        "    var_smoothing = trial.suggest_float('var_smoothing', 1e-11, 1e-8)\n",
        "\n",
        "    with mlflow.start_run(run_name = str('gaussianNBayes')):\n",
        "      model = GaussianNB(var_smoothing = var_smoothing)                 \n",
        "      model.fit(Xtrain, ytrain)    \n",
        "      y_model = model.predict(Xval)             \n",
        "    \n",
        "      (accuracy, f1score, recallscore, precisionscore) = eval_metrics(Yval, y_model)\n",
        "\n",
        "      print(\"GaussianNB model (var_smoothing=%f):\" % (var_smoothing))\n",
        "      print(\"accuracy: %s\" % accuracy)\n",
        "      print(\"f1 score: %s\" % f1score)\n",
        "      print(\"recall score: %s\" % recallscore)\n",
        "      print(\"precision score: %s\" % precisionscore)\n",
        "\n",
        "      mlflow.log_param(\"var_smoothing\", var_smoothing)\n",
        "      mlflow.log_metric(\"accuracy\", accuracy)\n",
        "      mlflow.log_metric(\"f1 score\", f1score)\n",
        "      mlflow.log_metric(\"recall score\", recallscore)\n",
        "      mlflow.log_metric(\"precision score\", precisionscore)\n",
        "      \n",
        "      mlflow.end_run()\n",
        "\n",
        "    return accuracy"
      ],
      "execution_count": null,
      "outputs": []
    },
    {
      "cell_type": "code",
      "metadata": {
        "colab": {
          "base_uri": "https://localhost:8080/"
        },
        "id": "SwWPBVLaYLoE",
        "outputId": "e73ca925-0b92-4c86-d3e4-fa652b943a07"
      },
      "source": [
        "estudoNB = optuna.create_study(direction=\"maximize\")\n",
        "estudoNB.optimize(gaussianNBayes, n_trials=20)"
      ],
      "execution_count": null,
      "outputs": [
        {
          "output_type": "stream",
          "text": [
            "\u001b[32m[I 2021-04-22 21:05:44,997]\u001b[0m A new study created in memory with name: no-name-6b574674-05ad-469d-a54c-b2b88ef97920\u001b[0m\n",
            "\u001b[32m[I 2021-04-22 21:05:45,213]\u001b[0m Trial 0 finished with value: 0.5627761096980245 and parameters: {'var_smoothing': 7.720459728169005e-09}. Best is trial 0 with value: 0.5627761096980245.\u001b[0m\n"
          ],
          "name": "stderr"
        },
        {
          "output_type": "stream",
          "text": [
            "GaussianNB model (var_smoothing=0.000000):\n",
            "accuracy: 0.5627761096980245\n",
            "f1 score: 0.5627761096980245\n",
            "recall score: 0.5627761096980245\n",
            "precision score: 0.5627761096980245\n"
          ],
          "name": "stdout"
        },
        {
          "output_type": "stream",
          "text": [
            "\u001b[32m[I 2021-04-22 21:05:45,422]\u001b[0m Trial 1 finished with value: 0.5626613628105338 and parameters: {'var_smoothing': 9.50571020328286e-09}. Best is trial 0 with value: 0.5627761096980245.\u001b[0m\n"
          ],
          "name": "stderr"
        },
        {
          "output_type": "stream",
          "text": [
            "GaussianNB model (var_smoothing=0.000000):\n",
            "accuracy: 0.5626613628105338\n",
            "f1 score: 0.5626613628105338\n",
            "recall score: 0.5626613628105338\n",
            "precision score: 0.5626613628105338\n"
          ],
          "name": "stdout"
        },
        {
          "output_type": "stream",
          "text": [
            "\u001b[32m[I 2021-04-22 21:05:45,635]\u001b[0m Trial 2 finished with value: 0.5624509935168008 and parameters: {'var_smoothing': 5.259539150107602e-09}. Best is trial 0 with value: 0.5627761096980245.\u001b[0m\n"
          ],
          "name": "stderr"
        },
        {
          "output_type": "stream",
          "text": [
            "GaussianNB model (var_smoothing=0.000000):\n",
            "accuracy: 0.5624509935168008\n",
            "f1 score: 0.5624509935168008\n",
            "recall score: 0.5624509935168008\n",
            "precision score: 0.5624509935168008\n"
          ],
          "name": "stdout"
        },
        {
          "output_type": "stream",
          "text": [
            "\u001b[32m[I 2021-04-22 21:05:45,857]\u001b[0m Trial 3 finished with value: 0.5610740308669128 and parameters: {'var_smoothing': 4.220857268189255e-09}. Best is trial 0 with value: 0.5627761096980245.\u001b[0m\n"
          ],
          "name": "stderr"
        },
        {
          "output_type": "stream",
          "text": [
            "GaussianNB model (var_smoothing=0.000000):\n",
            "accuracy: 0.5610740308669128\n",
            "f1 score: 0.5610740308669128\n",
            "recall score: 0.5610740308669128\n",
            "precision score: 0.5610740308669128\n"
          ],
          "name": "stdout"
        },
        {
          "output_type": "stream",
          "text": [
            "\u001b[32m[I 2021-04-22 21:05:46,071]\u001b[0m Trial 4 finished with value: 0.5623362466293101 and parameters: {'var_smoothing': 5.1274223402830225e-09}. Best is trial 0 with value: 0.5627761096980245.\u001b[0m\n"
          ],
          "name": "stderr"
        },
        {
          "output_type": "stream",
          "text": [
            "GaussianNB model (var_smoothing=0.000000):\n",
            "accuracy: 0.5623362466293101\n",
            "f1 score: 0.5623362466293101\n",
            "recall score: 0.5623362466293101\n",
            "precision score: 0.5623362466293101\n"
          ],
          "name": "stdout"
        },
        {
          "output_type": "stream",
          "text": [
            "\u001b[32m[I 2021-04-22 21:05:46,287]\u001b[0m Trial 5 finished with value: 0.5623744955918071 and parameters: {'var_smoothing': 5.213223789329657e-09}. Best is trial 0 with value: 0.5627761096980245.\u001b[0m\n"
          ],
          "name": "stderr"
        },
        {
          "output_type": "stream",
          "text": [
            "GaussianNB model (var_smoothing=0.000000):\n",
            "accuracy: 0.5623744955918071\n",
            "f1 score: 0.5623744955918071\n",
            "recall score: 0.5623744955918071\n",
            "precision score: 0.5623744955918071\n"
          ],
          "name": "stdout"
        },
        {
          "output_type": "stream",
          "text": [
            "\u001b[32m[I 2021-04-22 21:05:46,501]\u001b[0m Trial 6 finished with value: 0.5589703379295836 and parameters: {'var_smoothing': 2.2074797076638828e-09}. Best is trial 0 with value: 0.5627761096980245.\u001b[0m\n"
          ],
          "name": "stderr"
        },
        {
          "output_type": "stream",
          "text": [
            "GaussianNB model (var_smoothing=0.000000):\n",
            "accuracy: 0.5589703379295836\n",
            "f1 score: 0.5589703379295836\n",
            "recall score: 0.5589703379295836\n",
            "precision score: 0.5589703379295836\n"
          ],
          "name": "stdout"
        },
        {
          "output_type": "stream",
          "text": [
            "\u001b[32m[I 2021-04-22 21:05:46,728]\u001b[0m Trial 7 finished with value: 0.5619920059668382 and parameters: {'var_smoothing': 4.892821707023128e-09}. Best is trial 0 with value: 0.5627761096980245.\u001b[0m\n"
          ],
          "name": "stderr"
        },
        {
          "output_type": "stream",
          "text": [
            "GaussianNB model (var_smoothing=0.000000):\n",
            "accuracy: 0.5619920059668382\n",
            "f1 score: 0.5619920059668382\n",
            "recall score: 0.5619920059668382\n",
            "precision score: 0.5619920059668382\n"
          ],
          "name": "stdout"
        },
        {
          "output_type": "stream",
          "text": [
            "\u001b[32m[I 2021-04-22 21:05:46,940]\u001b[0m Trial 8 finished with value: 0.5592954541108073 and parameters: {'var_smoothing': 1.7731934501066619e-09}. Best is trial 0 with value: 0.5627761096980245.\u001b[0m\n"
          ],
          "name": "stderr"
        },
        {
          "output_type": "stream",
          "text": [
            "GaussianNB model (var_smoothing=0.000000):\n",
            "accuracy: 0.5592954541108073\n",
            "f1 score: 0.5592954541108073\n",
            "recall score: 0.5592954541108072\n",
            "precision score: 0.5592954541108073\n"
          ],
          "name": "stdout"
        },
        {
          "output_type": "stream",
          "text": [
            "\u001b[32m[I 2021-04-22 21:05:47,153]\u001b[0m Trial 9 finished with value: 0.5628143586605213 and parameters: {'var_smoothing': 7.997191299171968e-09}. Best is trial 9 with value: 0.5628143586605213.\u001b[0m\n"
          ],
          "name": "stderr"
        },
        {
          "output_type": "stream",
          "text": [
            "GaussianNB model (var_smoothing=0.000000):\n",
            "accuracy: 0.5628143586605213\n",
            "f1 score: 0.5628143586605213\n",
            "recall score: 0.5628143586605213\n",
            "precision score: 0.5628143586605213\n"
          ],
          "name": "stdout"
        },
        {
          "output_type": "stream",
          "text": [
            "\u001b[32m[I 2021-04-22 21:05:47,372]\u001b[0m Trial 10 finished with value: 0.5624509935168008 and parameters: {'var_smoothing': 9.637709079952601e-09}. Best is trial 9 with value: 0.5628143586605213.\u001b[0m\n"
          ],
          "name": "stderr"
        },
        {
          "output_type": "stream",
          "text": [
            "GaussianNB model (var_smoothing=0.000000):\n",
            "accuracy: 0.5624509935168008\n",
            "f1 score: 0.5624509935168008\n",
            "recall score: 0.5624509935168008\n",
            "precision score: 0.5624509935168008\n"
          ],
          "name": "stdout"
        },
        {
          "output_type": "stream",
          "text": [
            "\u001b[32m[I 2021-04-22 21:05:47,587]\u001b[0m Trial 11 finished with value: 0.5627761096980245 and parameters: {'var_smoothing': 7.471822200117245e-09}. Best is trial 9 with value: 0.5628143586605213.\u001b[0m\n"
          ],
          "name": "stderr"
        },
        {
          "output_type": "stream",
          "text": [
            "GaussianNB model (var_smoothing=0.000000):\n",
            "accuracy: 0.5627761096980245\n",
            "f1 score: 0.5627761096980245\n",
            "recall score: 0.5627761096980245\n",
            "precision score: 0.5627761096980245\n"
          ],
          "name": "stdout"
        },
        {
          "output_type": "stream",
          "text": [
            "\u001b[32m[I 2021-04-22 21:05:47,811]\u001b[0m Trial 12 finished with value: 0.5627952341792729 and parameters: {'var_smoothing': 7.635882643748688e-09}. Best is trial 9 with value: 0.5628143586605213.\u001b[0m\n"
          ],
          "name": "stderr"
        },
        {
          "output_type": "stream",
          "text": [
            "GaussianNB model (var_smoothing=0.000000):\n",
            "accuracy: 0.5627952341792729\n",
            "f1 score: 0.5627952341792729\n",
            "recall score: 0.5627952341792729\n",
            "precision score: 0.5627952341792729\n"
          ],
          "name": "stdout"
        },
        {
          "output_type": "stream",
          "text": [
            "\u001b[32m[I 2021-04-22 21:05:48,034]\u001b[0m Trial 13 finished with value: 0.5627952341792729 and parameters: {'var_smoothing': 7.482550197543277e-09}. Best is trial 9 with value: 0.5628143586605213.\u001b[0m\n"
          ],
          "name": "stderr"
        },
        {
          "output_type": "stream",
          "text": [
            "GaussianNB model (var_smoothing=0.000000):\n",
            "accuracy: 0.5627952341792729\n",
            "f1 score: 0.5627952341792729\n",
            "recall score: 0.5627952341792729\n",
            "precision score: 0.5627952341792729\n"
          ],
          "name": "stdout"
        },
        {
          "output_type": "stream",
          "text": [
            "\u001b[32m[I 2021-04-22 21:05:48,252]\u001b[0m Trial 14 finished with value: 0.5627761096980245 and parameters: {'var_smoothing': 8.827702116324531e-09}. Best is trial 9 with value: 0.5628143586605213.\u001b[0m\n"
          ],
          "name": "stderr"
        },
        {
          "output_type": "stream",
          "text": [
            "GaussianNB model (var_smoothing=0.000000):\n",
            "accuracy: 0.5627761096980245\n",
            "f1 score: 0.5627761096980245\n",
            "recall score: 0.5627761096980245\n",
            "precision score: 0.5627761096980245\n"
          ],
          "name": "stdout"
        },
        {
          "output_type": "stream",
          "text": [
            "\u001b[32m[I 2021-04-22 21:05:48,471]\u001b[0m Trial 15 finished with value: 0.5626231138480369 and parameters: {'var_smoothing': 6.594641760692581e-09}. Best is trial 9 with value: 0.5628143586605213.\u001b[0m\n"
          ],
          "name": "stderr"
        },
        {
          "output_type": "stream",
          "text": [
            "GaussianNB model (var_smoothing=0.000000):\n",
            "accuracy: 0.5626231138480369\n",
            "f1 score: 0.5626231138480369\n",
            "recall score: 0.5626231138480369\n",
            "precision score: 0.5626231138480369\n"
          ],
          "name": "stdout"
        },
        {
          "output_type": "stream",
          "text": [
            "\u001b[32m[I 2021-04-22 21:05:48,701]\u001b[0m Trial 16 finished with value: 0.5628143586605213 and parameters: {'var_smoothing': 8.697042213132121e-09}. Best is trial 9 with value: 0.5628143586605213.\u001b[0m\n"
          ],
          "name": "stderr"
        },
        {
          "output_type": "stream",
          "text": [
            "GaussianNB model (var_smoothing=0.000000):\n",
            "accuracy: 0.5628143586605213\n",
            "f1 score: 0.5628143586605213\n",
            "recall score: 0.5628143586605213\n",
            "precision score: 0.5628143586605213\n"
          ],
          "name": "stdout"
        },
        {
          "output_type": "stream",
          "text": [
            "\u001b[32m[I 2021-04-22 21:05:48,915]\u001b[0m Trial 17 finished with value: 0.555853047486087 and parameters: {'var_smoothing': 1.9465676950957838e-10}. Best is trial 9 with value: 0.5628143586605213.\u001b[0m\n"
          ],
          "name": "stderr"
        },
        {
          "output_type": "stream",
          "text": [
            "GaussianNB model (var_smoothing=0.000000):\n",
            "accuracy: 0.555853047486087\n",
            "f1 score: 0.555853047486087\n",
            "recall score: 0.555853047486087\n",
            "precision score: 0.555853047486087\n"
          ],
          "name": "stdout"
        },
        {
          "output_type": "stream",
          "text": [
            "\u001b[32m[I 2021-04-22 21:05:49,143]\u001b[0m Trial 18 finished with value: 0.5627761096980245 and parameters: {'var_smoothing': 8.848037242459538e-09}. Best is trial 9 with value: 0.5628143586605213.\u001b[0m\n"
          ],
          "name": "stderr"
        },
        {
          "output_type": "stream",
          "text": [
            "GaussianNB model (var_smoothing=0.000000):\n",
            "accuracy: 0.5627761096980245\n",
            "f1 score: 0.5627761096980245\n",
            "recall score: 0.5627761096980245\n",
            "precision score: 0.5627761096980245\n"
          ],
          "name": "stdout"
        },
        {
          "output_type": "stream",
          "text": [
            "\u001b[32m[I 2021-04-22 21:05:49,357]\u001b[0m Trial 19 finished with value: 0.5626613628105338 and parameters: {'var_smoothing': 6.4488952471892346e-09}. Best is trial 9 with value: 0.5628143586605213.\u001b[0m\n"
          ],
          "name": "stderr"
        },
        {
          "output_type": "stream",
          "text": [
            "GaussianNB model (var_smoothing=0.000000):\n",
            "accuracy: 0.5626613628105338\n",
            "f1 score: 0.5626613628105338\n",
            "recall score: 0.5626613628105338\n",
            "precision score: 0.5626613628105338\n"
          ],
          "name": "stdout"
        }
      ]
    },
    {
      "cell_type": "markdown",
      "metadata": {
        "id": "zbS48vosSeXQ"
      },
      "source": [
        "### Multilayer Perceptron"
      ]
    },
    {
      "cell_type": "code",
      "metadata": {
        "id": "G-Un01b7IzvI"
      },
      "source": [
        "def mPerceptron(trial):\n",
        "    lr = trial.suggest_categorical('learning_rate', ['constant', 'invscaling', 'adaptive'])\n",
        "    #solver = trial.suggest_categorical('solver',['lbfgs', 'sgd', 'adam'])\n",
        "    max_iter = trial.suggest_int('max_iter', 200, 300, 50)\n",
        "\n",
        "    with mlflow.start_run(run_name = str('LogisticRegression')):\n",
        "\n",
        "      model = MLPClassifier(max_iter=max_iter, learning_rate=lr, random_state = 1)\n",
        "      model.fit(Xtrain, ytrain)\n",
        "      y_pred = model.predict(Xval)\n",
        "\n",
        "      (accuracy, f1score, recallscore, precisionscore) = eval_metrics(Yval, y_pred)\n",
        "\n",
        "      print(\"mPerceptron model (lr=%s):\" % (lr))\n",
        "      print(\"mPerceptron model (max_iter=%f):\" % (max_iter))\n",
        "\n",
        "      print(\"accuracy: %s\" % accuracy)\n",
        "      print(\"f1 score: %s\" % f1score)\n",
        "      print(\"recall score: %s\" % recallscore)\n",
        "      print(\"precision score: %s\" % precisionscore)\n",
        "\n",
        "      mlflow.log_param(\"lr\", lr)\n",
        "      mlflow.log_param(\"max_iter\", max_iter)\n",
        "\n",
        "      mlflow.log_metric(\"accuracy\", accuracy)\n",
        "      mlflow.log_metric(\"f1 score\", f1score)\n",
        "      mlflow.log_metric(\"recall score\", recallscore)\n",
        "      mlflow.log_metric(\"precision score\", precisionscore)\n",
        "\n",
        "      mlflow.end_run()\n",
        "\n",
        "      return accuracy\n",
        "    #49,31"
      ],
      "execution_count": null,
      "outputs": []
    },
    {
      "cell_type": "code",
      "metadata": {
        "id": "vGlN3H2BuP0J",
        "colab": {
          "base_uri": "https://localhost:8080/",
          "height": 1000
        },
        "outputId": "e5f50097-a1b3-49e0-c411-9b8111e6e738"
      },
      "source": [
        "estudompc = optuna.create_study(direction=\"maximize\")\n",
        "estudompc.optimize(mPerceptron, n_trials=20)"
      ],
      "execution_count": null,
      "outputs": [
        {
          "output_type": "stream",
          "text": [
            "\u001b[32m[I 2021-04-23 01:07:01,486]\u001b[0m A new study created in memory with name: no-name-0215218b-f014-4866-9eb6-5b1676f1859d\u001b[0m\n",
            "/usr/local/lib/python3.7/dist-packages/sklearn/neural_network/_multilayer_perceptron.py:571: ConvergenceWarning:\n",
            "\n",
            "Stochastic Optimizer: Maximum iterations (200) reached and the optimization hasn't converged yet.\n",
            "\n",
            "\u001b[32m[I 2021-04-23 01:10:54,539]\u001b[0m Trial 0 finished with value: 0.576603109640651 and parameters: {'learning_rate': 'adaptive', 'max_iter': 200}. Best is trial 0 with value: 0.576603109640651.\u001b[0m\n"
          ],
          "name": "stderr"
        },
        {
          "output_type": "stream",
          "text": [
            "mPerceptron model (lr=adaptive):\n",
            "mPerceptron model (max_iter=200.000000):\n",
            "accuracy: 0.576603109640651\n",
            "f1 score: 0.576603109640651\n",
            "recall score: 0.576603109640651\n",
            "precision score: 0.576603109640651\n"
          ],
          "name": "stdout"
        },
        {
          "output_type": "stream",
          "text": [
            "\u001b[32m[I 2021-04-23 01:15:31,679]\u001b[0m Trial 1 finished with value: 0.571114383522347 and parameters: {'learning_rate': 'constant', 'max_iter': 300}. Best is trial 0 with value: 0.576603109640651.\u001b[0m\n"
          ],
          "name": "stderr"
        },
        {
          "output_type": "stream",
          "text": [
            "mPerceptron model (lr=constant):\n",
            "mPerceptron model (max_iter=300.000000):\n",
            "accuracy: 0.571114383522347\n",
            "f1 score: 0.571114383522347\n",
            "recall score: 0.571114383522347\n",
            "precision score: 0.571114383522347\n"
          ],
          "name": "stdout"
        },
        {
          "output_type": "stream",
          "text": [
            "\u001b[32m[I 2021-04-23 01:20:09,116]\u001b[0m Trial 2 finished with value: 0.571114383522347 and parameters: {'learning_rate': 'invscaling', 'max_iter': 300}. Best is trial 0 with value: 0.576603109640651.\u001b[0m\n"
          ],
          "name": "stderr"
        },
        {
          "output_type": "stream",
          "text": [
            "mPerceptron model (lr=invscaling):\n",
            "mPerceptron model (max_iter=300.000000):\n",
            "accuracy: 0.571114383522347\n",
            "f1 score: 0.571114383522347\n",
            "recall score: 0.571114383522347\n",
            "precision score: 0.571114383522347\n"
          ],
          "name": "stdout"
        },
        {
          "output_type": "stream",
          "text": [
            "\u001b[32m[I 2021-04-23 01:24:48,868]\u001b[0m Trial 3 finished with value: 0.571114383522347 and parameters: {'learning_rate': 'invscaling', 'max_iter': 300}. Best is trial 0 with value: 0.576603109640651.\u001b[0m\n"
          ],
          "name": "stderr"
        },
        {
          "output_type": "stream",
          "text": [
            "mPerceptron model (lr=invscaling):\n",
            "mPerceptron model (max_iter=300.000000):\n",
            "accuracy: 0.571114383522347\n",
            "f1 score: 0.571114383522347\n",
            "recall score: 0.571114383522347\n",
            "precision score: 0.571114383522347\n"
          ],
          "name": "stdout"
        },
        {
          "output_type": "stream",
          "text": [
            "\u001b[32m[I 2021-04-23 01:29:28,732]\u001b[0m Trial 4 finished with value: 0.571114383522347 and parameters: {'learning_rate': 'constant', 'max_iter': 300}. Best is trial 0 with value: 0.576603109640651.\u001b[0m\n"
          ],
          "name": "stderr"
        },
        {
          "output_type": "stream",
          "text": [
            "mPerceptron model (lr=constant):\n",
            "mPerceptron model (max_iter=300.000000):\n",
            "accuracy: 0.571114383522347\n",
            "f1 score: 0.571114383522347\n",
            "recall score: 0.571114383522347\n",
            "precision score: 0.571114383522347\n"
          ],
          "name": "stdout"
        },
        {
          "output_type": "stream",
          "text": [
            "\u001b[32m[I 2021-04-23 01:34:04,549]\u001b[0m Trial 5 finished with value: 0.571114383522347 and parameters: {'learning_rate': 'adaptive', 'max_iter': 300}. Best is trial 0 with value: 0.576603109640651.\u001b[0m\n"
          ],
          "name": "stderr"
        },
        {
          "output_type": "stream",
          "text": [
            "mPerceptron model (lr=adaptive):\n",
            "mPerceptron model (max_iter=300.000000):\n",
            "accuracy: 0.571114383522347\n",
            "f1 score: 0.571114383522347\n",
            "recall score: 0.571114383522347\n",
            "precision score: 0.571114383522347\n"
          ],
          "name": "stdout"
        },
        {
          "output_type": "stream",
          "text": [
            "/usr/local/lib/python3.7/dist-packages/sklearn/neural_network/_multilayer_perceptron.py:571: ConvergenceWarning:\n",
            "\n",
            "Stochastic Optimizer: Maximum iterations (200) reached and the optimization hasn't converged yet.\n",
            "\n",
            "\u001b[32m[I 2021-04-23 01:37:54,275]\u001b[0m Trial 6 finished with value: 0.576603109640651 and parameters: {'learning_rate': 'invscaling', 'max_iter': 200}. Best is trial 0 with value: 0.576603109640651.\u001b[0m\n"
          ],
          "name": "stderr"
        },
        {
          "output_type": "stream",
          "text": [
            "mPerceptron model (lr=invscaling):\n",
            "mPerceptron model (max_iter=200.000000):\n",
            "accuracy: 0.576603109640651\n",
            "f1 score: 0.576603109640651\n",
            "recall score: 0.576603109640651\n",
            "precision score: 0.576603109640651\n"
          ],
          "name": "stdout"
        },
        {
          "output_type": "stream",
          "text": [
            "\u001b[32m[I 2021-04-23 01:42:27,681]\u001b[0m Trial 7 finished with value: 0.571114383522347 and parameters: {'learning_rate': 'constant', 'max_iter': 250}. Best is trial 0 with value: 0.576603109640651.\u001b[0m\n"
          ],
          "name": "stderr"
        },
        {
          "output_type": "stream",
          "text": [
            "mPerceptron model (lr=constant):\n",
            "mPerceptron model (max_iter=250.000000):\n",
            "accuracy: 0.571114383522347\n",
            "f1 score: 0.571114383522347\n",
            "recall score: 0.571114383522347\n",
            "precision score: 0.571114383522347\n"
          ],
          "name": "stdout"
        },
        {
          "output_type": "stream",
          "text": [
            "/usr/local/lib/python3.7/dist-packages/sklearn/neural_network/_multilayer_perceptron.py:571: ConvergenceWarning:\n",
            "\n",
            "Stochastic Optimizer: Maximum iterations (200) reached and the optimization hasn't converged yet.\n",
            "\n",
            "\u001b[32m[I 2021-04-23 01:46:14,442]\u001b[0m Trial 8 finished with value: 0.576603109640651 and parameters: {'learning_rate': 'constant', 'max_iter': 200}. Best is trial 0 with value: 0.576603109640651.\u001b[0m\n"
          ],
          "name": "stderr"
        },
        {
          "output_type": "stream",
          "text": [
            "mPerceptron model (lr=constant):\n",
            "mPerceptron model (max_iter=200.000000):\n",
            "accuracy: 0.576603109640651\n",
            "f1 score: 0.576603109640651\n",
            "recall score: 0.576603109640651\n",
            "precision score: 0.576603109640651\n"
          ],
          "name": "stdout"
        },
        {
          "output_type": "stream",
          "text": [
            "\u001b[32m[I 2021-04-23 01:50:44,895]\u001b[0m Trial 9 finished with value: 0.571114383522347 and parameters: {'learning_rate': 'constant', 'max_iter': 300}. Best is trial 0 with value: 0.576603109640651.\u001b[0m\n"
          ],
          "name": "stderr"
        },
        {
          "output_type": "stream",
          "text": [
            "mPerceptron model (lr=constant):\n",
            "mPerceptron model (max_iter=300.000000):\n",
            "accuracy: 0.571114383522347\n",
            "f1 score: 0.571114383522347\n",
            "recall score: 0.571114383522347\n",
            "precision score: 0.571114383522347\n"
          ],
          "name": "stdout"
        },
        {
          "output_type": "stream",
          "text": [
            "\u001b[32m[I 2021-04-23 01:55:16,468]\u001b[0m Trial 10 finished with value: 0.571114383522347 and parameters: {'learning_rate': 'adaptive', 'max_iter': 250}. Best is trial 0 with value: 0.576603109640651.\u001b[0m\n"
          ],
          "name": "stderr"
        },
        {
          "output_type": "stream",
          "text": [
            "mPerceptron model (lr=adaptive):\n",
            "mPerceptron model (max_iter=250.000000):\n",
            "accuracy: 0.571114383522347\n",
            "f1 score: 0.571114383522347\n",
            "recall score: 0.571114383522347\n",
            "precision score: 0.571114383522347\n"
          ],
          "name": "stdout"
        },
        {
          "output_type": "stream",
          "text": [
            "/usr/local/lib/python3.7/dist-packages/sklearn/neural_network/_multilayer_perceptron.py:571: ConvergenceWarning:\n",
            "\n",
            "Stochastic Optimizer: Maximum iterations (200) reached and the optimization hasn't converged yet.\n",
            "\n",
            "\u001b[32m[I 2021-04-23 01:59:03,857]\u001b[0m Trial 11 finished with value: 0.576603109640651 and parameters: {'learning_rate': 'invscaling', 'max_iter': 200}. Best is trial 0 with value: 0.576603109640651.\u001b[0m\n"
          ],
          "name": "stderr"
        },
        {
          "output_type": "stream",
          "text": [
            "mPerceptron model (lr=invscaling):\n",
            "mPerceptron model (max_iter=200.000000):\n",
            "accuracy: 0.576603109640651\n",
            "f1 score: 0.576603109640651\n",
            "recall score: 0.576603109640651\n",
            "precision score: 0.576603109640651\n"
          ],
          "name": "stdout"
        },
        {
          "output_type": "stream",
          "text": [
            "/usr/local/lib/python3.7/dist-packages/sklearn/neural_network/_multilayer_perceptron.py:571: ConvergenceWarning:\n",
            "\n",
            "Stochastic Optimizer: Maximum iterations (200) reached and the optimization hasn't converged yet.\n",
            "\n",
            "\u001b[32m[I 2021-04-23 02:02:56,490]\u001b[0m Trial 12 finished with value: 0.576603109640651 and parameters: {'learning_rate': 'adaptive', 'max_iter': 200}. Best is trial 0 with value: 0.576603109640651.\u001b[0m\n"
          ],
          "name": "stderr"
        },
        {
          "output_type": "stream",
          "text": [
            "mPerceptron model (lr=adaptive):\n",
            "mPerceptron model (max_iter=200.000000):\n",
            "accuracy: 0.576603109640651\n",
            "f1 score: 0.576603109640651\n",
            "recall score: 0.576603109640651\n",
            "precision score: 0.576603109640651\n"
          ],
          "name": "stdout"
        },
        {
          "output_type": "stream",
          "text": [
            "/usr/local/lib/python3.7/dist-packages/sklearn/neural_network/_multilayer_perceptron.py:571: ConvergenceWarning:\n",
            "\n",
            "Stochastic Optimizer: Maximum iterations (200) reached and the optimization hasn't converged yet.\n",
            "\n",
            "\u001b[32m[I 2021-04-23 02:06:47,052]\u001b[0m Trial 13 finished with value: 0.576603109640651 and parameters: {'learning_rate': 'invscaling', 'max_iter': 200}. Best is trial 0 with value: 0.576603109640651.\u001b[0m\n"
          ],
          "name": "stderr"
        },
        {
          "output_type": "stream",
          "text": [
            "mPerceptron model (lr=invscaling):\n",
            "mPerceptron model (max_iter=200.000000):\n",
            "accuracy: 0.576603109640651\n",
            "f1 score: 0.576603109640651\n",
            "recall score: 0.576603109640651\n",
            "precision score: 0.576603109640651\n"
          ],
          "name": "stdout"
        },
        {
          "output_type": "stream",
          "text": [
            "\u001b[32m[I 2021-04-23 02:11:21,386]\u001b[0m Trial 14 finished with value: 0.571114383522347 and parameters: {'learning_rate': 'adaptive', 'max_iter': 250}. Best is trial 0 with value: 0.576603109640651.\u001b[0m\n"
          ],
          "name": "stderr"
        },
        {
          "output_type": "stream",
          "text": [
            "mPerceptron model (lr=adaptive):\n",
            "mPerceptron model (max_iter=250.000000):\n",
            "accuracy: 0.571114383522347\n",
            "f1 score: 0.571114383522347\n",
            "recall score: 0.571114383522347\n",
            "precision score: 0.571114383522347\n"
          ],
          "name": "stdout"
        },
        {
          "output_type": "stream",
          "text": [
            "/usr/local/lib/python3.7/dist-packages/sklearn/neural_network/_multilayer_perceptron.py:571: ConvergenceWarning:\n",
            "\n",
            "Stochastic Optimizer: Maximum iterations (200) reached and the optimization hasn't converged yet.\n",
            "\n",
            "\u001b[32m[I 2021-04-23 02:15:08,497]\u001b[0m Trial 15 finished with value: 0.576603109640651 and parameters: {'learning_rate': 'invscaling', 'max_iter': 200}. Best is trial 0 with value: 0.576603109640651.\u001b[0m\n"
          ],
          "name": "stderr"
        },
        {
          "output_type": "stream",
          "text": [
            "mPerceptron model (lr=invscaling):\n",
            "mPerceptron model (max_iter=200.000000):\n",
            "accuracy: 0.576603109640651\n",
            "f1 score: 0.576603109640651\n",
            "recall score: 0.576603109640651\n",
            "precision score: 0.576603109640651\n"
          ],
          "name": "stdout"
        },
        {
          "output_type": "stream",
          "text": [
            "/usr/local/lib/python3.7/dist-packages/sklearn/neural_network/_multilayer_perceptron.py:571: ConvergenceWarning:\n",
            "\n",
            "Stochastic Optimizer: Maximum iterations (200) reached and the optimization hasn't converged yet.\n",
            "\n",
            "\u001b[32m[I 2021-04-23 02:18:56,439]\u001b[0m Trial 16 finished with value: 0.576603109640651 and parameters: {'learning_rate': 'adaptive', 'max_iter': 200}. Best is trial 0 with value: 0.576603109640651.\u001b[0m\n"
          ],
          "name": "stderr"
        },
        {
          "output_type": "stream",
          "text": [
            "mPerceptron model (lr=adaptive):\n",
            "mPerceptron model (max_iter=200.000000):\n",
            "accuracy: 0.576603109640651\n",
            "f1 score: 0.576603109640651\n",
            "recall score: 0.576603109640651\n",
            "precision score: 0.576603109640651\n"
          ],
          "name": "stdout"
        },
        {
          "output_type": "stream",
          "text": [
            "/usr/local/lib/python3.7/dist-packages/sklearn/neural_network/_multilayer_perceptron.py:573: UserWarning:\n",
            "\n",
            "Training interrupted by user.\n",
            "\n"
          ],
          "name": "stderr"
        },
        {
          "output_type": "error",
          "ename": "KeyboardInterrupt",
          "evalue": "ignored",
          "traceback": [
            "\u001b[0;31m---------------------------------------------------------------------------\u001b[0m",
            "\u001b[0;31mKeyboardInterrupt\u001b[0m                         Traceback (most recent call last)",
            "\u001b[0;32m<ipython-input-173-624dc54994c8>\u001b[0m in \u001b[0;36m<module>\u001b[0;34m()\u001b[0m\n\u001b[1;32m      1\u001b[0m \u001b[0mestudompc\u001b[0m \u001b[0;34m=\u001b[0m \u001b[0moptuna\u001b[0m\u001b[0;34m.\u001b[0m\u001b[0mcreate_study\u001b[0m\u001b[0;34m(\u001b[0m\u001b[0mdirection\u001b[0m\u001b[0;34m=\u001b[0m\u001b[0;34m\"maximize\"\u001b[0m\u001b[0;34m)\u001b[0m\u001b[0;34m\u001b[0m\u001b[0;34m\u001b[0m\u001b[0m\n\u001b[0;32m----> 2\u001b[0;31m \u001b[0mestudompc\u001b[0m\u001b[0;34m.\u001b[0m\u001b[0moptimize\u001b[0m\u001b[0;34m(\u001b[0m\u001b[0mmPerceptron\u001b[0m\u001b[0;34m,\u001b[0m \u001b[0mn_trials\u001b[0m\u001b[0;34m=\u001b[0m\u001b[0;36m20\u001b[0m\u001b[0;34m)\u001b[0m\u001b[0;34m\u001b[0m\u001b[0;34m\u001b[0m\u001b[0m\n\u001b[0m",
            "\u001b[0;32m/usr/local/lib/python3.7/dist-packages/optuna/study.py\u001b[0m in \u001b[0;36moptimize\u001b[0;34m(self, func, n_trials, timeout, n_jobs, catch, callbacks, gc_after_trial, show_progress_bar)\u001b[0m\n\u001b[1;32m    407\u001b[0m             \u001b[0mcallbacks\u001b[0m\u001b[0;34m=\u001b[0m\u001b[0mcallbacks\u001b[0m\u001b[0;34m,\u001b[0m\u001b[0;34m\u001b[0m\u001b[0;34m\u001b[0m\u001b[0m\n\u001b[1;32m    408\u001b[0m             \u001b[0mgc_after_trial\u001b[0m\u001b[0;34m=\u001b[0m\u001b[0mgc_after_trial\u001b[0m\u001b[0;34m,\u001b[0m\u001b[0;34m\u001b[0m\u001b[0;34m\u001b[0m\u001b[0m\n\u001b[0;32m--> 409\u001b[0;31m             \u001b[0mshow_progress_bar\u001b[0m\u001b[0;34m=\u001b[0m\u001b[0mshow_progress_bar\u001b[0m\u001b[0;34m,\u001b[0m\u001b[0;34m\u001b[0m\u001b[0;34m\u001b[0m\u001b[0m\n\u001b[0m\u001b[1;32m    410\u001b[0m         )\n\u001b[1;32m    411\u001b[0m \u001b[0;34m\u001b[0m\u001b[0m\n",
            "\u001b[0;32m/usr/local/lib/python3.7/dist-packages/optuna/_optimize.py\u001b[0m in \u001b[0;36m_optimize\u001b[0;34m(study, func, n_trials, timeout, n_jobs, catch, callbacks, gc_after_trial, show_progress_bar)\u001b[0m\n\u001b[1;32m     74\u001b[0m                 \u001b[0mreseed_sampler_rng\u001b[0m\u001b[0;34m=\u001b[0m\u001b[0;32mFalse\u001b[0m\u001b[0;34m,\u001b[0m\u001b[0;34m\u001b[0m\u001b[0;34m\u001b[0m\u001b[0m\n\u001b[1;32m     75\u001b[0m                 \u001b[0mtime_start\u001b[0m\u001b[0;34m=\u001b[0m\u001b[0;32mNone\u001b[0m\u001b[0;34m,\u001b[0m\u001b[0;34m\u001b[0m\u001b[0;34m\u001b[0m\u001b[0m\n\u001b[0;32m---> 76\u001b[0;31m                 \u001b[0mprogress_bar\u001b[0m\u001b[0;34m=\u001b[0m\u001b[0mprogress_bar\u001b[0m\u001b[0;34m,\u001b[0m\u001b[0;34m\u001b[0m\u001b[0;34m\u001b[0m\u001b[0m\n\u001b[0m\u001b[1;32m     77\u001b[0m             )\n\u001b[1;32m     78\u001b[0m         \u001b[0;32melse\u001b[0m\u001b[0;34m:\u001b[0m\u001b[0;34m\u001b[0m\u001b[0;34m\u001b[0m\u001b[0m\n",
            "\u001b[0;32m/usr/local/lib/python3.7/dist-packages/optuna/_optimize.py\u001b[0m in \u001b[0;36m_optimize_sequential\u001b[0;34m(study, func, n_trials, timeout, catch, callbacks, gc_after_trial, reseed_sampler_rng, time_start, progress_bar)\u001b[0m\n\u001b[1;32m    161\u001b[0m \u001b[0;34m\u001b[0m\u001b[0m\n\u001b[1;32m    162\u001b[0m         \u001b[0;32mtry\u001b[0m\u001b[0;34m:\u001b[0m\u001b[0;34m\u001b[0m\u001b[0;34m\u001b[0m\u001b[0m\n\u001b[0;32m--> 163\u001b[0;31m             \u001b[0mtrial\u001b[0m \u001b[0;34m=\u001b[0m \u001b[0m_run_trial\u001b[0m\u001b[0;34m(\u001b[0m\u001b[0mstudy\u001b[0m\u001b[0;34m,\u001b[0m \u001b[0mfunc\u001b[0m\u001b[0;34m,\u001b[0m \u001b[0mcatch\u001b[0m\u001b[0;34m)\u001b[0m\u001b[0;34m\u001b[0m\u001b[0;34m\u001b[0m\u001b[0m\n\u001b[0m\u001b[1;32m    164\u001b[0m         \u001b[0;32mexcept\u001b[0m \u001b[0mException\u001b[0m\u001b[0;34m:\u001b[0m\u001b[0;34m\u001b[0m\u001b[0;34m\u001b[0m\u001b[0m\n\u001b[1;32m    165\u001b[0m             \u001b[0;32mraise\u001b[0m\u001b[0;34m\u001b[0m\u001b[0;34m\u001b[0m\u001b[0m\n",
            "\u001b[0;32m/usr/local/lib/python3.7/dist-packages/optuna/_optimize.py\u001b[0m in \u001b[0;36m_run_trial\u001b[0;34m(study, func, catch)\u001b[0m\n\u001b[1;32m    215\u001b[0m \u001b[0;34m\u001b[0m\u001b[0m\n\u001b[1;32m    216\u001b[0m     \u001b[0;32mtry\u001b[0m\u001b[0;34m:\u001b[0m\u001b[0;34m\u001b[0m\u001b[0;34m\u001b[0m\u001b[0m\n\u001b[0;32m--> 217\u001b[0;31m         \u001b[0mvalue_or_values\u001b[0m \u001b[0;34m=\u001b[0m \u001b[0mfunc\u001b[0m\u001b[0;34m(\u001b[0m\u001b[0mtrial\u001b[0m\u001b[0;34m)\u001b[0m\u001b[0;34m\u001b[0m\u001b[0;34m\u001b[0m\u001b[0m\n\u001b[0m\u001b[1;32m    218\u001b[0m     \u001b[0;32mexcept\u001b[0m \u001b[0mexceptions\u001b[0m\u001b[0;34m.\u001b[0m\u001b[0mTrialPruned\u001b[0m \u001b[0;32mas\u001b[0m \u001b[0me\u001b[0m\u001b[0;34m:\u001b[0m\u001b[0;34m\u001b[0m\u001b[0;34m\u001b[0m\u001b[0m\n\u001b[1;32m    219\u001b[0m         \u001b[0;31m# TODO(mamu): Handle multi-objective cases.\u001b[0m\u001b[0;34m\u001b[0m\u001b[0;34m\u001b[0m\u001b[0;34m\u001b[0m\u001b[0m\n",
            "\u001b[0;32m<ipython-input-172-232424f63a8b>\u001b[0m in \u001b[0;36mmPerceptron\u001b[0;34m(trial)\u001b[0m\n\u001b[1;32m      8\u001b[0m       \u001b[0mmodel\u001b[0m \u001b[0;34m=\u001b[0m \u001b[0mMLPClassifier\u001b[0m\u001b[0;34m(\u001b[0m\u001b[0mmax_iter\u001b[0m\u001b[0;34m=\u001b[0m\u001b[0mmax_iter\u001b[0m\u001b[0;34m,\u001b[0m \u001b[0mlearning_rate\u001b[0m\u001b[0;34m=\u001b[0m\u001b[0mlr\u001b[0m\u001b[0;34m,\u001b[0m \u001b[0mrandom_state\u001b[0m \u001b[0;34m=\u001b[0m \u001b[0;36m1\u001b[0m\u001b[0;34m)\u001b[0m\u001b[0;34m\u001b[0m\u001b[0;34m\u001b[0m\u001b[0m\n\u001b[1;32m      9\u001b[0m       \u001b[0mmodel\u001b[0m\u001b[0;34m.\u001b[0m\u001b[0mfit\u001b[0m\u001b[0;34m(\u001b[0m\u001b[0mXtrain\u001b[0m\u001b[0;34m,\u001b[0m \u001b[0mytrain\u001b[0m\u001b[0;34m)\u001b[0m\u001b[0;34m\u001b[0m\u001b[0;34m\u001b[0m\u001b[0m\n\u001b[0;32m---> 10\u001b[0;31m       \u001b[0my_pred\u001b[0m \u001b[0;34m=\u001b[0m \u001b[0mmodel\u001b[0m\u001b[0;34m.\u001b[0m\u001b[0mpredict\u001b[0m\u001b[0;34m(\u001b[0m\u001b[0mXval\u001b[0m\u001b[0;34m)\u001b[0m\u001b[0;34m\u001b[0m\u001b[0;34m\u001b[0m\u001b[0m\n\u001b[0m\u001b[1;32m     11\u001b[0m \u001b[0;34m\u001b[0m\u001b[0m\n\u001b[1;32m     12\u001b[0m       \u001b[0;34m(\u001b[0m\u001b[0maccuracy\u001b[0m\u001b[0;34m,\u001b[0m \u001b[0mf1score\u001b[0m\u001b[0;34m,\u001b[0m \u001b[0mrecallscore\u001b[0m\u001b[0;34m,\u001b[0m \u001b[0mprecisionscore\u001b[0m\u001b[0;34m)\u001b[0m \u001b[0;34m=\u001b[0m \u001b[0meval_metrics\u001b[0m\u001b[0;34m(\u001b[0m\u001b[0mYval\u001b[0m\u001b[0;34m,\u001b[0m \u001b[0my_pred\u001b[0m\u001b[0;34m)\u001b[0m\u001b[0;34m\u001b[0m\u001b[0;34m\u001b[0m\u001b[0m\n",
            "\u001b[0;32m/usr/local/lib/python3.7/dist-packages/sklearn/neural_network/_multilayer_perceptron.py\u001b[0m in \u001b[0;36mpredict\u001b[0;34m(self, X)\u001b[0m\n\u001b[1;32m    969\u001b[0m         \"\"\"\n\u001b[1;32m    970\u001b[0m         \u001b[0mcheck_is_fitted\u001b[0m\u001b[0;34m(\u001b[0m\u001b[0mself\u001b[0m\u001b[0;34m)\u001b[0m\u001b[0;34m\u001b[0m\u001b[0;34m\u001b[0m\u001b[0m\n\u001b[0;32m--> 971\u001b[0;31m         \u001b[0my_pred\u001b[0m \u001b[0;34m=\u001b[0m \u001b[0mself\u001b[0m\u001b[0;34m.\u001b[0m\u001b[0m_predict\u001b[0m\u001b[0;34m(\u001b[0m\u001b[0mX\u001b[0m\u001b[0;34m)\u001b[0m\u001b[0;34m\u001b[0m\u001b[0;34m\u001b[0m\u001b[0m\n\u001b[0m\u001b[1;32m    972\u001b[0m \u001b[0;34m\u001b[0m\u001b[0m\n\u001b[1;32m    973\u001b[0m         \u001b[0;32mif\u001b[0m \u001b[0mself\u001b[0m\u001b[0;34m.\u001b[0m\u001b[0mn_outputs_\u001b[0m \u001b[0;34m==\u001b[0m \u001b[0;36m1\u001b[0m\u001b[0;34m:\u001b[0m\u001b[0;34m\u001b[0m\u001b[0;34m\u001b[0m\u001b[0m\n",
            "\u001b[0;32m/usr/local/lib/python3.7/dist-packages/sklearn/neural_network/_multilayer_perceptron.py\u001b[0m in \u001b[0;36m_predict\u001b[0;34m(self, X)\u001b[0m\n\u001b[1;32m    683\u001b[0m                                          layer_units[i + 1])))\n\u001b[1;32m    684\u001b[0m         \u001b[0;31m# forward propagate\u001b[0m\u001b[0;34m\u001b[0m\u001b[0;34m\u001b[0m\u001b[0;34m\u001b[0m\u001b[0m\n\u001b[0;32m--> 685\u001b[0;31m         \u001b[0mself\u001b[0m\u001b[0;34m.\u001b[0m\u001b[0m_forward_pass\u001b[0m\u001b[0;34m(\u001b[0m\u001b[0mactivations\u001b[0m\u001b[0;34m)\u001b[0m\u001b[0;34m\u001b[0m\u001b[0;34m\u001b[0m\u001b[0m\n\u001b[0m\u001b[1;32m    686\u001b[0m         \u001b[0my_pred\u001b[0m \u001b[0;34m=\u001b[0m \u001b[0mactivations\u001b[0m\u001b[0;34m[\u001b[0m\u001b[0;34m-\u001b[0m\u001b[0;36m1\u001b[0m\u001b[0;34m]\u001b[0m\u001b[0;34m\u001b[0m\u001b[0;34m\u001b[0m\u001b[0m\n\u001b[1;32m    687\u001b[0m \u001b[0;34m\u001b[0m\u001b[0m\n",
            "\u001b[0;32m/usr/local/lib/python3.7/dist-packages/sklearn/neural_network/_multilayer_perceptron.py\u001b[0m in \u001b[0;36m_forward_pass\u001b[0;34m(self, activations)\u001b[0m\n\u001b[1;32m    107\u001b[0m             \u001b[0;31m# For the hidden layers\u001b[0m\u001b[0;34m\u001b[0m\u001b[0;34m\u001b[0m\u001b[0;34m\u001b[0m\u001b[0m\n\u001b[1;32m    108\u001b[0m             \u001b[0;32mif\u001b[0m \u001b[0;34m(\u001b[0m\u001b[0mi\u001b[0m \u001b[0;34m+\u001b[0m \u001b[0;36m1\u001b[0m\u001b[0;34m)\u001b[0m \u001b[0;34m!=\u001b[0m \u001b[0;34m(\u001b[0m\u001b[0mself\u001b[0m\u001b[0;34m.\u001b[0m\u001b[0mn_layers_\u001b[0m \u001b[0;34m-\u001b[0m \u001b[0;36m1\u001b[0m\u001b[0;34m)\u001b[0m\u001b[0;34m:\u001b[0m\u001b[0;34m\u001b[0m\u001b[0;34m\u001b[0m\u001b[0m\n\u001b[0;32m--> 109\u001b[0;31m                 \u001b[0mactivations\u001b[0m\u001b[0;34m[\u001b[0m\u001b[0mi\u001b[0m \u001b[0;34m+\u001b[0m \u001b[0;36m1\u001b[0m\u001b[0;34m]\u001b[0m \u001b[0;34m=\u001b[0m \u001b[0mhidden_activation\u001b[0m\u001b[0;34m(\u001b[0m\u001b[0mactivations\u001b[0m\u001b[0;34m[\u001b[0m\u001b[0mi\u001b[0m \u001b[0;34m+\u001b[0m \u001b[0;36m1\u001b[0m\u001b[0;34m]\u001b[0m\u001b[0;34m)\u001b[0m\u001b[0;34m\u001b[0m\u001b[0;34m\u001b[0m\u001b[0m\n\u001b[0m\u001b[1;32m    110\u001b[0m \u001b[0;34m\u001b[0m\u001b[0m\n\u001b[1;32m    111\u001b[0m         \u001b[0;31m# For the last layer\u001b[0m\u001b[0;34m\u001b[0m\u001b[0;34m\u001b[0m\u001b[0;34m\u001b[0m\u001b[0m\n",
            "\u001b[0;32m/usr/local/lib/python3.7/dist-packages/sklearn/neural_network/_base.py\u001b[0m in \u001b[0;36mrelu\u001b[0;34m(X)\u001b[0m\n\u001b[1;32m     73\u001b[0m         \u001b[0mThe\u001b[0m \u001b[0mtransformed\u001b[0m \u001b[0mdata\u001b[0m\u001b[0;34m.\u001b[0m\u001b[0;34m\u001b[0m\u001b[0;34m\u001b[0m\u001b[0m\n\u001b[1;32m     74\u001b[0m     \"\"\"\n\u001b[0;32m---> 75\u001b[0;31m     \u001b[0mnp\u001b[0m\u001b[0;34m.\u001b[0m\u001b[0mclip\u001b[0m\u001b[0;34m(\u001b[0m\u001b[0mX\u001b[0m\u001b[0;34m,\u001b[0m \u001b[0;36m0\u001b[0m\u001b[0;34m,\u001b[0m \u001b[0mnp\u001b[0m\u001b[0;34m.\u001b[0m\u001b[0mfinfo\u001b[0m\u001b[0;34m(\u001b[0m\u001b[0mX\u001b[0m\u001b[0;34m.\u001b[0m\u001b[0mdtype\u001b[0m\u001b[0;34m)\u001b[0m\u001b[0;34m.\u001b[0m\u001b[0mmax\u001b[0m\u001b[0;34m,\u001b[0m \u001b[0mout\u001b[0m\u001b[0;34m=\u001b[0m\u001b[0mX\u001b[0m\u001b[0;34m)\u001b[0m\u001b[0;34m\u001b[0m\u001b[0;34m\u001b[0m\u001b[0m\n\u001b[0m\u001b[1;32m     76\u001b[0m     \u001b[0;32mreturn\u001b[0m \u001b[0mX\u001b[0m\u001b[0;34m\u001b[0m\u001b[0;34m\u001b[0m\u001b[0m\n\u001b[1;32m     77\u001b[0m \u001b[0;34m\u001b[0m\u001b[0m\n",
            "\u001b[0;32m<__array_function__ internals>\u001b[0m in \u001b[0;36mclip\u001b[0;34m(*args, **kwargs)\u001b[0m\n",
            "\u001b[0;32m/usr/local/lib/python3.7/dist-packages/numpy/core/fromnumeric.py\u001b[0m in \u001b[0;36mclip\u001b[0;34m(a, a_min, a_max, out, **kwargs)\u001b[0m\n\u001b[1;32m   2095\u001b[0m \u001b[0;34m\u001b[0m\u001b[0m\n\u001b[1;32m   2096\u001b[0m     \"\"\"\n\u001b[0;32m-> 2097\u001b[0;31m     \u001b[0;32mreturn\u001b[0m \u001b[0m_wrapfunc\u001b[0m\u001b[0;34m(\u001b[0m\u001b[0ma\u001b[0m\u001b[0;34m,\u001b[0m \u001b[0;34m'clip'\u001b[0m\u001b[0;34m,\u001b[0m \u001b[0ma_min\u001b[0m\u001b[0;34m,\u001b[0m \u001b[0ma_max\u001b[0m\u001b[0;34m,\u001b[0m \u001b[0mout\u001b[0m\u001b[0;34m=\u001b[0m\u001b[0mout\u001b[0m\u001b[0;34m,\u001b[0m \u001b[0;34m**\u001b[0m\u001b[0mkwargs\u001b[0m\u001b[0;34m)\u001b[0m\u001b[0;34m\u001b[0m\u001b[0;34m\u001b[0m\u001b[0m\n\u001b[0m\u001b[1;32m   2098\u001b[0m \u001b[0;34m\u001b[0m\u001b[0m\n\u001b[1;32m   2099\u001b[0m \u001b[0;34m\u001b[0m\u001b[0m\n",
            "\u001b[0;32m/usr/local/lib/python3.7/dist-packages/numpy/core/fromnumeric.py\u001b[0m in \u001b[0;36m_wrapfunc\u001b[0;34m(obj, method, *args, **kwds)\u001b[0m\n\u001b[1;32m     56\u001b[0m \u001b[0;34m\u001b[0m\u001b[0m\n\u001b[1;32m     57\u001b[0m     \u001b[0;32mtry\u001b[0m\u001b[0;34m:\u001b[0m\u001b[0;34m\u001b[0m\u001b[0;34m\u001b[0m\u001b[0m\n\u001b[0;32m---> 58\u001b[0;31m         \u001b[0;32mreturn\u001b[0m \u001b[0mbound\u001b[0m\u001b[0;34m(\u001b[0m\u001b[0;34m*\u001b[0m\u001b[0margs\u001b[0m\u001b[0;34m,\u001b[0m \u001b[0;34m**\u001b[0m\u001b[0mkwds\u001b[0m\u001b[0;34m)\u001b[0m\u001b[0;34m\u001b[0m\u001b[0;34m\u001b[0m\u001b[0m\n\u001b[0m\u001b[1;32m     59\u001b[0m     \u001b[0;32mexcept\u001b[0m \u001b[0mTypeError\u001b[0m\u001b[0;34m:\u001b[0m\u001b[0;34m\u001b[0m\u001b[0;34m\u001b[0m\u001b[0m\n\u001b[1;32m     60\u001b[0m         \u001b[0;31m# A TypeError occurs if the object does have such a method in its\u001b[0m\u001b[0;34m\u001b[0m\u001b[0;34m\u001b[0m\u001b[0;34m\u001b[0m\u001b[0m\n",
            "\u001b[0;32m/usr/local/lib/python3.7/dist-packages/numpy/core/_methods.py\u001b[0m in \u001b[0;36m_clip\u001b[0;34m(a, min, max, out, casting, **kwargs)\u001b[0m\n\u001b[1;32m    139\u001b[0m     \u001b[0;32melse\u001b[0m\u001b[0;34m:\u001b[0m\u001b[0;34m\u001b[0m\u001b[0;34m\u001b[0m\u001b[0m\n\u001b[1;32m    140\u001b[0m         return _clip_dep_invoke_with_casting(\n\u001b[0;32m--> 141\u001b[0;31m             um.clip, a, min, max, out=out, casting=casting, **kwargs)\n\u001b[0m\u001b[1;32m    142\u001b[0m \u001b[0;34m\u001b[0m\u001b[0m\n\u001b[1;32m    143\u001b[0m \u001b[0;32mdef\u001b[0m \u001b[0m_mean\u001b[0m\u001b[0;34m(\u001b[0m\u001b[0ma\u001b[0m\u001b[0;34m,\u001b[0m \u001b[0maxis\u001b[0m\u001b[0;34m=\u001b[0m\u001b[0;32mNone\u001b[0m\u001b[0;34m,\u001b[0m \u001b[0mdtype\u001b[0m\u001b[0;34m=\u001b[0m\u001b[0;32mNone\u001b[0m\u001b[0;34m,\u001b[0m \u001b[0mout\u001b[0m\u001b[0;34m=\u001b[0m\u001b[0;32mNone\u001b[0m\u001b[0;34m,\u001b[0m \u001b[0mkeepdims\u001b[0m\u001b[0;34m=\u001b[0m\u001b[0;32mFalse\u001b[0m\u001b[0;34m)\u001b[0m\u001b[0;34m:\u001b[0m\u001b[0;34m\u001b[0m\u001b[0;34m\u001b[0m\u001b[0m\n",
            "\u001b[0;32m/usr/local/lib/python3.7/dist-packages/numpy/core/_methods.py\u001b[0m in \u001b[0;36m_clip_dep_invoke_with_casting\u001b[0;34m(ufunc, out, casting, *args, **kwargs)\u001b[0m\n\u001b[1;32m     92\u001b[0m     \u001b[0;31m# try to deal with broken casting rules\u001b[0m\u001b[0;34m\u001b[0m\u001b[0;34m\u001b[0m\u001b[0;34m\u001b[0m\u001b[0m\n\u001b[1;32m     93\u001b[0m     \u001b[0;32mtry\u001b[0m\u001b[0;34m:\u001b[0m\u001b[0;34m\u001b[0m\u001b[0;34m\u001b[0m\u001b[0m\n\u001b[0;32m---> 94\u001b[0;31m         \u001b[0;32mreturn\u001b[0m \u001b[0mufunc\u001b[0m\u001b[0;34m(\u001b[0m\u001b[0;34m*\u001b[0m\u001b[0margs\u001b[0m\u001b[0;34m,\u001b[0m \u001b[0mout\u001b[0m\u001b[0;34m=\u001b[0m\u001b[0mout\u001b[0m\u001b[0;34m,\u001b[0m \u001b[0;34m**\u001b[0m\u001b[0mkwargs\u001b[0m\u001b[0;34m)\u001b[0m\u001b[0;34m\u001b[0m\u001b[0;34m\u001b[0m\u001b[0m\n\u001b[0m\u001b[1;32m     95\u001b[0m     \u001b[0;32mexcept\u001b[0m \u001b[0m_exceptions\u001b[0m\u001b[0;34m.\u001b[0m\u001b[0m_UFuncOutputCastingError\u001b[0m \u001b[0;32mas\u001b[0m \u001b[0me\u001b[0m\u001b[0;34m:\u001b[0m\u001b[0;34m\u001b[0m\u001b[0;34m\u001b[0m\u001b[0m\n\u001b[1;32m     96\u001b[0m         \u001b[0;31m# Numpy 1.17.0, 2019-02-24\u001b[0m\u001b[0;34m\u001b[0m\u001b[0;34m\u001b[0m\u001b[0;34m\u001b[0m\u001b[0m\n",
            "\u001b[0;31mKeyboardInterrupt\u001b[0m: "
          ]
        }
      ]
    },
    {
      "cell_type": "markdown",
      "metadata": {
        "id": "ff_05eQeldoE"
      },
      "source": [
        "###SVC"
      ]
    },
    {
      "cell_type": "code",
      "metadata": {
        "id": "4oqgCyYYI7AK"
      },
      "source": [
        "def svmSvc(trial):\n",
        "\n",
        "    c = trial.suggest_int('c', 1, 101, 10)\n",
        "    max_iter = trial.suggest_int('max_iter', 1, 101, 10)\n",
        "\n",
        "    with mlflow.start_run(run_name = str('SVM')):\n",
        "        svc = SVC(C = c, max_iter = max_iter)\n",
        "        svc.fit(Xtrain, ytrain)\n",
        "        y_model = svc.predict(Xval)\n",
        "\n",
        "        (accuracy, f1score, recallscore, precisionscore) = eval_metrics(Yval, y_model)\n",
        "\n",
        "        print(\"SVM model (c=%f):\" % (c))\n",
        "        print(\"SVM model (max_iter=%f):\" % (max_iter))\n",
        "        print(\"accuracy: %s\" % accuracy)\n",
        "        print(\"f1 score: %s\" % f1score)\n",
        "        print(\"recall score: %s\" % recallscore)\n",
        "        print(\"precision score: %s\" % precisionscore)\n",
        "\n",
        "        mlflow.log_param(\"c\", c)\n",
        "        mlflow.log_param(\"max_iter\", max_iter)\n",
        "        mlflow.log_metric(\"accuracy\", accuracy)\n",
        "        mlflow.log_metric(\"f1 score\", f1score)\n",
        "        mlflow.log_metric(\"recall score\", recallscore)\n",
        "        mlflow.log_metric(\"precision score\", precisionscore)\n",
        "\n",
        "        mlflow.end_run()\n",
        "\n",
        "    return accuracy\n",
        "    #96"
      ],
      "execution_count": null,
      "outputs": []
    },
    {
      "cell_type": "code",
      "metadata": {
        "id": "TzjVH8L2zM7u",
        "colab": {
          "base_uri": "https://localhost:8080/"
        },
        "outputId": "01d21b04-67fc-446b-c59f-e625049a623a"
      },
      "source": [
        "estudosvc = optuna.create_study(direction=\"maximize\")\n",
        "estudosvc.optimize(svmSvc, n_trials=20)"
      ],
      "execution_count": null,
      "outputs": [
        {
          "output_type": "stream",
          "text": [
            "\u001b[32m[I 2021-04-22 21:01:52,771]\u001b[0m A new study created in memory with name: no-name-a4b88125-379b-404e-ab2b-3ed0404d377e\u001b[0m\n",
            "/usr/local/lib/python3.7/dist-packages/sklearn/svm/_base.py:231: ConvergenceWarning:\n",
            "\n",
            "Solver terminated early (max_iter=81).  Consider pre-processing your data with StandardScaler or MinMaxScaler.\n",
            "\n",
            "\u001b[32m[I 2021-04-22 21:02:03,342]\u001b[0m Trial 0 finished with value: 0.4365354089770315 and parameters: {'c': 11, 'max_iter': 81}. Best is trial 0 with value: 0.4365354089770315.\u001b[0m\n"
          ],
          "name": "stderr"
        },
        {
          "output_type": "stream",
          "text": [
            "SVM model (c=11.000000):\n",
            "SVM model (max_iter=81.000000):\n",
            "accuracy: 0.4365354089770315\n",
            "f1 score: 0.4365354089770315\n",
            "recall score: 0.4365354089770315\n",
            "precision score: 0.4365354089770315\n"
          ],
          "name": "stdout"
        },
        {
          "output_type": "stream",
          "text": [
            "/usr/local/lib/python3.7/dist-packages/sklearn/svm/_base.py:231: ConvergenceWarning:\n",
            "\n",
            "Solver terminated early (max_iter=91).  Consider pre-processing your data with StandardScaler or MinMaxScaler.\n",
            "\n",
            "\u001b[32m[I 2021-04-22 21:02:14,297]\u001b[0m Trial 1 finished with value: 0.4119030771290329 and parameters: {'c': 81, 'max_iter': 91}. Best is trial 0 with value: 0.4365354089770315.\u001b[0m\n"
          ],
          "name": "stderr"
        },
        {
          "output_type": "stream",
          "text": [
            "SVM model (c=81.000000):\n",
            "SVM model (max_iter=91.000000):\n",
            "accuracy: 0.4119030771290329\n",
            "f1 score: 0.41190307712903296\n",
            "recall score: 0.4119030771290329\n",
            "precision score: 0.4119030771290329\n"
          ],
          "name": "stdout"
        },
        {
          "output_type": "stream",
          "text": [
            "/usr/local/lib/python3.7/dist-packages/sklearn/svm/_base.py:231: ConvergenceWarning:\n",
            "\n",
            "Solver terminated early (max_iter=1).  Consider pre-processing your data with StandardScaler or MinMaxScaler.\n",
            "\n",
            "\u001b[32m[I 2021-04-22 21:02:14,704]\u001b[0m Trial 2 finished with value: 0.25133393256707914 and parameters: {'c': 101, 'max_iter': 1}. Best is trial 0 with value: 0.4365354089770315.\u001b[0m\n"
          ],
          "name": "stderr"
        },
        {
          "output_type": "stream",
          "text": [
            "SVM model (c=101.000000):\n",
            "SVM model (max_iter=1.000000):\n",
            "accuracy: 0.25133393256707914\n",
            "f1 score: 0.25133393256707914\n",
            "recall score: 0.25133393256707914\n",
            "precision score: 0.25133393256707914\n"
          ],
          "name": "stdout"
        },
        {
          "output_type": "stream",
          "text": [
            "/usr/local/lib/python3.7/dist-packages/sklearn/svm/_base.py:231: ConvergenceWarning:\n",
            "\n",
            "Solver terminated early (max_iter=101).  Consider pre-processing your data with StandardScaler or MinMaxScaler.\n",
            "\n",
            "\u001b[32m[I 2021-04-22 21:02:26,446]\u001b[0m Trial 3 finished with value: 0.41046874103539943 and parameters: {'c': 101, 'max_iter': 101}. Best is trial 0 with value: 0.4365354089770315.\u001b[0m\n"
          ],
          "name": "stderr"
        },
        {
          "output_type": "stream",
          "text": [
            "SVM model (c=101.000000):\n",
            "SVM model (max_iter=101.000000):\n",
            "accuracy: 0.41046874103539943\n",
            "f1 score: 0.41046874103539943\n",
            "recall score: 0.41046874103539943\n",
            "precision score: 0.41046874103539943\n"
          ],
          "name": "stdout"
        },
        {
          "output_type": "stream",
          "text": [
            "/usr/local/lib/python3.7/dist-packages/sklearn/svm/_base.py:231: ConvergenceWarning:\n",
            "\n",
            "Solver terminated early (max_iter=21).  Consider pre-processing your data with StandardScaler or MinMaxScaler.\n",
            "\n",
            "\u001b[32m[I 2021-04-22 21:02:29,468]\u001b[0m Trial 4 finished with value: 0.02153416588575035 and parameters: {'c': 101, 'max_iter': 21}. Best is trial 0 with value: 0.4365354089770315.\u001b[0m\n"
          ],
          "name": "stderr"
        },
        {
          "output_type": "stream",
          "text": [
            "SVM model (c=101.000000):\n",
            "SVM model (max_iter=21.000000):\n",
            "accuracy: 0.02153416588575035\n",
            "f1 score: 0.02153416588575035\n",
            "recall score: 0.02153416588575035\n",
            "precision score: 0.02153416588575035\n"
          ],
          "name": "stdout"
        },
        {
          "output_type": "stream",
          "text": [
            "/usr/local/lib/python3.7/dist-packages/sklearn/svm/_base.py:231: ConvergenceWarning:\n",
            "\n",
            "Solver terminated early (max_iter=21).  Consider pre-processing your data with StandardScaler or MinMaxScaler.\n",
            "\n",
            "\u001b[32m[I 2021-04-22 21:02:32,480]\u001b[0m Trial 5 finished with value: 0.02138117003576278 and parameters: {'c': 41, 'max_iter': 21}. Best is trial 0 with value: 0.4365354089770315.\u001b[0m\n"
          ],
          "name": "stderr"
        },
        {
          "output_type": "stream",
          "text": [
            "SVM model (c=41.000000):\n",
            "SVM model (max_iter=21.000000):\n",
            "accuracy: 0.02138117003576278\n",
            "f1 score: 0.02138117003576278\n",
            "recall score: 0.02138117003576278\n",
            "precision score: 0.02138117003576278\n"
          ],
          "name": "stdout"
        },
        {
          "output_type": "stream",
          "text": [
            "/usr/local/lib/python3.7/dist-packages/sklearn/svm/_base.py:231: ConvergenceWarning:\n",
            "\n",
            "Solver terminated early (max_iter=91).  Consider pre-processing your data with StandardScaler or MinMaxScaler.\n",
            "\n",
            "\u001b[32m[I 2021-04-22 21:02:43,305]\u001b[0m Trial 6 finished with value: 0.3965461186865306 and parameters: {'c': 91, 'max_iter': 91}. Best is trial 0 with value: 0.4365354089770315.\u001b[0m\n"
          ],
          "name": "stderr"
        },
        {
          "output_type": "stream",
          "text": [
            "SVM model (c=91.000000):\n",
            "SVM model (max_iter=91.000000):\n",
            "accuracy: 0.3965461186865306\n",
            "f1 score: 0.3965461186865306\n",
            "recall score: 0.3965461186865306\n",
            "precision score: 0.3965461186865306\n"
          ],
          "name": "stdout"
        },
        {
          "output_type": "stream",
          "text": [
            "/usr/local/lib/python3.7/dist-packages/sklearn/svm/_base.py:231: ConvergenceWarning:\n",
            "\n",
            "Solver terminated early (max_iter=61).  Consider pre-processing your data with StandardScaler or MinMaxScaler.\n",
            "\n",
            "\u001b[32m[I 2021-04-22 21:02:50,885]\u001b[0m Trial 7 finished with value: 0.2752012851651399 and parameters: {'c': 1, 'max_iter': 61}. Best is trial 0 with value: 0.4365354089770315.\u001b[0m\n"
          ],
          "name": "stderr"
        },
        {
          "output_type": "stream",
          "text": [
            "SVM model (c=1.000000):\n",
            "SVM model (max_iter=61.000000):\n",
            "accuracy: 0.2752012851651399\n",
            "f1 score: 0.2752012851651399\n",
            "recall score: 0.2752012851651399\n",
            "precision score: 0.2752012851651399\n"
          ],
          "name": "stdout"
        },
        {
          "output_type": "stream",
          "text": [
            "/usr/local/lib/python3.7/dist-packages/sklearn/svm/_base.py:231: ConvergenceWarning:\n",
            "\n",
            "Solver terminated early (max_iter=41).  Consider pre-processing your data with StandardScaler or MinMaxScaler.\n",
            "\n",
            "\u001b[32m[I 2021-04-22 21:02:56,337]\u001b[0m Trial 8 finished with value: 0.020807435598309394 and parameters: {'c': 51, 'max_iter': 41}. Best is trial 0 with value: 0.4365354089770315.\u001b[0m\n"
          ],
          "name": "stderr"
        },
        {
          "output_type": "stream",
          "text": [
            "SVM model (c=51.000000):\n",
            "SVM model (max_iter=41.000000):\n",
            "accuracy: 0.020807435598309394\n",
            "f1 score: 0.020807435598309394\n",
            "recall score: 0.020807435598309394\n",
            "precision score: 0.020807435598309394\n"
          ],
          "name": "stdout"
        },
        {
          "output_type": "stream",
          "text": [
            "/usr/local/lib/python3.7/dist-packages/sklearn/svm/_base.py:231: ConvergenceWarning:\n",
            "\n",
            "Solver terminated early (max_iter=101).  Consider pre-processing your data with StandardScaler or MinMaxScaler.\n",
            "\n",
            "\u001b[32m[I 2021-04-22 21:03:08,450]\u001b[0m Trial 9 finished with value: 0.3984203178488783 and parameters: {'c': 61, 'max_iter': 101}. Best is trial 0 with value: 0.4365354089770315.\u001b[0m\n"
          ],
          "name": "stderr"
        },
        {
          "output_type": "stream",
          "text": [
            "SVM model (c=61.000000):\n",
            "SVM model (max_iter=101.000000):\n",
            "accuracy: 0.3984203178488783\n",
            "f1 score: 0.3984203178488783\n",
            "recall score: 0.3984203178488783\n",
            "precision score: 0.3984203178488783\n"
          ],
          "name": "stdout"
        },
        {
          "output_type": "stream",
          "text": [
            "/usr/local/lib/python3.7/dist-packages/sklearn/svm/_base.py:231: ConvergenceWarning:\n",
            "\n",
            "Solver terminated early (max_iter=71).  Consider pre-processing your data with StandardScaler or MinMaxScaler.\n",
            "\n",
            "\u001b[32m[I 2021-04-22 21:03:17,403]\u001b[0m Trial 10 finished with value: 0.2705157872592706 and parameters: {'c': 1, 'max_iter': 71}. Best is trial 0 with value: 0.4365354089770315.\u001b[0m\n"
          ],
          "name": "stderr"
        },
        {
          "output_type": "stream",
          "text": [
            "SVM model (c=1.000000):\n",
            "SVM model (max_iter=71.000000):\n",
            "accuracy: 0.2705157872592706\n",
            "f1 score: 0.2705157872592706\n",
            "recall score: 0.2705157872592706\n",
            "precision score: 0.2705157872592706\n"
          ],
          "name": "stdout"
        },
        {
          "output_type": "stream",
          "text": [
            "/usr/local/lib/python3.7/dist-packages/sklearn/svm/_base.py:231: ConvergenceWarning:\n",
            "\n",
            "Solver terminated early (max_iter=81).  Consider pre-processing your data with StandardScaler or MinMaxScaler.\n",
            "\n",
            "\u001b[32m[I 2021-04-22 21:03:27,561]\u001b[0m Trial 11 finished with value: 0.41515423894126874 and parameters: {'c': 31, 'max_iter': 81}. Best is trial 0 with value: 0.4365354089770315.\u001b[0m\n"
          ],
          "name": "stderr"
        },
        {
          "output_type": "stream",
          "text": [
            "SVM model (c=31.000000):\n",
            "SVM model (max_iter=81.000000):\n",
            "accuracy: 0.41515423894126874\n",
            "f1 score: 0.41515423894126874\n",
            "recall score: 0.41515423894126874\n",
            "precision score: 0.41515423894126874\n"
          ],
          "name": "stdout"
        },
        {
          "output_type": "stream",
          "text": [
            "/usr/local/lib/python3.7/dist-packages/sklearn/svm/_base.py:231: ConvergenceWarning:\n",
            "\n",
            "Solver terminated early (max_iter=71).  Consider pre-processing your data with StandardScaler or MinMaxScaler.\n",
            "\n",
            "\u001b[32m[I 2021-04-22 21:03:36,654]\u001b[0m Trial 12 finished with value: 0.4272026621277898 and parameters: {'c': 21, 'max_iter': 71}. Best is trial 0 with value: 0.4365354089770315.\u001b[0m\n"
          ],
          "name": "stderr"
        },
        {
          "output_type": "stream",
          "text": [
            "SVM model (c=21.000000):\n",
            "SVM model (max_iter=71.000000):\n",
            "accuracy: 0.4272026621277898\n",
            "f1 score: 0.4272026621277898\n",
            "recall score: 0.4272026621277898\n",
            "precision score: 0.4272026621277898\n"
          ],
          "name": "stdout"
        },
        {
          "output_type": "stream",
          "text": [
            "/usr/local/lib/python3.7/dist-packages/sklearn/svm/_base.py:231: ConvergenceWarning:\n",
            "\n",
            "Solver terminated early (max_iter=51).  Consider pre-processing your data with StandardScaler or MinMaxScaler.\n",
            "\n",
            "\u001b[32m[I 2021-04-22 21:03:43,494]\u001b[0m Trial 13 finished with value: 0.3540132723899864 and parameters: {'c': 21, 'max_iter': 51}. Best is trial 0 with value: 0.4365354089770315.\u001b[0m\n"
          ],
          "name": "stderr"
        },
        {
          "output_type": "stream",
          "text": [
            "SVM model (c=21.000000):\n",
            "SVM model (max_iter=51.000000):\n",
            "accuracy: 0.3540132723899864\n",
            "f1 score: 0.3540132723899864\n",
            "recall score: 0.3540132723899864\n",
            "precision score: 0.3540132723899864\n"
          ],
          "name": "stdout"
        },
        {
          "output_type": "stream",
          "text": [
            "/usr/local/lib/python3.7/dist-packages/sklearn/svm/_base.py:231: ConvergenceWarning:\n",
            "\n",
            "Solver terminated early (max_iter=71).  Consider pre-processing your data with StandardScaler or MinMaxScaler.\n",
            "\n",
            "\u001b[32m[I 2021-04-22 21:03:52,543]\u001b[0m Trial 14 finished with value: 0.4307024421962554 and parameters: {'c': 11, 'max_iter': 71}. Best is trial 0 with value: 0.4365354089770315.\u001b[0m\n"
          ],
          "name": "stderr"
        },
        {
          "output_type": "stream",
          "text": [
            "SVM model (c=11.000000):\n",
            "SVM model (max_iter=71.000000):\n",
            "accuracy: 0.4307024421962554\n",
            "f1 score: 0.4307024421962554\n",
            "recall score: 0.4307024421962554\n",
            "precision score: 0.4307024421962554\n"
          ],
          "name": "stdout"
        },
        {
          "output_type": "stream",
          "text": [
            "/usr/local/lib/python3.7/dist-packages/sklearn/svm/_base.py:231: ConvergenceWarning:\n",
            "\n",
            "Solver terminated early (max_iter=51).  Consider pre-processing your data with StandardScaler or MinMaxScaler.\n",
            "\n",
            "\u001b[32m[I 2021-04-22 21:03:59,393]\u001b[0m Trial 15 finished with value: 0.3581824093021477 and parameters: {'c': 11, 'max_iter': 51}. Best is trial 0 with value: 0.4365354089770315.\u001b[0m\n"
          ],
          "name": "stderr"
        },
        {
          "output_type": "stream",
          "text": [
            "SVM model (c=11.000000):\n",
            "SVM model (max_iter=51.000000):\n",
            "accuracy: 0.3581824093021477\n",
            "f1 score: 0.3581824093021477\n",
            "recall score: 0.3581824093021477\n",
            "precision score: 0.3581824093021477\n"
          ],
          "name": "stdout"
        },
        {
          "output_type": "stream",
          "text": [
            "/usr/local/lib/python3.7/dist-packages/sklearn/svm/_base.py:231: ConvergenceWarning:\n",
            "\n",
            "Solver terminated early (max_iter=81).  Consider pre-processing your data with StandardScaler or MinMaxScaler.\n",
            "\n",
            "\u001b[32m[I 2021-04-22 21:04:09,623]\u001b[0m Trial 16 finished with value: 0.27397731836523936 and parameters: {'c': 1, 'max_iter': 81}. Best is trial 0 with value: 0.4365354089770315.\u001b[0m\n"
          ],
          "name": "stderr"
        },
        {
          "output_type": "stream",
          "text": [
            "SVM model (c=1.000000):\n",
            "SVM model (max_iter=81.000000):\n",
            "accuracy: 0.27397731836523936\n",
            "f1 score: 0.27397731836523936\n",
            "recall score: 0.27397731836523936\n",
            "precision score: 0.27397731836523936\n"
          ],
          "name": "stdout"
        },
        {
          "output_type": "stream",
          "text": [
            "/usr/local/lib/python3.7/dist-packages/sklearn/svm/_base.py:231: ConvergenceWarning:\n",
            "\n",
            "Solver terminated early (max_iter=61).  Consider pre-processing your data with StandardScaler or MinMaxScaler.\n",
            "\n",
            "\u001b[32m[I 2021-04-22 21:04:17,676]\u001b[0m Trial 17 finished with value: 0.3828147411501463 and parameters: {'c': 21, 'max_iter': 61}. Best is trial 0 with value: 0.4365354089770315.\u001b[0m\n"
          ],
          "name": "stderr"
        },
        {
          "output_type": "stream",
          "text": [
            "SVM model (c=21.000000):\n",
            "SVM model (max_iter=61.000000):\n",
            "accuracy: 0.3828147411501463\n",
            "f1 score: 0.3828147411501463\n",
            "recall score: 0.3828147411501463\n",
            "precision score: 0.3828147411501463\n"
          ],
          "name": "stdout"
        },
        {
          "output_type": "stream",
          "text": [
            "/usr/local/lib/python3.7/dist-packages/sklearn/svm/_base.py:231: ConvergenceWarning:\n",
            "\n",
            "Solver terminated early (max_iter=31).  Consider pre-processing your data with StandardScaler or MinMaxScaler.\n",
            "\n",
            "\u001b[32m[I 2021-04-22 21:04:22,112]\u001b[0m Trial 18 finished with value: 0.09154889173631166 and parameters: {'c': 61, 'max_iter': 31}. Best is trial 0 with value: 0.4365354089770315.\u001b[0m\n"
          ],
          "name": "stderr"
        },
        {
          "output_type": "stream",
          "text": [
            "SVM model (c=61.000000):\n",
            "SVM model (max_iter=31.000000):\n",
            "accuracy: 0.09154889173631166\n",
            "f1 score: 0.09154889173631166\n",
            "recall score: 0.09154889173631166\n",
            "precision score: 0.09154889173631166\n"
          ],
          "name": "stdout"
        },
        {
          "output_type": "stream",
          "text": [
            "/usr/local/lib/python3.7/dist-packages/sklearn/svm/_base.py:231: ConvergenceWarning:\n",
            "\n",
            "Solver terminated early (max_iter=81).  Consider pre-processing your data with StandardScaler or MinMaxScaler.\n",
            "\n",
            "\u001b[32m[I 2021-04-22 21:04:32,378]\u001b[0m Trial 19 finished with value: 0.4365354089770315 and parameters: {'c': 11, 'max_iter': 81}. Best is trial 0 with value: 0.4365354089770315.\u001b[0m\n"
          ],
          "name": "stderr"
        },
        {
          "output_type": "stream",
          "text": [
            "SVM model (c=11.000000):\n",
            "SVM model (max_iter=81.000000):\n",
            "accuracy: 0.4365354089770315\n",
            "f1 score: 0.4365354089770315\n",
            "recall score: 0.4365354089770315\n",
            "precision score: 0.4365354089770315\n"
          ],
          "name": "stdout"
        }
      ]
    },
    {
      "cell_type": "markdown",
      "metadata": {
        "id": "zrVErRYLSxfk"
      },
      "source": [
        "### Logistic Regression"
      ]
    },
    {
      "cell_type": "code",
      "metadata": {
        "id": "oSr3UK8cI7pr"
      },
      "source": [
        "def lRegression(trial):\n",
        "    c = trial.suggest_int('c', 1, 2001, 100)\n",
        "    max_iter = trial.suggest_int('max_iter', 1, 1001, 100)\n",
        "    solver = trial.suggest_categorical('solver', ['sag', 'saga'])\n",
        "\n",
        "    with mlflow.start_run(run_name = str('LogisticRegression')):\n",
        "\n",
        "        lgr = LogisticRegression(C = c, max_iter = max_iter, solver = solver)\n",
        "        lgr.fit(Xtrain, ytrain)                  \n",
        "        y_model = lgr.predict(Xval)           \n",
        "          \n",
        "        (accuracy, f1score, recallscore, precisionscore) = eval_metrics(Yval, y_model)\n",
        "\n",
        "        print(\"lRegression model (c=%f):\" % (c))\n",
        "        print(\"lRegression model (max_iter=%f):\" % (max_iter))\n",
        "        print(\"lRegression model (solver=%s):\" % (solver))\n",
        "        print(\"accuracy: %s\" % accuracy)\n",
        "        print(\"f1 score: %s\" % f1score)\n",
        "        print(\"recall score: %s\" % recallscore)\n",
        "        print(\"precison score: %s\" % precisionscore)\n",
        "\n",
        "        mlflow.log_param(\"c\", c)\n",
        "        mlflow.log_param(\"max_iter\", max_iter)\n",
        "        mlflow.log_param(\"solver\", solver)\n",
        "\n",
        "        mlflow.log_metric(\"accuracy\", accuracy)\n",
        "        mlflow.log_metric(\"f1 score\", f1score)\n",
        "        mlflow.log_metric(\"recall score\", recallscore)\n",
        "        mlflow.log_metric(\"precision score\", precisionscore)\n",
        "\n",
        "        mlflow.end_run()\n",
        "\n",
        "    return accuracy\n",
        "    #92"
      ],
      "execution_count": null,
      "outputs": []
    },
    {
      "cell_type": "code",
      "metadata": {
        "id": "5CVRzTSj6IWY",
        "colab": {
          "base_uri": "https://localhost:8080/"
        },
        "outputId": "2434ac4f-2eee-46dc-f4c7-e364014d3f04"
      },
      "source": [
        "estudolr = optuna.create_study(direction=\"maximize\")\n",
        "estudolr.optimize(lRegression, n_trials=20)"
      ],
      "execution_count": null,
      "outputs": [
        {
          "output_type": "stream",
          "text": [
            "\u001b[32m[I 2021-04-22 21:45:48,249]\u001b[0m A new study created in memory with name: no-name-6717d37f-a143-44ae-a96c-905ec36345b6\u001b[0m\n",
            "/usr/local/lib/python3.7/dist-packages/sklearn/linear_model/_sag.py:330: ConvergenceWarning:\n",
            "\n",
            "The max_iter was reached which means the coef_ did not converge\n",
            "\n",
            "\u001b[32m[I 2021-04-22 21:46:04,625]\u001b[0m Trial 0 finished with value: 0.5580906117921551 and parameters: {'c': 1101, 'max_iter': 101, 'solver': 'saga'}. Best is trial 0 with value: 0.5580906117921551.\u001b[0m\n"
          ],
          "name": "stderr"
        },
        {
          "output_type": "stream",
          "text": [
            "lRegression model (c=1101.000000):\n",
            "lRegression model (max_iter=101.000000):\n",
            "lRegression model (solver=saga):\n",
            "accuracy: 0.5580906117921551\n",
            "f1 score: 0.5580906117921551\n",
            "recall score: 0.5580906117921551\n",
            "precison score: 0.5580906117921551\n"
          ],
          "name": "stdout"
        },
        {
          "output_type": "stream",
          "text": [
            "/usr/local/lib/python3.7/dist-packages/sklearn/linear_model/_sag.py:330: ConvergenceWarning:\n",
            "\n",
            "The max_iter was reached which means the coef_ did not converge\n",
            "\n",
            "\u001b[32m[I 2021-04-22 21:47:08,409]\u001b[0m Trial 1 finished with value: 0.5636749603167014 and parameters: {'c': 2001, 'max_iter': 401, 'solver': 'saga'}. Best is trial 1 with value: 0.5636749603167014.\u001b[0m\n"
          ],
          "name": "stderr"
        },
        {
          "output_type": "stream",
          "text": [
            "lRegression model (c=2001.000000):\n",
            "lRegression model (max_iter=401.000000):\n",
            "lRegression model (solver=saga):\n",
            "accuracy: 0.5636749603167014\n",
            "f1 score: 0.5636749603167014\n",
            "recall score: 0.5636749603167014\n",
            "precison score: 0.5636749603167014\n"
          ],
          "name": "stdout"
        },
        {
          "output_type": "stream",
          "text": [
            "/usr/local/lib/python3.7/dist-packages/sklearn/linear_model/_sag.py:330: ConvergenceWarning:\n",
            "\n",
            "The max_iter was reached which means the coef_ did not converge\n",
            "\n",
            "\u001b[32m[I 2021-04-22 21:48:42,611]\u001b[0m Trial 2 finished with value: 0.569144561953757 and parameters: {'c': 1101, 'max_iter': 701, 'solver': 'sag'}. Best is trial 2 with value: 0.569144561953757.\u001b[0m\n"
          ],
          "name": "stderr"
        },
        {
          "output_type": "stream",
          "text": [
            "lRegression model (c=1101.000000):\n",
            "lRegression model (max_iter=701.000000):\n",
            "lRegression model (solver=sag):\n",
            "accuracy: 0.569144561953757\n",
            "f1 score: 0.569144561953757\n",
            "recall score: 0.569144561953757\n",
            "precison score: 0.569144561953757\n"
          ],
          "name": "stdout"
        },
        {
          "output_type": "stream",
          "text": [
            "/usr/local/lib/python3.7/dist-packages/sklearn/linear_model/_sag.py:330: ConvergenceWarning:\n",
            "\n",
            "The max_iter was reached which means the coef_ did not converge\n",
            "\n",
            "\u001b[32m[I 2021-04-22 21:50:16,872]\u001b[0m Trial 3 finished with value: 0.569144561953757 and parameters: {'c': 1301, 'max_iter': 701, 'solver': 'sag'}. Best is trial 2 with value: 0.569144561953757.\u001b[0m\n"
          ],
          "name": "stderr"
        },
        {
          "output_type": "stream",
          "text": [
            "lRegression model (c=1301.000000):\n",
            "lRegression model (max_iter=701.000000):\n",
            "lRegression model (solver=sag):\n",
            "accuracy: 0.569144561953757\n",
            "f1 score: 0.569144561953757\n",
            "recall score: 0.569144561953757\n",
            "precison score: 0.569144561953757\n"
          ],
          "name": "stdout"
        },
        {
          "output_type": "stream",
          "text": [
            "/usr/local/lib/python3.7/dist-packages/sklearn/linear_model/_sag.py:330: ConvergenceWarning:\n",
            "\n",
            "The max_iter was reached which means the coef_ did not converge\n",
            "\n",
            "\u001b[32m[I 2021-04-22 21:52:54,440]\u001b[0m Trial 4 finished with value: 0.5673659851976515 and parameters: {'c': 301, 'max_iter': 1001, 'solver': 'saga'}. Best is trial 2 with value: 0.569144561953757.\u001b[0m\n"
          ],
          "name": "stderr"
        },
        {
          "output_type": "stream",
          "text": [
            "lRegression model (c=301.000000):\n",
            "lRegression model (max_iter=1001.000000):\n",
            "lRegression model (solver=saga):\n",
            "accuracy: 0.5673659851976515\n",
            "f1 score: 0.5673659851976515\n",
            "recall score: 0.5673659851976515\n",
            "precison score: 0.5673659851976515\n"
          ],
          "name": "stdout"
        },
        {
          "output_type": "stream",
          "text": [
            "/usr/local/lib/python3.7/dist-packages/sklearn/linear_model/_sag.py:330: ConvergenceWarning:\n",
            "\n",
            "The max_iter was reached which means the coef_ did not converge\n",
            "\n",
            "\u001b[32m[I 2021-04-22 21:54:42,012]\u001b[0m Trial 5 finished with value: 0.5695653005412228 and parameters: {'c': 301, 'max_iter': 801, 'solver': 'sag'}. Best is trial 5 with value: 0.5695653005412228.\u001b[0m\n"
          ],
          "name": "stderr"
        },
        {
          "output_type": "stream",
          "text": [
            "lRegression model (c=301.000000):\n",
            "lRegression model (max_iter=801.000000):\n",
            "lRegression model (solver=sag):\n",
            "accuracy: 0.5695653005412228\n",
            "f1 score: 0.5695653005412228\n",
            "recall score: 0.5695653005412228\n",
            "precison score: 0.5695653005412228\n"
          ],
          "name": "stdout"
        },
        {
          "output_type": "stream",
          "text": [
            "/usr/local/lib/python3.7/dist-packages/sklearn/linear_model/_sag.py:330: ConvergenceWarning:\n",
            "\n",
            "The max_iter was reached which means the coef_ did not converge\n",
            "\n",
            "\u001b[32m[I 2021-04-22 21:54:58,012]\u001b[0m Trial 6 finished with value: 0.5581671097171489 and parameters: {'c': 1601, 'max_iter': 101, 'solver': 'saga'}. Best is trial 5 with value: 0.5695653005412228.\u001b[0m\n"
          ],
          "name": "stderr"
        },
        {
          "output_type": "stream",
          "text": [
            "lRegression model (c=1601.000000):\n",
            "lRegression model (max_iter=101.000000):\n",
            "lRegression model (solver=saga):\n",
            "accuracy: 0.5581671097171489\n",
            "f1 score: 0.5581671097171489\n",
            "recall score: 0.5581671097171489\n",
            "precison score: 0.5581671097171489\n"
          ],
          "name": "stdout"
        },
        {
          "output_type": "stream",
          "text": [
            "/usr/local/lib/python3.7/dist-packages/sklearn/linear_model/_sag.py:330: ConvergenceWarning:\n",
            "\n",
            "The max_iter was reached which means the coef_ did not converge\n",
            "\n",
            "\u001b[32m[I 2021-04-22 21:56:05,275]\u001b[0m Trial 7 finished with value: 0.5673659851976515 and parameters: {'c': 701, 'max_iter': 501, 'solver': 'sag'}. Best is trial 5 with value: 0.5695653005412228.\u001b[0m\n"
          ],
          "name": "stderr"
        },
        {
          "output_type": "stream",
          "text": [
            "lRegression model (c=701.000000):\n",
            "lRegression model (max_iter=501.000000):\n",
            "lRegression model (solver=sag):\n",
            "accuracy: 0.5673659851976515\n",
            "f1 score: 0.5673659851976515\n",
            "recall score: 0.5673659851976515\n",
            "precison score: 0.5673659851976515\n"
          ],
          "name": "stdout"
        },
        {
          "output_type": "stream",
          "text": [
            "/usr/local/lib/python3.7/dist-packages/sklearn/linear_model/_sag.py:330: ConvergenceWarning:\n",
            "\n",
            "The max_iter was reached which means the coef_ did not converge\n",
            "\n",
            "\u001b[32m[I 2021-04-22 21:56:32,308]\u001b[0m Trial 8 finished with value: 0.5637323337604467 and parameters: {'c': 1001, 'max_iter': 201, 'solver': 'sag'}. Best is trial 5 with value: 0.5695653005412228.\u001b[0m\n"
          ],
          "name": "stderr"
        },
        {
          "output_type": "stream",
          "text": [
            "lRegression model (c=1001.000000):\n",
            "lRegression model (max_iter=201.000000):\n",
            "lRegression model (solver=sag):\n",
            "accuracy: 0.5637323337604467\n",
            "f1 score: 0.5637323337604467\n",
            "recall score: 0.5637323337604467\n",
            "precison score: 0.5637323337604467\n"
          ],
          "name": "stdout"
        },
        {
          "output_type": "stream",
          "text": [
            "/usr/local/lib/python3.7/dist-packages/sklearn/linear_model/_sag.py:330: ConvergenceWarning:\n",
            "\n",
            "The max_iter was reached which means the coef_ did not converge\n",
            "\n",
            "\u001b[32m[I 2021-04-22 21:58:22,286]\u001b[0m Trial 9 finished with value: 0.5659890225477634 and parameters: {'c': 1601, 'max_iter': 701, 'solver': 'saga'}. Best is trial 5 with value: 0.5695653005412228.\u001b[0m\n"
          ],
          "name": "stderr"
        },
        {
          "output_type": "stream",
          "text": [
            "lRegression model (c=1601.000000):\n",
            "lRegression model (max_iter=701.000000):\n",
            "lRegression model (solver=saga):\n",
            "accuracy: 0.5659890225477634\n",
            "f1 score: 0.5659890225477634\n",
            "recall score: 0.5659890225477634\n",
            "precison score: 0.5659890225477634\n"
          ],
          "name": "stdout"
        },
        {
          "output_type": "stream",
          "text": [
            "/usr/local/lib/python3.7/dist-packages/sklearn/linear_model/_sag.py:330: ConvergenceWarning:\n",
            "\n",
            "The max_iter was reached which means the coef_ did not converge\n",
            "\n",
            "\u001b[32m[I 2021-04-22 22:00:38,906]\u001b[0m Trial 10 finished with value: 0.5709805121536078 and parameters: {'c': 1, 'max_iter': 1001, 'solver': 'sag'}. Best is trial 10 with value: 0.5709805121536078.\u001b[0m\n"
          ],
          "name": "stderr"
        },
        {
          "output_type": "stream",
          "text": [
            "lRegression model (c=1.000000):\n",
            "lRegression model (max_iter=1001.000000):\n",
            "lRegression model (solver=sag):\n",
            "accuracy: 0.5709805121536078\n",
            "f1 score: 0.5709805121536078\n",
            "recall score: 0.5709805121536078\n",
            "precison score: 0.5709805121536078\n"
          ],
          "name": "stdout"
        },
        {
          "output_type": "stream",
          "text": [
            "/usr/local/lib/python3.7/dist-packages/sklearn/linear_model/_sag.py:330: ConvergenceWarning:\n",
            "\n",
            "The max_iter was reached which means the coef_ did not converge\n",
            "\n",
            "\u001b[32m[I 2021-04-22 22:02:57,057]\u001b[0m Trial 11 finished with value: 0.5709805121536078 and parameters: {'c': 1, 'max_iter': 1001, 'solver': 'sag'}. Best is trial 10 with value: 0.5709805121536078.\u001b[0m\n"
          ],
          "name": "stderr"
        },
        {
          "output_type": "stream",
          "text": [
            "lRegression model (c=1.000000):\n",
            "lRegression model (max_iter=1001.000000):\n",
            "lRegression model (solver=sag):\n",
            "accuracy: 0.5709805121536078\n",
            "f1 score: 0.5709805121536078\n",
            "recall score: 0.5709805121536078\n",
            "precison score: 0.5709805121536078\n"
          ],
          "name": "stdout"
        },
        {
          "output_type": "stream",
          "text": [
            "/usr/local/lib/python3.7/dist-packages/sklearn/linear_model/_sag.py:330: ConvergenceWarning:\n",
            "\n",
            "The max_iter was reached which means the coef_ did not converge\n",
            "\n",
            "\u001b[32m[I 2021-04-22 22:05:11,702]\u001b[0m Trial 12 finished with value: 0.5709996366348563 and parameters: {'c': 1, 'max_iter': 1001, 'solver': 'sag'}. Best is trial 12 with value: 0.5709996366348563.\u001b[0m\n"
          ],
          "name": "stderr"
        },
        {
          "output_type": "stream",
          "text": [
            "lRegression model (c=1.000000):\n",
            "lRegression model (max_iter=1001.000000):\n",
            "lRegression model (solver=sag):\n",
            "accuracy: 0.5709996366348563\n",
            "f1 score: 0.5709996366348563\n",
            "recall score: 0.5709996366348563\n",
            "precison score: 0.5709996366348563\n"
          ],
          "name": "stdout"
        },
        {
          "output_type": "stream",
          "text": [
            "/usr/local/lib/python3.7/dist-packages/sklearn/linear_model/_sag.py:330: ConvergenceWarning:\n",
            "\n",
            "The max_iter was reached which means the coef_ did not converge\n",
            "\n",
            "\u001b[32m[I 2021-04-22 22:07:29,018]\u001b[0m Trial 13 finished with value: 0.5709805121536078 and parameters: {'c': 1, 'max_iter': 1001, 'solver': 'sag'}. Best is trial 12 with value: 0.5709996366348563.\u001b[0m\n"
          ],
          "name": "stderr"
        },
        {
          "output_type": "stream",
          "text": [
            "lRegression model (c=1.000000):\n",
            "lRegression model (max_iter=1001.000000):\n",
            "lRegression model (solver=sag):\n",
            "accuracy: 0.5709805121536078\n",
            "f1 score: 0.5709805121536078\n",
            "recall score: 0.5709805121536078\n",
            "precison score: 0.5709805121536078\n"
          ],
          "name": "stdout"
        },
        {
          "output_type": "stream",
          "text": [
            "/usr/local/lib/python3.7/dist-packages/sklearn/linear_model/_sag.py:330: ConvergenceWarning:\n",
            "\n",
            "The max_iter was reached which means the coef_ did not converge\n",
            "\n",
            "\u001b[32m[I 2021-04-22 22:09:31,365]\u001b[0m Trial 14 finished with value: 0.5701772839411731 and parameters: {'c': 501, 'max_iter': 901, 'solver': 'sag'}. Best is trial 12 with value: 0.5709996366348563.\u001b[0m\n"
          ],
          "name": "stderr"
        },
        {
          "output_type": "stream",
          "text": [
            "lRegression model (c=501.000000):\n",
            "lRegression model (max_iter=901.000000):\n",
            "lRegression model (solver=sag):\n",
            "accuracy: 0.5701772839411731\n",
            "f1 score: 0.5701772839411731\n",
            "recall score: 0.5701772839411731\n",
            "precison score: 0.5701772839411731\n"
          ],
          "name": "stdout"
        },
        {
          "output_type": "stream",
          "text": [
            "/usr/local/lib/python3.7/dist-packages/sklearn/linear_model/_sag.py:330: ConvergenceWarning:\n",
            "\n",
            "The max_iter was reached which means the coef_ did not converge\n",
            "\n",
            "\u001b[32m[I 2021-04-22 22:11:32,799]\u001b[0m Trial 15 finished with value: 0.5701964084224216 and parameters: {'c': 1, 'max_iter': 901, 'solver': 'sag'}. Best is trial 12 with value: 0.5709996366348563.\u001b[0m\n"
          ],
          "name": "stderr"
        },
        {
          "output_type": "stream",
          "text": [
            "lRegression model (c=1.000000):\n",
            "lRegression model (max_iter=901.000000):\n",
            "lRegression model (solver=sag):\n",
            "accuracy: 0.5701964084224216\n",
            "f1 score: 0.5701964084224216\n",
            "recall score: 0.5701964084224216\n",
            "precison score: 0.5701964084224216\n"
          ],
          "name": "stdout"
        },
        {
          "output_type": "stream",
          "text": [
            "/usr/local/lib/python3.7/dist-packages/sklearn/linear_model/_sag.py:330: ConvergenceWarning:\n",
            "\n",
            "The max_iter was reached which means the coef_ did not converge\n",
            "\n",
            "\u001b[32m[I 2021-04-22 22:12:40,192]\u001b[0m Trial 16 finished with value: 0.5673659851976515 and parameters: {'c': 301, 'max_iter': 501, 'solver': 'sag'}. Best is trial 12 with value: 0.5709996366348563.\u001b[0m\n"
          ],
          "name": "stderr"
        },
        {
          "output_type": "stream",
          "text": [
            "lRegression model (c=301.000000):\n",
            "lRegression model (max_iter=501.000000):\n",
            "lRegression model (solver=sag):\n",
            "accuracy: 0.5673659851976515\n",
            "f1 score: 0.5673659851976515\n",
            "recall score: 0.5673659851976515\n",
            "precison score: 0.5673659851976515\n"
          ],
          "name": "stdout"
        },
        {
          "output_type": "stream",
          "text": [
            "/usr/local/lib/python3.7/dist-packages/sklearn/linear_model/_sag.py:330: ConvergenceWarning:\n",
            "\n",
            "The max_iter was reached which means the coef_ did not converge\n",
            "\n",
            "\u001b[32m[I 2021-04-22 22:14:27,549]\u001b[0m Trial 17 finished with value: 0.5695653005412228 and parameters: {'c': 701, 'max_iter': 801, 'solver': 'sag'}. Best is trial 12 with value: 0.5709996366348563.\u001b[0m\n"
          ],
          "name": "stderr"
        },
        {
          "output_type": "stream",
          "text": [
            "lRegression model (c=701.000000):\n",
            "lRegression model (max_iter=801.000000):\n",
            "lRegression model (solver=sag):\n",
            "accuracy: 0.5695653005412228\n",
            "f1 score: 0.5695653005412228\n",
            "recall score: 0.5695653005412228\n",
            "precison score: 0.5695653005412228\n"
          ],
          "name": "stdout"
        },
        {
          "output_type": "stream",
          "text": [
            "/usr/local/lib/python3.7/dist-packages/sklearn/linear_model/_sag.py:330: ConvergenceWarning:\n",
            "\n",
            "The max_iter was reached which means the coef_ did not converge\n",
            "\n",
            "\u001b[32m[I 2021-04-22 22:15:07,972]\u001b[0m Trial 18 finished with value: 0.5653387901853162 and parameters: {'c': 101, 'max_iter': 301, 'solver': 'sag'}. Best is trial 12 with value: 0.5709996366348563.\u001b[0m\n"
          ],
          "name": "stderr"
        },
        {
          "output_type": "stream",
          "text": [
            "lRegression model (c=101.000000):\n",
            "lRegression model (max_iter=301.000000):\n",
            "lRegression model (solver=sag):\n",
            "accuracy: 0.5653387901853162\n",
            "f1 score: 0.5653387901853162\n",
            "recall score: 0.5653387901853162\n",
            "precison score: 0.5653387901853162\n"
          ],
          "name": "stdout"
        },
        {
          "output_type": "stream",
          "text": [
            "/usr/local/lib/python3.7/dist-packages/sklearn/linear_model/_sag.py:330: ConvergenceWarning:\n",
            "\n",
            "The max_iter was reached which means the coef_ did not converge\n",
            "\n",
            "\u001b[32m[I 2021-04-22 22:16:28,717]\u001b[0m Trial 19 finished with value: 0.5682265868538315 and parameters: {'c': 601, 'max_iter': 601, 'solver': 'sag'}. Best is trial 12 with value: 0.5709996366348563.\u001b[0m\n"
          ],
          "name": "stderr"
        },
        {
          "output_type": "stream",
          "text": [
            "lRegression model (c=601.000000):\n",
            "lRegression model (max_iter=601.000000):\n",
            "lRegression model (solver=sag):\n",
            "accuracy: 0.5682265868538315\n",
            "f1 score: 0.5682265868538315\n",
            "recall score: 0.5682265868538315\n",
            "precison score: 0.5682265868538315\n"
          ],
          "name": "stdout"
        }
      ]
    },
    {
      "cell_type": "markdown",
      "metadata": {
        "id": "uwHVfp3IQwcA"
      },
      "source": [
        "### 5.2. Selecionar o modelo (algoritmo+valores de hiper-parâmetros) com melhor resultado na métrica de avaliação "
      ]
    },
    {
      "cell_type": "code",
      "metadata": {
        "id": "RvEMCntqRmaE"
      },
      "source": [
        "modelNB = GaussianNB(var_smoothing = 7.997191299171968e-09)  \n",
        "modelsvc = SVC(C = 11, max_iter = 81)  \n",
        "modellr = LogisticRegression(C = 1, max_iter = 1001, solver = 'sag')      \n",
        "modelMLP = MLPClassifier(learning_rate = 'adaptive', max_iter = 200, random_state = 1)    "
      ],
      "execution_count": null,
      "outputs": []
    },
    {
      "cell_type": "markdown",
      "metadata": {
        "id": "bMWZVHvWRGkr"
      },
      "source": [
        " ### 5.3. Executar o melhor modelo de cada algortimo no cojunto de teste e selcionar o melhor modelog geral na métrica de avaliação"
      ]
    },
    {
      "cell_type": "code",
      "metadata": {
        "colab": {
          "base_uri": "https://localhost:8080/"
        },
        "id": "uA2as1B_OXi4",
        "outputId": "be76106c-41e5-421e-f888-a065695bc6e1"
      },
      "source": [
        "modelNB = GaussianNB(var_smoothing = 7.997191299171968e-09)                      \n",
        "modelNB.fit(Xtrain, ytrain)                  \n",
        "y_modelNB = modelNB.predict(Xtest)     \n",
        "\n",
        "(accuracyNB, f1scoreNB, recallscoreNB, precisionscoreNB) = eval_metrics(ytest, y_modelNB)    \n",
        "\n",
        "print(accuracyNB)\n",
        "print(f1scoreNB)\n",
        "print(recallscoreNB)\n",
        "print(precisionscoreNB)\n",
        "\n"
      ],
      "execution_count": null,
      "outputs": [
        {
          "output_type": "stream",
          "text": [
            "0.5621366279069767\n",
            "0.5621366279069767\n",
            "0.5621366279069767\n",
            "0.5621366279069767\n"
          ],
          "name": "stdout"
        }
      ]
    },
    {
      "cell_type": "code",
      "metadata": {
        "id": "7GlpvsMPQzIc",
        "colab": {
          "base_uri": "https://localhost:8080/"
        },
        "outputId": "7f2ef560-968e-4257-ebea-33be74671922"
      },
      "source": [
        "modelMLP = MLPClassifier(learning_rate = 'adaptive', max_iter = 200, random_state = 1)                 \n",
        "modelMLP.fit(Xtrain, ytrain)                  \n",
        "y_modelMLP = modelMLP.predict(Xtest)         \n",
        "(accuracyMLP, f1scoreMLP, recallscoreMLP, precisionscorelr) = eval_metrics(ytest, y_modelMLP)\n",
        "print(accuracyMLP)\n",
        "print(f1scoreMLP)\n",
        "print(recallscoreMLP)   \n",
        "print(precisionscorelr) "
      ],
      "execution_count": null,
      "outputs": [
        {
          "output_type": "stream",
          "text": [
            "/usr/local/lib/python3.7/dist-packages/sklearn/neural_network/_multilayer_perceptron.py:571: ConvergenceWarning:\n",
            "\n",
            "Stochastic Optimizer: Maximum iterations (200) reached and the optimization hasn't converged yet.\n",
            "\n"
          ],
          "name": "stderr"
        },
        {
          "output_type": "stream",
          "text": [
            "0.5808024785801713\n",
            "0.5808024785801713\n",
            "0.5808024785801713\n",
            "0.5808024785801713\n"
          ],
          "name": "stdout"
        }
      ]
    },
    {
      "cell_type": "code",
      "metadata": {
        "colab": {
          "base_uri": "https://localhost:8080/"
        },
        "id": "n6ekr7EURxqq",
        "outputId": "495cef5b-38c8-4390-967d-13a396068f32"
      },
      "source": [
        "modelsvc = SVC(C = 11, max_iter = 81)                 \n",
        "modelsvc.fit(Xtrain, ytrain)                  \n",
        "y_modelsvc = modelsvc.predict(Xtest)   \n",
        "(accuracyscv, f1scoresvc, recallscoresvc, precisionscoresvc) = eval_metrics(ytest, y_modelsvc)           \n",
        "print(accuracyscv)\n",
        "print(f1scoresvc)\n",
        "print(recallscoresvc)\n",
        "print(precisionscoresvc)"
      ],
      "execution_count": null,
      "outputs": [
        {
          "output_type": "stream",
          "text": [
            "/usr/local/lib/python3.7/dist-packages/sklearn/svm/_base.py:231: ConvergenceWarning:\n",
            "\n",
            "Solver terminated early (max_iter=81).  Consider pre-processing your data with StandardScaler or MinMaxScaler.\n",
            "\n"
          ],
          "name": "stderr"
        },
        {
          "output_type": "stream",
          "text": [
            "0.4349181456548348\n",
            "0.4349181456548348\n",
            "0.4349181456548348\n",
            "0.4349181456548348\n"
          ],
          "name": "stdout"
        }
      ]
    },
    {
      "cell_type": "code",
      "metadata": {
        "id": "eVqOZDyFUDcS",
        "colab": {
          "base_uri": "https://localhost:8080/"
        },
        "outputId": "4cddb37a-caa3-40af-e99e-9ca9bfa171ce"
      },
      "source": [
        "modellr = LogisticRegression(C = 1, max_iter = 1001, solver = 'sag')                \n",
        "modellr.fit(Xtrain, ytrain)                  \n",
        "y_modellr = modellr.predict(Xtest)      \n",
        "\n",
        "(accuracylr, f1scorelr, recallscorelr, precisionscorelr) = eval_metrics(ytest, y_modellr) \n",
        "print(accuracylr)\n",
        "print(f1scorelr)\n",
        "print(recallscorelr)\n",
        "print(precisionscorelr)"
      ],
      "execution_count": null,
      "outputs": [
        {
          "output_type": "stream",
          "text": [
            "0.5725596695226438\n",
            "0.5725596695226438\n",
            "0.5725596695226438\n",
            "0.5725596695226438\n"
          ],
          "name": "stdout"
        },
        {
          "output_type": "stream",
          "text": [
            "/usr/local/lib/python3.7/dist-packages/sklearn/linear_model/_sag.py:330: ConvergenceWarning:\n",
            "\n",
            "The max_iter was reached which means the coef_ did not converge\n",
            "\n"
          ],
          "name": "stderr"
        }
      ]
    },
    {
      "cell_type": "markdown",
      "metadata": {
        "id": "AdjG-Ki1UAJX"
      },
      "source": [
        "## • 6.  Realizar diagnóstico do melhor modelo da etapa 5 e melhorá-lo a partir do diagnóstico \n",
        "\n"
      ]
    },
    {
      "cell_type": "markdown",
      "metadata": {
        "id": "2RtQkxvkfvrB"
      },
      "source": [
        "A partir do slide de Classificação, podemos fazer o diagnóstico do modelo para melhorar colocando ou removendo mais dados; adicionando ou removendo mais features; ou usando um modelo mais ou menos complexo. Nesse caso, testando adicionando mais features, três colunas a mais que tinhamos retirado no começo (pre-processamento), porém a diferença foi pouco significativa: 4 casas decimais. Nesse caso, o mais interessante seria retirar algumas colunas que mantivemos e testar novamente para verificar se teriamos melhor performance com o modelo MLP. A variancia ficou baixa, entretanto o a performance de acurácia da predição ficou baixa em ambos conjuntos de dados usados para predizer, tanto no de teste, quanto no de treinamento. "
      ]
    },
    {
      "cell_type": "code",
      "metadata": {
        "colab": {
          "base_uri": "https://localhost:8080/"
        },
        "id": "t4EmGDeYa0HZ",
        "outputId": "2fecfc6f-8743-4cd7-9758-e20f4477af62"
      },
      "source": [
        "#Divisão de dados\n",
        "Xtrain, Xtest, ytrain, ytest = train_test_split(dfmelhoria, y_df, random_state=1, test_size=0.5)\n",
        "Xtest, Xval, ytest, Yval = train_test_split(Xtest, ytest, random_state=1, test_size=0.5)\n",
        "print(Xtrain.shape, Xtest.shape, Xval.shape)"
      ],
      "execution_count": null,
      "outputs": [
        {
          "output_type": "stream",
          "text": [
            "(104576, 24) (52288, 24) (52289, 24)\n"
          ],
          "name": "stdout"
        }
      ]
    },
    {
      "cell_type": "code",
      "metadata": {
        "id": "aKof7PVSbfaQ",
        "colab": {
          "base_uri": "https://localhost:8080/"
        },
        "outputId": "bd584015-b3ff-4a84-cfc0-3fe5786adf2a"
      },
      "source": [
        "modelMLP = MLPClassifier(learning_rate = 'adaptive', max_iter = 200, random_state = 1)                 \n",
        "modelMLP.fit(Xtrain, ytrain)                  \n",
        "y_modelMLP = modelMLP.predict(Xtest)         \n",
        "(accuracyMLP, f1scoreMLP, recallscoreMLP, precisionscorelr) = eval_metrics(ytest, y_modelMLP)\n",
        "print(accuracyMLP)\n",
        "print(f1scoreMLP)\n",
        "print(recallscoreMLP)   \n",
        "print(precisionscorelr) "
      ],
      "execution_count": null,
      "outputs": [
        {
          "output_type": "stream",
          "text": [
            "/usr/local/lib/python3.7/dist-packages/sklearn/neural_network/_multilayer_perceptron.py:571: ConvergenceWarning:\n",
            "\n",
            "Stochastic Optimizer: Maximum iterations (200) reached and the optimization hasn't converged yet.\n",
            "\n"
          ],
          "name": "stderr"
        },
        {
          "output_type": "stream",
          "text": [
            "0.5808024785801713\n",
            "0.5808024785801713\n",
            "0.5808024785801713\n",
            "0.5808024785801713\n"
          ],
          "name": "stdout"
        }
      ]
    },
    {
      "cell_type": "code",
      "metadata": {
        "id": "E9nOpRMWmg8R",
        "colab": {
          "base_uri": "https://localhost:8080/"
        },
        "outputId": "1f2dff6e-3750-440b-dca3-d9bf3354adab"
      },
      "source": [
        "modelMLP = MLPClassifier(learning_rate = 'adaptive', max_iter = 200, random_state = 1)                 \n",
        "modelMLP.fit(Xtrain, ytrain)                  \n",
        "y_modelMLP = modelMLP.predict(Xtrain)         \n",
        "(accuracyMLP, f1scoreMLP, recallscoreMLP, precisionscorelr) = eval_metrics(ytrain, y_modelMLP)\n",
        "print(accuracyMLP)\n",
        "print(f1scoreMLP)\n",
        "print(recallscoreMLP)   \n",
        "print(precisionscorelr) "
      ],
      "execution_count": null,
      "outputs": [
        {
          "output_type": "stream",
          "text": [
            "/usr/local/lib/python3.7/dist-packages/sklearn/neural_network/_multilayer_perceptron.py:571: ConvergenceWarning:\n",
            "\n",
            "Stochastic Optimizer: Maximum iterations (200) reached and the optimization hasn't converged yet.\n",
            "\n"
          ],
          "name": "stderr"
        },
        {
          "output_type": "stream",
          "text": [
            "0.5767958231334149\n",
            "0.5767958231334149\n",
            "0.5767958231334149\n",
            "0.5767958231334149\n"
          ],
          "name": "stdout"
        }
      ]
    },
    {
      "cell_type": "markdown",
      "metadata": {
        "id": "_xiRZODyUDEm"
      },
      "source": [
        "## • Bônus: Utilizar auto-sklearn, clustering para entendimento dos dados \n"
      ]
    }
  ]
}